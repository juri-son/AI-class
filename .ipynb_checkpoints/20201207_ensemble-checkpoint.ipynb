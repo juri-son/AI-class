{
 "cells": [
  {
   "cell_type": "markdown",
   "metadata": {},
   "source": [
    "### 앙상블(ensemble)이란?\n",
    "* 여러 머신러닝 모델을 연결해서 만든다.\n",
    "* 랜덤 포레스트(Random Forest)와 그래디언트 부스팅(Gradient Boosting)"
   ]
  },
  {
   "cell_type": "code",
   "execution_count": 2,
   "metadata": {},
   "outputs": [],
   "source": [
    "from sklearn.ensemble import RandomForestRegressor\n",
    "from sklearn.datasets import make_moons\n",
    "from sklearn.model_selection import train_test_split\n",
    "import matplotlib.pyplot as plt\n",
    "import numpy as np"
   ]
  },
  {
   "cell_type": "code",
   "execution_count": 5,
   "metadata": {},
   "outputs": [],
   "source": [
    "import pandas as pd\n",
    "\n",
    "train = pd.read_csv(\"train.csv\")\n",
    "test = pd.read_csv(\"test.csv\")\n",
    "sub = pd.read_csv(\"sample_submission.csv\")"
   ]
  },
  {
   "cell_type": "code",
   "execution_count": 6,
   "metadata": {},
   "outputs": [
    {
     "data": {
      "text/plain": [
       "Index(['id', 'date', 'price', 'bedrooms', 'bathrooms', 'sqft_living',\n",
       "       'sqft_lot', 'floors', 'waterfront', 'view', 'condition', 'grade',\n",
       "       'sqft_above', 'sqft_basement', 'yr_built', 'yr_renovated', 'zipcode',\n",
       "       'lat', 'long', 'sqft_living15', 'sqft_lot15'],\n",
       "      dtype='object')"
      ]
     },
     "execution_count": 6,
     "metadata": {},
     "output_type": "execute_result"
    }
   ],
   "source": [
    "train.columns"
   ]
  },
  {
   "cell_type": "code",
   "execution_count": 7,
   "metadata": {},
   "outputs": [
    {
     "data": {
      "text/plain": [
       "((15035, 21), (6555, 20), (6468, 2))"
      ]
     },
     "execution_count": 7,
     "metadata": {},
     "output_type": "execute_result"
    }
   ],
   "source": [
    "train.shape, test.shape, sub.shape"
   ]
  },
  {
   "cell_type": "code",
   "execution_count": 8,
   "metadata": {},
   "outputs": [
    {
     "data": {
      "text/plain": [
       "Index(['id', 'date', 'bedrooms', 'bathrooms', 'sqft_living', 'sqft_lot',\n",
       "       'floors', 'waterfront', 'view', 'condition', 'grade', 'sqft_above',\n",
       "       'sqft_basement', 'yr_built', 'yr_renovated', 'zipcode', 'lat', 'long',\n",
       "       'sqft_living15', 'sqft_lot15'],\n",
       "      dtype='object')"
      ]
     },
     "execution_count": 8,
     "metadata": {},
     "output_type": "execute_result"
    }
   ],
   "source": [
    "test.columns"
   ]
  },
  {
   "cell_type": "code",
   "execution_count": 11,
   "metadata": {},
   "outputs": [
    {
     "data": {
      "text/plain": [
       "(array([1.3258e+04, 1.4770e+03, 2.1000e+02, 6.4000e+01, 1.8000e+01,\n",
       "        1.0000e+00, 3.0000e+00, 1.0000e+00, 1.0000e+00, 2.0000e+00]),\n",
       " array([  78000.,  840200., 1602400., 2364600., 3126800., 3889000.,\n",
       "        4651200., 5413400., 6175600., 6937800., 7700000.]),\n",
       " <a list of 10 Patch objects>)"
      ]
     },
     "execution_count": 11,
     "metadata": {},
     "output_type": "execute_result"
    },
    {
     "data": {
      "image/png": "[encoded data removed]",
      "text/plain": [
       "<Figure size 432x288 with 1 Axes>"
      ]
     },
     "metadata": {
      "needs_background": "light"
     },
     "output_type": "display_data"
    }
   ],
   "source": [
    "plt.hist(train['price'])"
   ]
  },
  {
   "cell_type": "code",
   "execution_count": 9,
   "metadata": {},
   "outputs": [],
   "source": [
    "X_all = train.drop(['price'], axis=1) #drop: 하나를 삭제. 0이면 행 기준 삭제, 1이면 열 기준 삭제.\n",
    "y = train['price']"
   ]
  },
  {
   "cell_type": "code",
   "execution_count": 10,
   "metadata": {},
   "outputs": [
    {
     "data": {
      "text/html": [
       "<div>\n",
       "<style scoped>\n",
       "    .dataframe tbody tr th:only-of-type {\n",
       "        vertical-align: middle;\n",
       "    }\n",
       "\n",
       "    .dataframe tbody tr th {\n",
       "        vertical-align: top;\n",
       "    }\n",
       "\n",
       "    .dataframe thead th {\n",
       "        text-align: right;\n",
       "    }\n",
       "</style>\n",
       "<table border=\"1\" class=\"dataframe\">\n",
       "  <thead>\n",
       "    <tr style=\"text-align: right;\">\n",
       "      <th></th>\n",
       "      <th>id</th>\n",
       "      <th>price</th>\n",
       "      <th>bedrooms</th>\n",
       "      <th>bathrooms</th>\n",
       "      <th>sqft_living</th>\n",
       "      <th>sqft_lot</th>\n",
       "      <th>floors</th>\n",
       "      <th>waterfront</th>\n",
       "      <th>view</th>\n",
       "      <th>condition</th>\n",
       "      <th>grade</th>\n",
       "      <th>sqft_above</th>\n",
       "      <th>sqft_basement</th>\n",
       "      <th>yr_built</th>\n",
       "      <th>yr_renovated</th>\n",
       "      <th>zipcode</th>\n",
       "      <th>lat</th>\n",
       "      <th>long</th>\n",
       "      <th>sqft_living15</th>\n",
       "      <th>sqft_lot15</th>\n",
       "    </tr>\n",
       "  </thead>\n",
       "  <tbody>\n",
       "    <tr>\n",
       "      <th>id</th>\n",
       "      <td>1.000000</td>\n",
       "      <td>0.020899</td>\n",
       "      <td>0.010520</td>\n",
       "      <td>0.104030</td>\n",
       "      <td>0.041725</td>\n",
       "      <td>-0.034077</td>\n",
       "      <td>0.182848</td>\n",
       "      <td>-0.011775</td>\n",
       "      <td>-0.024360</td>\n",
       "      <td>-0.101618</td>\n",
       "      <td>0.078622</td>\n",
       "      <td>0.073086</td>\n",
       "      <td>-0.050634</td>\n",
       "      <td>0.202477</td>\n",
       "      <td>-0.029810</td>\n",
       "      <td>-0.005761</td>\n",
       "      <td>0.002588</td>\n",
       "      <td>0.014757</td>\n",
       "      <td>0.029248</td>\n",
       "      <td>-0.032269</td>\n",
       "    </tr>\n",
       "    <tr>\n",
       "      <th>price</th>\n",
       "      <td>0.020899</td>\n",
       "      <td>1.000000</td>\n",
       "      <td>0.323672</td>\n",
       "      <td>0.525479</td>\n",
       "      <td>0.702899</td>\n",
       "      <td>0.096793</td>\n",
       "      <td>0.262588</td>\n",
       "      <td>0.265738</td>\n",
       "      <td>0.400806</td>\n",
       "      <td>0.039740</td>\n",
       "      <td>0.667211</td>\n",
       "      <td>0.608577</td>\n",
       "      <td>0.322218</td>\n",
       "      <td>0.047290</td>\n",
       "      <td>0.140808</td>\n",
       "      <td>-0.051498</td>\n",
       "      <td>0.301604</td>\n",
       "      <td>0.023547</td>\n",
       "      <td>0.586419</td>\n",
       "      <td>0.086384</td>\n",
       "    </tr>\n",
       "    <tr>\n",
       "      <th>bedrooms</th>\n",
       "      <td>0.010520</td>\n",
       "      <td>0.323672</td>\n",
       "      <td>1.000000</td>\n",
       "      <td>0.530548</td>\n",
       "      <td>0.596974</td>\n",
       "      <td>0.033475</td>\n",
       "      <td>0.189532</td>\n",
       "      <td>-0.004819</td>\n",
       "      <td>0.085703</td>\n",
       "      <td>0.034885</td>\n",
       "      <td>0.375286</td>\n",
       "      <td>0.494867</td>\n",
       "      <td>0.315183</td>\n",
       "      <td>0.158799</td>\n",
       "      <td>0.022729</td>\n",
       "      <td>-0.162081</td>\n",
       "      <td>-0.011190</td>\n",
       "      <td>0.135802</td>\n",
       "      <td>0.407394</td>\n",
       "      <td>0.027242</td>\n",
       "    </tr>\n",
       "    <tr>\n",
       "      <th>bathrooms</th>\n",
       "      <td>0.104030</td>\n",
       "      <td>0.525479</td>\n",
       "      <td>0.530548</td>\n",
       "      <td>1.000000</td>\n",
       "      <td>0.755853</td>\n",
       "      <td>0.089308</td>\n",
       "      <td>0.508649</td>\n",
       "      <td>0.075452</td>\n",
       "      <td>0.187488</td>\n",
       "      <td>-0.125907</td>\n",
       "      <td>0.666278</td>\n",
       "      <td>0.688255</td>\n",
       "      <td>0.282642</td>\n",
       "      <td>0.503964</td>\n",
       "      <td>0.065423</td>\n",
       "      <td>-0.207500</td>\n",
       "      <td>0.018110</td>\n",
       "      <td>0.227669</td>\n",
       "      <td>0.573541</td>\n",
       "      <td>0.088120</td>\n",
       "    </tr>\n",
       "    <tr>\n",
       "      <th>sqft_living</th>\n",
       "      <td>0.041725</td>\n",
       "      <td>0.702899</td>\n",
       "      <td>0.596974</td>\n",
       "      <td>0.755853</td>\n",
       "      <td>1.000000</td>\n",
       "      <td>0.176500</td>\n",
       "      <td>0.363193</td>\n",
       "      <td>0.108137</td>\n",
       "      <td>0.282821</td>\n",
       "      <td>-0.054213</td>\n",
       "      <td>0.762543</td>\n",
       "      <td>0.878736</td>\n",
       "      <td>0.434017</td>\n",
       "      <td>0.315927</td>\n",
       "      <td>0.064893</td>\n",
       "      <td>-0.200745</td>\n",
       "      <td>0.051609</td>\n",
       "      <td>0.245429</td>\n",
       "      <td>0.760271</td>\n",
       "      <td>0.184176</td>\n",
       "    </tr>\n",
       "    <tr>\n",
       "      <th>sqft_lot</th>\n",
       "      <td>-0.034077</td>\n",
       "      <td>0.096793</td>\n",
       "      <td>0.033475</td>\n",
       "      <td>0.089308</td>\n",
       "      <td>0.176500</td>\n",
       "      <td>1.000000</td>\n",
       "      <td>0.001535</td>\n",
       "      <td>0.025584</td>\n",
       "      <td>0.080441</td>\n",
       "      <td>-0.002099</td>\n",
       "      <td>0.119906</td>\n",
       "      <td>0.186242</td>\n",
       "      <td>0.017818</td>\n",
       "      <td>0.058686</td>\n",
       "      <td>-0.001451</td>\n",
       "      <td>-0.127709</td>\n",
       "      <td>-0.082234</td>\n",
       "      <td>0.227451</td>\n",
       "      <td>0.147562</td>\n",
       "      <td>0.728458</td>\n",
       "    </tr>\n",
       "    <tr>\n",
       "      <th>floors</th>\n",
       "      <td>0.182848</td>\n",
       "      <td>0.262588</td>\n",
       "      <td>0.189532</td>\n",
       "      <td>0.508649</td>\n",
       "      <td>0.363193</td>\n",
       "      <td>0.001535</td>\n",
       "      <td>1.000000</td>\n",
       "      <td>0.031159</td>\n",
       "      <td>0.034511</td>\n",
       "      <td>-0.261016</td>\n",
       "      <td>0.462598</td>\n",
       "      <td>0.529476</td>\n",
       "      <td>-0.239350</td>\n",
       "      <td>0.490436</td>\n",
       "      <td>0.009752</td>\n",
       "      <td>-0.059107</td>\n",
       "      <td>0.049004</td>\n",
       "      <td>0.126983</td>\n",
       "      <td>0.287125</td>\n",
       "      <td>-0.010287</td>\n",
       "    </tr>\n",
       "    <tr>\n",
       "      <th>waterfront</th>\n",
       "      <td>-0.011775</td>\n",
       "      <td>0.265738</td>\n",
       "      <td>-0.004819</td>\n",
       "      <td>0.075452</td>\n",
       "      <td>0.108137</td>\n",
       "      <td>0.025584</td>\n",
       "      <td>0.031159</td>\n",
       "      <td>1.000000</td>\n",
       "      <td>0.389669</td>\n",
       "      <td>0.011613</td>\n",
       "      <td>0.088061</td>\n",
       "      <td>0.081968</td>\n",
       "      <td>0.071576</td>\n",
       "      <td>-0.026523</td>\n",
       "      <td>0.104168</td>\n",
       "      <td>0.028632</td>\n",
       "      <td>-0.014772</td>\n",
       "      <td>-0.037922</td>\n",
       "      <td>0.091810</td>\n",
       "      <td>0.028255</td>\n",
       "    </tr>\n",
       "    <tr>\n",
       "      <th>view</th>\n",
       "      <td>-0.024360</td>\n",
       "      <td>0.400806</td>\n",
       "      <td>0.085703</td>\n",
       "      <td>0.187488</td>\n",
       "      <td>0.282821</td>\n",
       "      <td>0.080441</td>\n",
       "      <td>0.034511</td>\n",
       "      <td>0.389669</td>\n",
       "      <td>1.000000</td>\n",
       "      <td>0.045255</td>\n",
       "      <td>0.247924</td>\n",
       "      <td>0.172693</td>\n",
       "      <td>0.265880</td>\n",
       "      <td>-0.061670</td>\n",
       "      <td>0.107605</td>\n",
       "      <td>0.089247</td>\n",
       "      <td>0.005285</td>\n",
       "      <td>-0.073151</td>\n",
       "      <td>0.278267</td>\n",
       "      <td>0.076501</td>\n",
       "    </tr>\n",
       "    <tr>\n",
       "      <th>condition</th>\n",
       "      <td>-0.101618</td>\n",
       "      <td>0.039740</td>\n",
       "      <td>0.034885</td>\n",
       "      <td>-0.125907</td>\n",
       "      <td>-0.054213</td>\n",
       "      <td>-0.002099</td>\n",
       "      <td>-0.261016</td>\n",
       "      <td>0.011613</td>\n",
       "      <td>0.045255</td>\n",
       "      <td>1.000000</td>\n",
       "      <td>-0.143599</td>\n",
       "      <td>-0.152856</td>\n",
       "      <td>0.175064</td>\n",
       "      <td>-0.366590</td>\n",
       "      <td>-0.062342</td>\n",
       "      <td>0.001106</td>\n",
       "      <td>-0.015974</td>\n",
       "      <td>-0.110742</td>\n",
       "      <td>-0.091407</td>\n",
       "      <td>-0.003873</td>\n",
       "    </tr>\n",
       "    <tr>\n",
       "      <th>grade</th>\n",
       "      <td>0.078622</td>\n",
       "      <td>0.667211</td>\n",
       "      <td>0.375286</td>\n",
       "      <td>0.666278</td>\n",
       "      <td>0.762543</td>\n",
       "      <td>0.119906</td>\n",
       "      <td>0.462598</td>\n",
       "      <td>0.088061</td>\n",
       "      <td>0.247924</td>\n",
       "      <td>-0.143599</td>\n",
       "      <td>1.000000</td>\n",
       "      <td>0.759240</td>\n",
       "      <td>0.162657</td>\n",
       "      <td>0.440608</td>\n",
       "      <td>0.030155</td>\n",
       "      <td>-0.186541</td>\n",
       "      <td>0.112319</td>\n",
       "      <td>0.202130</td>\n",
       "      <td>0.715321</td>\n",
       "      <td>0.119734</td>\n",
       "    </tr>\n",
       "    <tr>\n",
       "      <th>sqft_above</th>\n",
       "      <td>0.073086</td>\n",
       "      <td>0.608577</td>\n",
       "      <td>0.494867</td>\n",
       "      <td>0.688255</td>\n",
       "      <td>0.878736</td>\n",
       "      <td>0.186242</td>\n",
       "      <td>0.529476</td>\n",
       "      <td>0.081968</td>\n",
       "      <td>0.172693</td>\n",
       "      <td>-0.152856</td>\n",
       "      <td>0.759240</td>\n",
       "      <td>1.000000</td>\n",
       "      <td>-0.048623</td>\n",
       "      <td>0.422431</td>\n",
       "      <td>0.031441</td>\n",
       "      <td>-0.258474</td>\n",
       "      <td>0.001074</td>\n",
       "      <td>0.347226</td>\n",
       "      <td>0.737795</td>\n",
       "      <td>0.194226</td>\n",
       "    </tr>\n",
       "    <tr>\n",
       "      <th>sqft_basement</th>\n",
       "      <td>-0.050634</td>\n",
       "      <td>0.322218</td>\n",
       "      <td>0.315183</td>\n",
       "      <td>0.282642</td>\n",
       "      <td>0.434017</td>\n",
       "      <td>0.017818</td>\n",
       "      <td>-0.239350</td>\n",
       "      <td>0.071576</td>\n",
       "      <td>0.265880</td>\n",
       "      <td>0.175064</td>\n",
       "      <td>0.162657</td>\n",
       "      <td>-0.048623</td>\n",
       "      <td>1.000000</td>\n",
       "      <td>-0.136214</td>\n",
       "      <td>0.076452</td>\n",
       "      <td>0.067782</td>\n",
       "      <td>0.105969</td>\n",
       "      <td>-0.141792</td>\n",
       "      <td>0.198380</td>\n",
       "      <td>0.018813</td>\n",
       "    </tr>\n",
       "    <tr>\n",
       "      <th>yr_built</th>\n",
       "      <td>0.202477</td>\n",
       "      <td>0.047290</td>\n",
       "      <td>0.158799</td>\n",
       "      <td>0.503964</td>\n",
       "      <td>0.315927</td>\n",
       "      <td>0.058686</td>\n",
       "      <td>0.490436</td>\n",
       "      <td>-0.026523</td>\n",
       "      <td>-0.061670</td>\n",
       "      <td>-0.366590</td>\n",
       "      <td>0.440608</td>\n",
       "      <td>0.422431</td>\n",
       "      <td>-0.136214</td>\n",
       "      <td>1.000000</td>\n",
       "      <td>-0.215760</td>\n",
       "      <td>-0.354280</td>\n",
       "      <td>-0.156563</td>\n",
       "      <td>0.414565</td>\n",
       "      <td>0.324221</td>\n",
       "      <td>0.076009</td>\n",
       "    </tr>\n",
       "    <tr>\n",
       "      <th>yr_renovated</th>\n",
       "      <td>-0.029810</td>\n",
       "      <td>0.140808</td>\n",
       "      <td>0.022729</td>\n",
       "      <td>0.065423</td>\n",
       "      <td>0.064893</td>\n",
       "      <td>-0.001451</td>\n",
       "      <td>0.009752</td>\n",
       "      <td>0.104168</td>\n",
       "      <td>0.107605</td>\n",
       "      <td>-0.062342</td>\n",
       "      <td>0.030155</td>\n",
       "      <td>0.031441</td>\n",
       "      <td>0.076452</td>\n",
       "      <td>-0.215760</td>\n",
       "      <td>1.000000</td>\n",
       "      <td>0.068307</td>\n",
       "      <td>0.034844</td>\n",
       "      <td>-0.070134</td>\n",
       "      <td>0.007995</td>\n",
       "      <td>-0.000348</td>\n",
       "    </tr>\n",
       "    <tr>\n",
       "      <th>zipcode</th>\n",
       "      <td>-0.005761</td>\n",
       "      <td>-0.051498</td>\n",
       "      <td>-0.162081</td>\n",
       "      <td>-0.207500</td>\n",
       "      <td>-0.200745</td>\n",
       "      <td>-0.127709</td>\n",
       "      <td>-0.059107</td>\n",
       "      <td>0.028632</td>\n",
       "      <td>0.089247</td>\n",
       "      <td>0.001106</td>\n",
       "      <td>-0.186541</td>\n",
       "      <td>-0.258474</td>\n",
       "      <td>0.067782</td>\n",
       "      <td>-0.354280</td>\n",
       "      <td>0.068307</td>\n",
       "      <td>1.000000</td>\n",
       "      <td>0.261312</td>\n",
       "      <td>-0.563455</td>\n",
       "      <td>-0.274176</td>\n",
       "      <td>-0.145710</td>\n",
       "    </tr>\n",
       "    <tr>\n",
       "      <th>lat</th>\n",
       "      <td>0.002588</td>\n",
       "      <td>0.301604</td>\n",
       "      <td>-0.011190</td>\n",
       "      <td>0.018110</td>\n",
       "      <td>0.051609</td>\n",
       "      <td>-0.082234</td>\n",
       "      <td>0.049004</td>\n",
       "      <td>-0.014772</td>\n",
       "      <td>0.005285</td>\n",
       "      <td>-0.015974</td>\n",
       "      <td>0.112319</td>\n",
       "      <td>0.001074</td>\n",
       "      <td>0.105969</td>\n",
       "      <td>-0.156563</td>\n",
       "      <td>0.034844</td>\n",
       "      <td>0.261312</td>\n",
       "      <td>1.000000</td>\n",
       "      <td>-0.133460</td>\n",
       "      <td>0.048924</td>\n",
       "      <td>-0.081725</td>\n",
       "    </tr>\n",
       "    <tr>\n",
       "      <th>long</th>\n",
       "      <td>0.014757</td>\n",
       "      <td>0.023547</td>\n",
       "      <td>0.135802</td>\n",
       "      <td>0.227669</td>\n",
       "      <td>0.245429</td>\n",
       "      <td>0.227451</td>\n",
       "      <td>0.126983</td>\n",
       "      <td>-0.037922</td>\n",
       "      <td>-0.073151</td>\n",
       "      <td>-0.110742</td>\n",
       "      <td>0.202130</td>\n",
       "      <td>0.347226</td>\n",
       "      <td>-0.141792</td>\n",
       "      <td>0.414565</td>\n",
       "      <td>-0.070134</td>\n",
       "      <td>-0.563455</td>\n",
       "      <td>-0.133460</td>\n",
       "      <td>1.000000</td>\n",
       "      <td>0.333673</td>\n",
       "      <td>0.256201</td>\n",
       "    </tr>\n",
       "    <tr>\n",
       "      <th>sqft_living15</th>\n",
       "      <td>0.029248</td>\n",
       "      <td>0.586419</td>\n",
       "      <td>0.407394</td>\n",
       "      <td>0.573541</td>\n",
       "      <td>0.760271</td>\n",
       "      <td>0.147562</td>\n",
       "      <td>0.287125</td>\n",
       "      <td>0.091810</td>\n",
       "      <td>0.278267</td>\n",
       "      <td>-0.091407</td>\n",
       "      <td>0.715321</td>\n",
       "      <td>0.737795</td>\n",
       "      <td>0.198380</td>\n",
       "      <td>0.324221</td>\n",
       "      <td>0.007995</td>\n",
       "      <td>-0.274176</td>\n",
       "      <td>0.048924</td>\n",
       "      <td>0.333673</td>\n",
       "      <td>1.000000</td>\n",
       "      <td>0.183599</td>\n",
       "    </tr>\n",
       "    <tr>\n",
       "      <th>sqft_lot15</th>\n",
       "      <td>-0.032269</td>\n",
       "      <td>0.086384</td>\n",
       "      <td>0.027242</td>\n",
       "      <td>0.088120</td>\n",
       "      <td>0.184176</td>\n",
       "      <td>0.728458</td>\n",
       "      <td>-0.010287</td>\n",
       "      <td>0.028255</td>\n",
       "      <td>0.076501</td>\n",
       "      <td>-0.003873</td>\n",
       "      <td>0.119734</td>\n",
       "      <td>0.194226</td>\n",
       "      <td>0.018813</td>\n",
       "      <td>0.076009</td>\n",
       "      <td>-0.000348</td>\n",
       "      <td>-0.145710</td>\n",
       "      <td>-0.081725</td>\n",
       "      <td>0.256201</td>\n",
       "      <td>0.183599</td>\n",
       "      <td>1.000000</td>\n",
       "    </tr>\n",
       "  </tbody>\n",
       "</table>\n",
       "</div>"
      ],
      "text/plain": [
       "                     id     price  bedrooms  bathrooms  sqft_living  sqft_lot  \\\n",
       "id             1.000000  0.020899  0.010520   0.104030     0.041725 -0.034077   \n",
       "price          0.020899  1.000000  0.323672   0.525479     0.702899  0.096793   \n",
       "bedrooms       0.010520  0.323672  1.000000   0.530548     0.596974  0.033475   \n",
       "bathrooms      0.104030  0.525479  0.530548   1.000000     0.755853  0.089308   \n",
       "sqft_living    0.041725  0.702899  0.596974   0.755853     1.000000  0.176500   \n",
       "sqft_lot      -0.034077  0.096793  0.033475   0.089308     0.176500  1.000000   \n",
       "floors         0.182848  0.262588  0.189532   0.508649     0.363193  0.001535   \n",
       "waterfront    -0.011775  0.265738 -0.004819   0.075452     0.108137  0.025584   \n",
       "view          -0.024360  0.400806  0.085703   0.187488     0.282821  0.080441   \n",
       "condition     -0.101618  0.039740  0.034885  -0.125907    -0.054213 -0.002099   \n",
       "grade          0.078622  0.667211  0.375286   0.666278     0.762543  0.119906   \n",
       "sqft_above     0.073086  0.608577  0.494867   0.688255     0.878736  0.186242   \n",
       "sqft_basement -0.050634  0.322218  0.315183   0.282642     0.434017  0.017818   \n",
       "yr_built       0.202477  0.047290  0.158799   0.503964     0.315927  0.058686   \n",
       "yr_renovated  -0.029810  0.140808  0.022729   0.065423     0.064893 -0.001451   \n",
       "zipcode       -0.005761 -0.051498 -0.162081  -0.207500    -0.200745 -0.127709   \n",
       "lat            0.002588  0.301604 -0.011190   0.018110     0.051609 -0.082234   \n",
       "long           0.014757  0.023547  0.135802   0.227669     0.245429  0.227451   \n",
       "sqft_living15  0.029248  0.586419  0.407394   0.573541     0.760271  0.147562   \n",
       "sqft_lot15    -0.032269  0.086384  0.027242   0.088120     0.184176  0.728458   \n",
       "\n",
       "                 floors  waterfront      view  condition     grade  \\\n",
       "id             0.182848   -0.011775 -0.024360  -0.101618  0.078622   \n",
       "price          0.262588    0.265738  0.400806   0.039740  0.667211   \n",
       "bedrooms       0.189532   -0.004819  0.085703   0.034885  0.375286   \n",
       "bathrooms      0.508649    0.075452  0.187488  -0.125907  0.666278   \n",
       "sqft_living    0.363193    0.108137  0.282821  -0.054213  0.762543   \n",
       "sqft_lot       0.001535    0.025584  0.080441  -0.002099  0.119906   \n",
       "floors         1.000000    0.031159  0.034511  -0.261016  0.462598   \n",
       "waterfront     0.031159    1.000000  0.389669   0.011613  0.088061   \n",
       "view           0.034511    0.389669  1.000000   0.045255  0.247924   \n",
       "condition     -0.261016    0.011613  0.045255   1.000000 -0.143599   \n",
       "grade          0.462598    0.088061  0.247924  -0.143599  1.000000   \n",
       "sqft_above     0.529476    0.081968  0.172693  -0.152856  0.759240   \n",
       "sqft_basement -0.239350    0.071576  0.265880   0.175064  0.162657   \n",
       "yr_built       0.490436   -0.026523 -0.061670  -0.366590  0.440608   \n",
       "yr_renovated   0.009752    0.104168  0.107605  -0.062342  0.030155   \n",
       "zipcode       -0.059107    0.028632  0.089247   0.001106 -0.186541   \n",
       "lat            0.049004   -0.014772  0.005285  -0.015974  0.112319   \n",
       "long           0.126983   -0.037922 -0.073151  -0.110742  0.202130   \n",
       "sqft_living15  0.287125    0.091810  0.278267  -0.091407  0.715321   \n",
       "sqft_lot15    -0.010287    0.028255  0.076501  -0.003873  0.119734   \n",
       "\n",
       "               sqft_above  sqft_basement  yr_built  yr_renovated   zipcode  \\\n",
       "id               0.073086      -0.050634  0.202477     -0.029810 -0.005761   \n",
       "price            0.608577       0.322218  0.047290      0.140808 -0.051498   \n",
       "bedrooms         0.494867       0.315183  0.158799      0.022729 -0.162081   \n",
       "bathrooms        0.688255       0.282642  0.503964      0.065423 -0.207500   \n",
       "sqft_living      0.878736       0.434017  0.315927      0.064893 -0.200745   \n",
       "sqft_lot         0.186242       0.017818  0.058686     -0.001451 -0.127709   \n",
       "floors           0.529476      -0.239350  0.490436      0.009752 -0.059107   \n",
       "waterfront       0.081968       0.071576 -0.026523      0.104168  0.028632   \n",
       "view             0.172693       0.265880 -0.061670      0.107605  0.089247   \n",
       "condition       -0.152856       0.175064 -0.366590     -0.062342  0.001106   \n",
       "grade            0.759240       0.162657  0.440608      0.030155 -0.186541   \n",
       "sqft_above       1.000000      -0.048623  0.422431      0.031441 -0.258474   \n",
       "sqft_basement   -0.048623       1.000000 -0.136214      0.076452  0.067782   \n",
       "yr_built         0.422431      -0.136214  1.000000     -0.215760 -0.354280   \n",
       "yr_renovated     0.031441       0.076452 -0.215760      1.000000  0.068307   \n",
       "zipcode         -0.258474       0.067782 -0.354280      0.068307  1.000000   \n",
       "lat              0.001074       0.105969 -0.156563      0.034844  0.261312   \n",
       "long             0.347226      -0.141792  0.414565     -0.070134 -0.563455   \n",
       "sqft_living15    0.737795       0.198380  0.324221      0.007995 -0.274176   \n",
       "sqft_lot15       0.194226       0.018813  0.076009     -0.000348 -0.145710   \n",
       "\n",
       "                    lat      long  sqft_living15  sqft_lot15  \n",
       "id             0.002588  0.014757       0.029248   -0.032269  \n",
       "price          0.301604  0.023547       0.586419    0.086384  \n",
       "bedrooms      -0.011190  0.135802       0.407394    0.027242  \n",
       "bathrooms      0.018110  0.227669       0.573541    0.088120  \n",
       "sqft_living    0.051609  0.245429       0.760271    0.184176  \n",
       "sqft_lot      -0.082234  0.227451       0.147562    0.728458  \n",
       "floors         0.049004  0.126983       0.287125   -0.010287  \n",
       "waterfront    -0.014772 -0.037922       0.091810    0.028255  \n",
       "view           0.005285 -0.073151       0.278267    0.076501  \n",
       "condition     -0.015974 -0.110742      -0.091407   -0.003873  \n",
       "grade          0.112319  0.202130       0.715321    0.119734  \n",
       "sqft_above     0.001074  0.347226       0.737795    0.194226  \n",
       "sqft_basement  0.105969 -0.141792       0.198380    0.018813  \n",
       "yr_built      -0.156563  0.414565       0.324221    0.076009  \n",
       "yr_renovated   0.034844 -0.070134       0.007995   -0.000348  \n",
       "zipcode        0.261312 -0.563455      -0.274176   -0.145710  \n",
       "lat            1.000000 -0.133460       0.048924   -0.081725  \n",
       "long          -0.133460  1.000000       0.333673    0.256201  \n",
       "sqft_living15  0.048924  0.333673       1.000000    0.183599  \n",
       "sqft_lot15    -0.081725  0.256201       0.183599    1.000000  "
      ]
     },
     "execution_count": 10,
     "metadata": {},
     "output_type": "execute_result"
    }
   ],
   "source": [
    "train.corr()"
   ]
  },
  {
   "cell_type": "code",
   "execution_count": 54,
   "metadata": {},
   "outputs": [],
   "source": [
    "sel = ['sqft_living', 'bathrooms', 'grade', 'sqft_above', 'sqft_lot15']\n",
    "X = X_all[sel]\n",
    "y = train['price']\n"
   ]
  },
  {
   "cell_type": "code",
   "execution_count": 31,
   "metadata": {},
   "outputs": [
    {
     "data": {
      "text/plain": [
       "(sqft_living    290.0\n",
       " bathrooms        0.0\n",
       " grade            1.0\n",
       " dtype: float64,\n",
       " sqft_living    13540.0\n",
       " bathrooms          8.0\n",
       " grade             13.0\n",
       " dtype: float64)"
      ]
     },
     "execution_count": 31,
     "metadata": {},
     "output_type": "execute_result"
    }
   ],
   "source": [
    "X.min(), X.max()"
   ]
  },
  {
   "cell_type": "code",
   "execution_count": 34,
   "metadata": {},
   "outputs": [],
   "source": [
    "from sklearn.preprocessing import MinMaxScaler\n",
    "nor_X = MinMaxScaler().fit_transform(X)"
   ]
  },
  {
   "cell_type": "code",
   "execution_count": 35,
   "metadata": {},
   "outputs": [],
   "source": [
    "X_train, X_test, y_train, y_test = train_test_split(nor_X, y,\n",
    "                                                   random_state=42)"
   ]
  },
  {
   "cell_type": "markdown",
   "metadata": {},
   "source": [
    "### 선형 회귀 모델과 knn 모델 이용해서 [].score 확인해보기"
   ]
  },
  {
   "cell_type": "code",
   "execution_count": 36,
   "metadata": {},
   "outputs": [],
   "source": [
    "from sklearn.neighbors import KNeighborsRegressor\n",
    "from sklearn.linear_model import LinearRegression\n",
    "from sklearn.ensemble import RandomForestRegressor"
   ]
  },
  {
   "cell_type": "code",
   "execution_count": 37,
   "metadata": {},
   "outputs": [
    {
     "name": "stdout",
     "output_type": "stream",
     "text": [
      "결정계수 =  학습용: 0.5372389330310766, 테스트용: 0.5396917500833849\n"
     ]
    }
   ],
   "source": [
    "model = LinearRegression()\n",
    "model.fit(X_train, y_train)\n",
    "acc_tr = model.score(X_train, y_train)\n",
    "acc_test = model.score(X_test, y_test)\n",
    "print(\"결정계수 =  학습용: {}, 테스트용: {}\".format(acc_tr, acc_test))"
   ]
  },
  {
   "cell_type": "code",
   "execution_count": 38,
   "metadata": {},
   "outputs": [
    {
     "name": "stdout",
     "output_type": "stream",
     "text": [
      "결정계수 =  학습용: 0.6931988226535165, 테스트용: 0.5145702842067499\n"
     ]
    }
   ],
   "source": [
    "model = KNeighborsRegressor() #k=5\n",
    "model.fit(X_train, y_train)\n",
    "acc_tr = model.score(X_train, y_train)\n",
    "acc_test = model.score(X_test, y_test)\n",
    "print(\"결정계수 =  학습용: {}, 테스트용: {}\".format(acc_tr, acc_test))"
   ]
  },
  {
   "cell_type": "code",
   "execution_count": 39,
   "metadata": {},
   "outputs": [
    {
     "name": "stdout",
     "output_type": "stream",
     "text": [
      "결정계수 =  학습용: 0.8499123289934274, 테스트용: 0.47736976495133354\n"
     ]
    }
   ],
   "source": [
    "model = RandomForestRegressor()\n",
    "model.fit(X_train, y_train)\n",
    "acc_tr = model.score(X_train, y_train)\n",
    "acc_test = model.score(X_test, y_test)\n",
    "print(\"결정계수 =  학습용: {}, 테스트용: {}\".format(acc_tr, acc_test))"
   ]
  },
  {
   "cell_type": "code",
   "execution_count": 57,
   "metadata": {},
   "outputs": [
    {
     "name": "stdout",
     "output_type": "stream",
     "text": [
      "결정계수 =  학습용: 0.8488182253810325, 테스트용: 0.47201652112407266\n",
      "Wall time: 3.98 s\n"
     ]
    }
   ],
   "source": [
    "%%time\n",
    "model = RandomForestRegressor(n_estimators = 100, n_jobs=1)\n",
    "model.fit(X_train, y_train)\n",
    "acc_tr = model.score(X_train, y_train)\n",
    "acc_test = model.score(X_test, y_test)\n",
    "print(\"결정계수 =  학습용: {}, 테스트용: {}\".format(acc_tr, acc_test))"
   ]
  },
  {
   "cell_type": "code",
   "execution_count": 44,
   "metadata": {},
   "outputs": [
    {
     "name": "stdout",
     "output_type": "stream",
     "text": [
      "결정계수 =  학습용: 0.832189624764386, 테스트용: 0.4515062778718236\n"
     ]
    }
   ],
   "source": [
    "model = RandomForestRegressor(n_estimators = 10)\n",
    "model.fit(X_train, y_train)\n",
    "acc_tr = model.score(X_train, y_train)\n",
    "acc_test = model.score(X_test, y_test)\n",
    "print(\"결정계수 =  학습용: {}, 테스트용: {}\".format(acc_tr, acc_test))"
   ]
  },
  {
   "cell_type": "code",
   "execution_count": 40,
   "metadata": {},
   "outputs": [
    {
     "name": "stdout",
     "output_type": "stream",
     "text": [
      "부트스트랩 : True\n",
      "노드 분할 기준: mse\n"
     ]
    }
   ],
   "source": [
    "print(\"부트스트랩 : {}\".format(model.bootstrap))\n",
    "print(\"노드 분할 기준: {}\".format(model.criterion))"
   ]
  },
  {
   "cell_type": "code",
   "execution_count": 41,
   "metadata": {},
   "outputs": [
    {
     "data": {
      "text/plain": [
       "array([0.60240542, 0.08825915, 0.30933543])"
      ]
     },
     "execution_count": 41,
     "metadata": {},
     "output_type": "execute_result"
    }
   ],
   "source": [
    "model.feature_importances_"
   ]
  },
  {
   "cell_type": "code",
   "execution_count": 42,
   "metadata": {},
   "outputs": [
    {
     "data": {
      "text/plain": [
       "RandomForestRegressor()"
      ]
     },
     "execution_count": 42,
     "metadata": {},
     "output_type": "execute_result"
    }
   ],
   "source": [
    "model"
   ]
  },
  {
   "cell_type": "code",
   "execution_count": 45,
   "metadata": {},
   "outputs": [
    {
     "data": {
      "text/plain": [
       "[DecisionTreeRegressor(max_features='auto', random_state=2077148035),\n",
       " DecisionTreeRegressor(max_features='auto', random_state=867257226),\n",
       " DecisionTreeRegressor(max_features='auto', random_state=1716164626),\n",
       " DecisionTreeRegressor(max_features='auto', random_state=879528583),\n",
       " DecisionTreeRegressor(max_features='auto', random_state=816070859),\n",
       " DecisionTreeRegressor(max_features='auto', random_state=2101267504),\n",
       " DecisionTreeRegressor(max_features='auto', random_state=711634208),\n",
       " DecisionTreeRegressor(max_features='auto', random_state=1724578268),\n",
       " DecisionTreeRegressor(max_features='auto', random_state=419798618),\n",
       " DecisionTreeRegressor(max_features='auto', random_state=408335092)]"
      ]
     },
     "execution_count": 45,
     "metadata": {},
     "output_type": "execute_result"
    }
   ],
   "source": [
    "model.estimators_"
   ]
  },
  {
   "cell_type": "code",
   "execution_count": 46,
   "metadata": {},
   "outputs": [
    {
     "data": {
      "text/plain": [
       "10"
      ]
     },
     "execution_count": 46,
     "metadata": {},
     "output_type": "execute_result"
    }
   ],
   "source": [
    "len(model.estimators_)"
   ]
  },
  {
   "cell_type": "markdown",
   "metadata": {},
   "source": [
    "### 10개 모델 각각의 성능 확인"
   ]
  },
  {
   "cell_type": "code",
   "execution_count": 51,
   "metadata": {},
   "outputs": [
    {
     "name": "stdout",
     "output_type": "stream",
     "text": [
      "결정계수 =  학습용: 0.8885336764382704, 테스트용: 0.2770078862493043\n",
      "결정계수 =  학습용: 0.8885336764382704, 테스트용: 0.26519079258138034\n",
      "결정계수 =  학습용: 0.8885336764382704, 테스트용: 0.2730840131519471\n",
      "결정계수 =  학습용: 0.8885336764382704, 테스트용: 0.27604577192880564\n",
      "결정계수 =  학습용: 0.8885336764382704, 테스트용: 0.2741661482322807\n",
      "결정계수 =  학습용: 0.8885336764382704, 테스트용: 0.2705203428251922\n",
      "결정계수 =  학습용: 0.8885336764382704, 테스트용: 0.2822420014220397\n",
      "결정계수 =  학습용: 0.8885336764382704, 테스트용: 0.2706750607803857\n",
      "결정계수 =  학습용: 0.8885336764382704, 테스트용: 0.2777332587469379\n",
      "결정계수 =  학습용: 0.8885336764382704, 테스트용: 0.2564682095147486\n",
      "결정계수 =  학습용: 0.8885336764382704, 테스트용: 0.2658479946299971\n",
      "결정계수 =  학습용: 0.8885336764382704, 테스트용: 0.26610421394700046\n",
      "결정계수 =  학습용: 0.8885336764382704, 테스트용: 0.25882403787390507\n",
      "결정계수 =  학습용: 0.8885336764382704, 테스트용: 0.27356945209967454\n",
      "결정계수 =  학습용: 0.8885336764382704, 테스트용: 0.2509822411599377\n",
      "결정계수 =  학습용: 0.8885336764382704, 테스트용: 0.27995812708006407\n",
      "결정계수 =  학습용: 0.8885336764382704, 테스트용: 0.26884906705311706\n",
      "결정계수 =  학습용: 0.8885336764382704, 테스트용: 0.2877983718575543\n",
      "결정계수 =  학습용: 0.8885336764382704, 테스트용: 0.29534046467976915\n",
      "결정계수 =  학습용: 0.8885336764382704, 테스트용: 0.283562733299638\n",
      "결정계수 =  학습용: 0.8885336764382704, 테스트용: 0.2540445632715935\n",
      "결정계수 =  학습용: 0.8885336764382704, 테스트용: 0.24691601422795728\n",
      "결정계수 =  학습용: 0.8885336764382704, 테스트용: 0.27826225763114243\n",
      "결정계수 =  학습용: 0.8885336764382704, 테스트용: 0.2745502050253087\n",
      "결정계수 =  학습용: 0.8885336764382704, 테스트용: 0.246183416820835\n",
      "결정계수 =  학습용: 0.8885336764382704, 테스트용: 0.26837543470868497\n",
      "결정계수 =  학습용: 0.8885336764382704, 테스트용: 0.2795940267286481\n",
      "결정계수 =  학습용: 0.8885336764382704, 테스트용: 0.27098052645191884\n",
      "결정계수 =  학습용: 0.8885336764382704, 테스트용: 0.2783389524825761\n",
      "결정계수 =  학습용: 0.8885336764382704, 테스트용: 0.2809848900838223\n",
      "결정계수 =  학습용: 0.8885336764382704, 테스트용: 0.26268183374850307\n",
      "결정계수 =  학습용: 0.8885336764382704, 테스트용: 0.2852801153059682\n",
      "결정계수 =  학습용: 0.8885336764382704, 테스트용: 0.2707211718924807\n",
      "결정계수 =  학습용: 0.8885336764382704, 테스트용: 0.282990034154326\n",
      "결정계수 =  학습용: 0.8885336764382704, 테스트용: 0.251060239105078\n",
      "결정계수 =  학습용: 0.8885336764382704, 테스트용: 0.27234968851734476\n",
      "결정계수 =  학습용: 0.8885336764382704, 테스트용: 0.2685451521197886\n",
      "결정계수 =  학습용: 0.8885336764382704, 테스트용: 0.26304997269999175\n",
      "결정계수 =  학습용: 0.8885336764382704, 테스트용: 0.26675457410913794\n",
      "결정계수 =  학습용: 0.8885336764382704, 테스트용: 0.2637800722857494\n",
      "결정계수 =  학습용: 0.8885336764382704, 테스트용: 0.2701314651788165\n",
      "결정계수 =  학습용: 0.8885336764382704, 테스트용: 0.2703622313394525\n",
      "결정계수 =  학습용: 0.8885336764382704, 테스트용: 0.27908553951205295\n",
      "결정계수 =  학습용: 0.8885336764382704, 테스트용: 0.2707815961163281\n",
      "결정계수 =  학습용: 0.8885336764382704, 테스트용: 0.2631049230355772\n",
      "결정계수 =  학습용: 0.8885336764382704, 테스트용: 0.27453202864349213\n",
      "결정계수 =  학습용: 0.8885336764382704, 테스트용: 0.29092851964657473\n",
      "결정계수 =  학습용: 0.8885336764382704, 테스트용: 0.2646218536220626\n",
      "결정계수 =  학습용: 0.8885336764382704, 테스트용: 0.252637444231785\n",
      "결정계수 =  학습용: 0.8885336764382704, 테스트용: 0.28123610561405266\n",
      "결정계수 =  학습용: 0.8885336764382704, 테스트용: 0.2861608627495612\n",
      "결정계수 =  학습용: 0.8885336764382704, 테스트용: 0.26576673291544506\n",
      "결정계수 =  학습용: 0.8885336764382704, 테스트용: 0.26188088784286334\n",
      "결정계수 =  학습용: 0.8885336764382704, 테스트용: 0.27386479096208205\n",
      "결정계수 =  학습용: 0.8885336764382704, 테스트용: 0.2733126561704967\n",
      "결정계수 =  학습용: 0.8885336764382704, 테스트용: 0.25828872266732383\n",
      "결정계수 =  학습용: 0.8885336764382704, 테스트용: 0.28875120087161266\n",
      "결정계수 =  학습용: 0.8885336764382704, 테스트용: 0.27450856995135975\n",
      "결정계수 =  학습용: 0.8885336764382704, 테스트용: 0.27124913381460747\n",
      "결정계수 =  학습용: 0.8885336764382704, 테스트용: 0.27335302746824297\n",
      "결정계수 =  학습용: 0.8885336764382704, 테스트용: 0.2759847509925545\n",
      "결정계수 =  학습용: 0.8885336764382704, 테스트용: 0.27226373545375027\n",
      "결정계수 =  학습용: 0.8885336764382704, 테스트용: 0.26963639617949076\n",
      "결정계수 =  학습용: 0.8885336764382704, 테스트용: 0.29352719247885084\n",
      "결정계수 =  학습용: 0.8885336764382704, 테스트용: 0.26247857220001203\n",
      "결정계수 =  학습용: 0.8885336764382704, 테스트용: 0.28305694963582795\n",
      "결정계수 =  학습용: 0.8885336764382704, 테스트용: 0.283285478262407\n",
      "결정계수 =  학습용: 0.8885336764382704, 테스트용: 0.25438782143490724\n",
      "결정계수 =  학습용: 0.8885336764382704, 테스트용: 0.24973335369110428\n",
      "결정계수 =  학습용: 0.8885336764382704, 테스트용: 0.25605883720526257\n",
      "결정계수 =  학습용: 0.8885336764382704, 테스트용: 0.27215096990649723\n",
      "결정계수 =  학습용: 0.8885336764382704, 테스트용: 0.2579616473742399\n",
      "결정계수 =  학습용: 0.8885336764382704, 테스트용: 0.2758327119177244\n",
      "결정계수 =  학습용: 0.8885336764382704, 테스트용: 0.2762859463506717\n",
      "결정계수 =  학습용: 0.8885336764382704, 테스트용: 0.27030587103010295\n",
      "결정계수 =  학습용: 0.8885336764382704, 테스트용: 0.26523581338026425\n",
      "결정계수 =  학습용: 0.8885336764382704, 테스트용: 0.26115861320954337\n",
      "결정계수 =  학습용: 0.8885336764382704, 테스트용: 0.2706227838550497\n",
      "결정계수 =  학습용: 0.8885336764382704, 테스트용: 0.2767191912070236\n",
      "결정계수 =  학습용: 0.8885336764382704, 테스트용: 0.2844447012281558\n",
      "결정계수 =  학습용: 0.8885336764382704, 테스트용: 0.24548412513997575\n",
      "결정계수 =  학습용: 0.8885336764382704, 테스트용: 0.27427950152748215\n",
      "결정계수 =  학습용: 0.8885336764382704, 테스트용: 0.2604564107612859\n",
      "결정계수 =  학습용: 0.8885336764382704, 테스트용: 0.26764676966322376\n",
      "결정계수 =  학습용: 0.8885336764382704, 테스트용: 0.2843321428871891\n",
      "결정계수 =  학습용: 0.8885336764382704, 테스트용: 0.2855490023279179\n",
      "결정계수 =  학습용: 0.8885336764382704, 테스트용: 0.283282800800038\n",
      "결정계수 =  학습용: 0.8885336764382704, 테스트용: 0.2872137202764794\n",
      "결정계수 =  학습용: 0.8885336764382704, 테스트용: 0.24136591820414788\n",
      "결정계수 =  학습용: 0.8885336764382704, 테스트용: 0.28927534373793384\n",
      "결정계수 =  학습용: 0.8885336764382704, 테스트용: 0.2642199054403399\n",
      "결정계수 =  학습용: 0.8885336764382704, 테스트용: 0.267996803432175\n",
      "결정계수 =  학습용: 0.8885336764382704, 테스트용: 0.26954771283204226\n",
      "결정계수 =  학습용: 0.8885336764382704, 테스트용: 0.2622656982693401\n",
      "결정계수 =  학습용: 0.8885336764382704, 테스트용: 0.2836237690151612\n",
      "결정계수 =  학습용: 0.8885336764382704, 테스트용: 0.2699140692812524\n",
      "결정계수 =  학습용: 0.8885336764382704, 테스트용: 0.2733093508248531\n",
      "결정계수 =  학습용: 0.8885336764382704, 테스트용: 0.2635623458469357\n",
      "결정계수 =  학습용: 0.8885336764382704, 테스트용: 0.2631848138839752\n",
      "결정계수 =  학습용: 0.8885336764382704, 테스트용: 0.2726870230859406\n",
      "결정계수 =  학습용: 0.8885336764382704, 테스트용: 0.2842072828248423\n",
      "결정계수 =  학습용: 0.8885336764382704, 테스트용: 0.26117176898509487\n",
      "결정계수 =  학습용: 0.8885336764382704, 테스트용: 0.26218082088660466\n",
      "결정계수 =  학습용: 0.8885336764382704, 테스트용: 0.28057003535165126\n",
      "결정계수 =  학습용: 0.8885336764382704, 테스트용: 0.2739900066132337\n",
      "결정계수 =  학습용: 0.8885336764382704, 테스트용: 0.263286686831364\n",
      "결정계수 =  학습용: 0.8885336764382704, 테스트용: 0.26174451970461077\n",
      "결정계수 =  학습용: 0.8885336764382704, 테스트용: 0.2563679401867084\n",
      "결정계수 =  학습용: 0.8885336764382704, 테스트용: 0.2769297366323218\n",
      "결정계수 =  학습용: 0.8885336764382704, 테스트용: 0.2753247191702567\n",
      "결정계수 =  학습용: 0.8885336764382704, 테스트용: 0.2730232316586241\n",
      "결정계수 =  학습용: 0.8885336764382704, 테스트용: 0.2641137313994264\n",
      "결정계수 =  학습용: 0.8885336764382704, 테스트용: 0.28362964541216973\n",
      "결정계수 =  학습용: 0.8885336764382704, 테스트용: 0.2673662914874684\n",
      "결정계수 =  학습용: 0.8885336764382704, 테스트용: 0.26562826905205417\n",
      "결정계수 =  학습용: 0.8885336764382704, 테스트용: 0.25918165824017225\n",
      "결정계수 =  학습용: 0.8885336764382704, 테스트용: 0.27255538711162475\n",
      "결정계수 =  학습용: 0.8885336764382704, 테스트용: 0.26580844445671636\n",
      "결정계수 =  학습용: 0.8885336764382704, 테스트용: 0.2678605601961065\n",
      "결정계수 =  학습용: 0.8885336764382704, 테스트용: 0.2773533327338482\n",
      "결정계수 =  학습용: 0.8885336764382704, 테스트용: 0.2682317195685977\n",
      "결정계수 =  학습용: 0.8885336764382704, 테스트용: 0.28763598104218546\n",
      "결정계수 =  학습용: 0.8885336764382704, 테스트용: 0.27643787136151265\n",
      "결정계수 =  학습용: 0.8885336764382704, 테스트용: 0.27473305854771046\n",
      "결정계수 =  학습용: 0.8885336764382704, 테스트용: 0.2783036332414356\n",
      "결정계수 =  학습용: 0.8885336764382704, 테스트용: 0.2882672555578385\n",
      "결정계수 =  학습용: 0.8885336764382704, 테스트용: 0.2678481629096904\n",
      "결정계수 =  학습용: 0.8885336764382704, 테스트용: 0.28156485035809364\n",
      "결정계수 =  학습용: 0.8885336764382704, 테스트용: 0.2762833740901618\n",
      "결정계수 =  학습용: 0.8885336764382704, 테스트용: 0.26251919016109615\n",
      "결정계수 =  학습용: 0.8885336764382704, 테스트용: 0.284652053651388\n",
      "결정계수 =  학습용: 0.8885336764382704, 테스트용: 0.2606194980983979\n",
      "결정계수 =  학습용: 0.8885336764382704, 테스트용: 0.2567800688518468\n",
      "결정계수 =  학습용: 0.8885336764382704, 테스트용: 0.26810570837465075\n",
      "결정계수 =  학습용: 0.8885336764382704, 테스트용: 0.28333134770949586\n",
      "결정계수 =  학습용: 0.8885336764382704, 테스트용: 0.26863493890460655\n",
      "결정계수 =  학습용: 0.8885336764382704, 테스트용: 0.2598256920562194\n",
      "결정계수 =  학습용: 0.8885336764382704, 테스트용: 0.2639380800076908\n",
      "결정계수 =  학습용: 0.8885336764382704, 테스트용: 0.27192214170767115\n",
      "결정계수 =  학습용: 0.8885336764382704, 테스트용: 0.2724189342776714\n",
      "결정계수 =  학습용: 0.8885336764382704, 테스트용: 0.26487259606612323\n",
      "결정계수 =  학습용: 0.8885336764382704, 테스트용: 0.27527521781541975\n",
      "결정계수 =  학습용: 0.8885336764382704, 테스트용: 0.26332849782030354\n",
      "결정계수 =  학습용: 0.8885336764382704, 테스트용: 0.26588718866042993\n"
     ]
    },
    {
     "name": "stdout",
     "output_type": "stream",
     "text": [
      "결정계수 =  학습용: 0.8885336764382704, 테스트용: 0.26933773198077016\n",
      "결정계수 =  학습용: 0.8885336764382704, 테스트용: 0.2775113777434156\n",
      "결정계수 =  학습용: 0.8885336764382704, 테스트용: 0.2669713777600349\n",
      "결정계수 =  학습용: 0.8885336764382704, 테스트용: 0.27087290305275535\n",
      "결정계수 =  학습용: 0.8885336764382704, 테스트용: 0.27643510124267456\n",
      "결정계수 =  학습용: 0.8885336764382704, 테스트용: 0.2858285653255974\n",
      "결정계수 =  학습용: 0.8885336764382704, 테스트용: 0.2698290591682646\n",
      "결정계수 =  학습용: 0.8885336764382704, 테스트용: 0.2726390078027595\n",
      "결정계수 =  학습용: 0.8885336764382704, 테스트용: 0.26205852559900833\n",
      "결정계수 =  학습용: 0.8885336764382704, 테스트용: 0.27980863813900625\n",
      "결정계수 =  학습용: 0.8885336764382704, 테스트용: 0.2689628692715731\n",
      "결정계수 =  학습용: 0.8885336764382704, 테스트용: 0.289219871465211\n",
      "결정계수 =  학습용: 0.8885336764382704, 테스트용: 0.2762646274030143\n",
      "결정계수 =  학습용: 0.8885336764382704, 테스트용: 0.2752660328784\n",
      "결정계수 =  학습용: 0.8885336764382704, 테스트용: 0.27261361507657467\n",
      "결정계수 =  학습용: 0.8885336764382704, 테스트용: 0.26190635738824\n",
      "결정계수 =  학습용: 0.8885336764382704, 테스트용: 0.2775701404949663\n",
      "결정계수 =  학습용: 0.8885336764382704, 테스트용: 0.27913101032562615\n",
      "결정계수 =  학습용: 0.8885336764382704, 테스트용: 0.2646948603618622\n",
      "결정계수 =  학습용: 0.8885336764382704, 테스트용: 0.2653285688556284\n",
      "결정계수 =  학습용: 0.8885336764382704, 테스트용: 0.2697581290305552\n",
      "결정계수 =  학습용: 0.8885336764382704, 테스트용: 0.26359305135403976\n",
      "결정계수 =  학습용: 0.8885336764382704, 테스트용: 0.2786054407894274\n",
      "결정계수 =  학습용: 0.8885336764382704, 테스트용: 0.2621908677649667\n",
      "결정계수 =  학습용: 0.8885336764382704, 테스트용: 0.2565825810765662\n",
      "결정계수 =  학습용: 0.8885336764382704, 테스트용: 0.2641782638412602\n",
      "결정계수 =  학습용: 0.8885336764382704, 테스트용: 0.26836001032024315\n",
      "결정계수 =  학습용: 0.8885336764382704, 테스트용: 0.2670471802563351\n",
      "결정계수 =  학습용: 0.8885336764382704, 테스트용: 0.279400883809222\n",
      "결정계수 =  학습용: 0.8885336764382704, 테스트용: 0.27188612944308754\n",
      "결정계수 =  학습용: 0.8885336764382704, 테스트용: 0.2835030374620048\n",
      "결정계수 =  학습용: 0.8885336764382704, 테스트용: 0.25569863793028114\n",
      "결정계수 =  학습용: 0.8885336764382704, 테스트용: 0.26480203819265213\n",
      "결정계수 =  학습용: 0.8885336764382704, 테스트용: 0.272681074065233\n",
      "결정계수 =  학습용: 0.8885336764382704, 테스트용: 0.24878123178784017\n",
      "결정계수 =  학습용: 0.8885336764382704, 테스트용: 0.3001174281962369\n",
      "결정계수 =  학습용: 0.8885336764382704, 테스트용: 0.26123963142963236\n",
      "결정계수 =  학습용: 0.8885336764382704, 테스트용: 0.2637070306466035\n",
      "결정계수 =  학습용: 0.8885336764382704, 테스트용: 0.27660039749992116\n",
      "결정계수 =  학습용: 0.8885336764382704, 테스트용: 0.24980821624916583\n",
      "결정계수 =  학습용: 0.8885336764382704, 테스트용: 0.270838050508617\n",
      "결정계수 =  학습용: 0.8885336764382704, 테스트용: 0.25842876770939205\n",
      "결정계수 =  학습용: 0.8885336764382704, 테스트용: 0.255203122702505\n",
      "결정계수 =  학습용: 0.8885336764382704, 테스트용: 0.291495491161326\n",
      "결정계수 =  학습용: 0.8885336764382704, 테스트용: 0.2549282529685124\n",
      "결정계수 =  학습용: 0.8885336764382704, 테스트용: 0.2530881974240433\n",
      "결정계수 =  학습용: 0.8885336764382704, 테스트용: 0.2709677620732228\n",
      "결정계수 =  학습용: 0.8885336764382704, 테스트용: 0.2589956451896964\n",
      "결정계수 =  학습용: 0.8885336764382704, 테스트용: 0.27447947316550014\n",
      "결정계수 =  학습용: 0.8885336764382704, 테스트용: 0.25449609085279734\n",
      "결정계수 =  학습용: 0.8885336764382704, 테스트용: 0.2801082622940213\n",
      "결정계수 =  학습용: 0.8885336764382704, 테스트용: 0.2804474885619409\n",
      "결정계수 =  학습용: 0.8885336764382704, 테스트용: 0.2812174890045325\n",
      "결정계수 =  학습용: 0.8885336764382704, 테스트용: 0.28971712748612755\n",
      "결정계수 =  학습용: 0.8885336764382704, 테스트용: 0.28739644294619704\n",
      "결정계수 =  학습용: 0.8885336764382704, 테스트용: 0.2621256535665789\n",
      "결정계수 =  학습용: 0.8885336764382704, 테스트용: 0.2610043403654225\n",
      "결정계수 =  학습용: 0.8885336764382704, 테스트용: 0.27425587306564714\n",
      "결정계수 =  학습용: 0.8885336764382704, 테스트용: 0.2659793811757062\n",
      "결정계수 =  학습용: 0.8885336764382704, 테스트용: 0.2638598302022508\n",
      "결정계수 =  학습용: 0.8885336764382704, 테스트용: 0.26085066407632773\n",
      "결정계수 =  학습용: 0.8885336764382704, 테스트용: 0.26394458059876513\n",
      "결정계수 =  학습용: 0.8885336764382704, 테스트용: 0.27485926182969334\n",
      "결정계수 =  학습용: 0.8885336764382704, 테스트용: 0.26416189874684937\n",
      "결정계수 =  학습용: 0.8885336764382704, 테스트용: 0.27999714642636586\n",
      "결정계수 =  학습용: 0.8885336764382704, 테스트용: 0.26183887684611107\n",
      "결정계수 =  학습용: 0.8885336764382704, 테스트용: 0.2808704874803626\n",
      "결정계수 =  학습용: 0.8885336764382704, 테스트용: 0.2531112697696809\n",
      "결정계수 =  학습용: 0.8885336764382704, 테스트용: 0.28301388650842285\n",
      "결정계수 =  학습용: 0.8885336764382704, 테스트용: 0.2684067238513548\n",
      "결정계수 =  학습용: 0.8885336764382704, 테스트용: 0.2464032679887942\n",
      "결정계수 =  학습용: 0.8885336764382704, 테스트용: 0.26814069146032693\n",
      "결정계수 =  학습용: 0.8885336764382704, 테스트용: 0.2726786111675812\n",
      "결정계수 =  학습용: 0.8885336764382704, 테스트용: 0.2781040645641315\n",
      "결정계수 =  학습용: 0.8885336764382704, 테스트용: 0.2854587099706004\n",
      "결정계수 =  학습용: 0.8885336764382704, 테스트용: 0.2576063090476518\n",
      "결정계수 =  학습용: 0.8885336764382704, 테스트용: 0.26069069269455125\n",
      "결정계수 =  학습용: 0.8885336764382704, 테스트용: 0.257578462472163\n",
      "결정계수 =  학습용: 0.8885336764382704, 테스트용: 0.27438400474941693\n",
      "결정계수 =  학습용: 0.8885336764382704, 테스트용: 0.2648492180155215\n",
      "결정계수 =  학습용: 0.8885336764382704, 테스트용: 0.26685587339711836\n",
      "결정계수 =  학습용: 0.8885336764382704, 테스트용: 0.27233349296545994\n",
      "결정계수 =  학습용: 0.8885336764382704, 테스트용: 0.2569281502358751\n",
      "결정계수 =  학습용: 0.8885336764382704, 테스트용: 0.27240709995119816\n",
      "결정계수 =  학습용: 0.8885336764382704, 테스트용: 0.25195337230338344\n",
      "결정계수 =  학습용: 0.8885336764382704, 테스트용: 0.28215892562979805\n",
      "결정계수 =  학습용: 0.8885336764382704, 테스트용: 0.27602604147186593\n",
      "결정계수 =  학습용: 0.8885336764382704, 테스트용: 0.2714030851584194\n",
      "결정계수 =  학습용: 0.8885336764382704, 테스트용: 0.2773358656980116\n",
      "결정계수 =  학습용: 0.8885336764382704, 테스트용: 0.26974817335553236\n",
      "결정계수 =  학습용: 0.8885336764382704, 테스트용: 0.2737072042844131\n",
      "결정계수 =  학습용: 0.8885336764382704, 테스트용: 0.2654380666683672\n",
      "결정계수 =  학습용: 0.8885336764382704, 테스트용: 0.2952874693828468\n",
      "결정계수 =  학습용: 0.8885336764382704, 테스트용: 0.28167523424040153\n",
      "결정계수 =  학습용: 0.8885336764382704, 테스트용: 0.27290772918282\n",
      "결정계수 =  학습용: 0.8885336764382704, 테스트용: 0.27764175837724203\n",
      "결정계수 =  학습용: 0.8885336764382704, 테스트용: 0.25539277315758635\n",
      "결정계수 =  학습용: 0.8885336764382704, 테스트용: 0.28571401391818685\n",
      "결정계수 =  학습용: 0.8885336764382704, 테스트용: 0.28792382952995765\n",
      "결정계수 =  학습용: 0.8885336764382704, 테스트용: 0.27045420386603636\n",
      "결정계수 =  학습용: 0.8885336764382704, 테스트용: 0.2800164880655762\n",
      "결정계수 =  학습용: 0.8885336764382704, 테스트용: 0.27363756936926253\n",
      "결정계수 =  학습용: 0.8885336764382704, 테스트용: 0.24860051848029774\n",
      "결정계수 =  학습용: 0.8885336764382704, 테스트용: 0.26329035009372703\n",
      "결정계수 =  학습용: 0.8885336764382704, 테스트용: 0.2744982478154222\n",
      "결정계수 =  학습용: 0.8885336764382704, 테스트용: 0.2676457864522003\n",
      "결정계수 =  학습용: 0.8885336764382704, 테스트용: 0.26379243077878634\n",
      "결정계수 =  학습용: 0.8885336764382704, 테스트용: 0.2823745445685296\n",
      "결정계수 =  학습용: 0.8885336764382704, 테스트용: 0.27596188446461\n",
      "결정계수 =  학습용: 0.8885336764382704, 테스트용: 0.2779478899623029\n",
      "결정계수 =  학습용: 0.8885336764382704, 테스트용: 0.2376749064901298\n",
      "결정계수 =  학습용: 0.8885336764382704, 테스트용: 0.2628566036011455\n",
      "결정계수 =  학습용: 0.8885336764382704, 테스트용: 0.2810911907926291\n",
      "결정계수 =  학습용: 0.8885336764382704, 테스트용: 0.2673678008981685\n",
      "결정계수 =  학습용: 0.8885336764382704, 테스트용: 0.27453522140880227\n",
      "결정계수 =  학습용: 0.8885336764382704, 테스트용: 0.2616329919417707\n",
      "결정계수 =  학습용: 0.8885336764382704, 테스트용: 0.25692037740149154\n",
      "결정계수 =  학습용: 0.8885336764382704, 테스트용: 0.2649640048445955\n",
      "결정계수 =  학습용: 0.8885336764382704, 테스트용: 0.28670452263034096\n",
      "결정계수 =  학습용: 0.8885336764382704, 테스트용: 0.27963251792338206\n",
      "결정계수 =  학습용: 0.8885336764382704, 테스트용: 0.28469226750492727\n",
      "결정계수 =  학습용: 0.8885336764382704, 테스트용: 0.27834607851313176\n",
      "결정계수 =  학습용: 0.8885336764382704, 테스트용: 0.2653746050163893\n",
      "결정계수 =  학습용: 0.8885336764382704, 테스트용: 0.2552939529399998\n",
      "결정계수 =  학습용: 0.8885336764382704, 테스트용: 0.2645528835338863\n",
      "결정계수 =  학습용: 0.8885336764382704, 테스트용: 0.280300091432652\n",
      "결정계수 =  학습용: 0.8885336764382704, 테스트용: 0.2775835592687007\n",
      "결정계수 =  학습용: 0.8885336764382704, 테스트용: 0.27223750887900766\n",
      "결정계수 =  학습용: 0.8885336764382704, 테스트용: 0.25614147260736664\n",
      "결정계수 =  학습용: 0.8885336764382704, 테스트용: 0.2586287030941581\n",
      "결정계수 =  학습용: 0.8885336764382704, 테스트용: 0.2571780332764807\n",
      "결정계수 =  학습용: 0.8885336764382704, 테스트용: 0.26725981449646563\n",
      "결정계수 =  학습용: 0.8885336764382704, 테스트용: 0.2752495830716123\n",
      "결정계수 =  학습용: 0.8885336764382704, 테스트용: 0.26756713176884805\n",
      "결정계수 =  학습용: 0.8885336764382704, 테스트용: 0.26187486703421914\n",
      "결정계수 =  학습용: 0.8885336764382704, 테스트용: 0.26632543963573674\n",
      "결정계수 =  학습용: 0.8885336764382704, 테스트용: 0.27630083846579856\n",
      "결정계수 =  학습용: 0.8885336764382704, 테스트용: 0.2636272509660118\n",
      "결정계수 =  학습용: 0.8885336764382704, 테스트용: 0.2614521207854287\n",
      "결정계수 =  학습용: 0.8885336764382704, 테스트용: 0.2914359775609524\n",
      "결정계수 =  학습용: 0.8885336764382704, 테스트용: 0.25953591661961806\n",
      "결정계수 =  학습용: 0.8885336764382704, 테스트용: 0.2759337190709069\n",
      "결정계수 =  학습용: 0.8885336764382704, 테스트용: 0.25672221914930604\n",
      "결정계수 =  학습용: 0.8885336764382704, 테스트용: 0.25920072683161255\n"
     ]
    },
    {
     "name": "stdout",
     "output_type": "stream",
     "text": [
      "결정계수 =  학습용: 0.8885336764382704, 테스트용: 0.2757694378702439\n",
      "결정계수 =  학습용: 0.8885336764382704, 테스트용: 0.28130047919903833\n",
      "결정계수 =  학습용: 0.8885336764382704, 테스트용: 0.2875516464348863\n",
      "결정계수 =  학습용: 0.8885336764382704, 테스트용: 0.276514228902913\n",
      "결정계수 =  학습용: 0.8885336764382704, 테스트용: 0.2598162583677591\n",
      "결정계수 =  학습용: 0.8885336764382704, 테스트용: 0.2727825066804286\n",
      "결정계수 =  학습용: 0.8885336764382704, 테스트용: 0.2796072536202904\n",
      "결정계수 =  학습용: 0.8885336764382704, 테스트용: 0.27825113736833396\n",
      "결정계수 =  학습용: 0.8885336764382704, 테스트용: 0.27741876921423525\n",
      "결정계수 =  학습용: 0.8885336764382704, 테스트용: 0.2679031085884812\n",
      "결정계수 =  학습용: 0.8885336764382704, 테스트용: 0.2712593140361962\n",
      "결정계수 =  학습용: 0.8885336764382704, 테스트용: 0.2570296210416838\n",
      "결정계수 =  학습용: 0.8885336764382704, 테스트용: 0.2727856258848933\n",
      "결정계수 =  학습용: 0.8885336764382704, 테스트용: 0.2725242652061206\n",
      "결정계수 =  학습용: 0.8885336764382704, 테스트용: 0.2824986037859545\n",
      "결정계수 =  학습용: 0.8885336764382704, 테스트용: 0.2646661533876682\n",
      "결정계수 =  학습용: 0.8885336764382704, 테스트용: 0.2646937410595056\n",
      "결정계수 =  학습용: 0.8885336764382704, 테스트용: 0.2688042752781913\n",
      "결정계수 =  학습용: 0.8885336764382704, 테스트용: 0.2676000335087617\n",
      "결정계수 =  학습용: 0.8885336764382704, 테스트용: 0.2833604444298887\n",
      "결정계수 =  학습용: 0.8885336764382704, 테스트용: 0.2846426848971827\n",
      "결정계수 =  학습용: 0.8885336764382704, 테스트용: 0.28386581938917854\n",
      "결정계수 =  학습용: 0.8885336764382704, 테스트용: 0.2710058872606568\n",
      "결정계수 =  학습용: 0.8885336764382704, 테스트용: 0.26668701311918586\n",
      "결정계수 =  학습용: 0.8885336764382704, 테스트용: 0.27389178019922733\n",
      "결정계수 =  학습용: 0.8885336764382704, 테스트용: 0.27232639221513255\n",
      "결정계수 =  학습용: 0.8885336764382704, 테스트용: 0.2527399479799157\n",
      "결정계수 =  학습용: 0.8885336764382704, 테스트용: 0.26695728684990216\n",
      "결정계수 =  학습용: 0.8885336764382704, 테스트용: 0.2823350433306888\n",
      "결정계수 =  학습용: 0.8885336764382704, 테스트용: 0.27694212192545775\n",
      "결정계수 =  학습용: 0.8885336764382704, 테스트용: 0.25904174582290107\n",
      "결정계수 =  학습용: 0.8885336764382704, 테스트용: 0.27262318550875453\n",
      "결정계수 =  학습용: 0.8885336764382704, 테스트용: 0.26405421092901005\n",
      "결정계수 =  학습용: 0.8885336764382704, 테스트용: 0.26529983584986405\n",
      "결정계수 =  학습용: 0.8885336764382704, 테스트용: 0.26417693242881657\n",
      "결정계수 =  학습용: 0.8885336764382704, 테스트용: 0.27907070261305544\n",
      "결정계수 =  학습용: 0.8885336764382704, 테스트용: 0.26623717150139825\n",
      "결정계수 =  학습용: 0.8885336764382704, 테스트용: 0.24531881730001026\n",
      "결정계수 =  학습용: 0.8885336764382704, 테스트용: 0.2646094698749659\n",
      "결정계수 =  학습용: 0.8885336764382704, 테스트용: 0.2656233428650744\n",
      "결정계수 =  학습용: 0.8885336764382704, 테스트용: 0.2816735585922254\n",
      "결정계수 =  학습용: 0.8885336764382704, 테스트용: 0.2694232001685367\n",
      "결정계수 =  학습용: 0.8885336764382704, 테스트용: 0.2676882618094554\n",
      "결정계수 =  학습용: 0.8885336764382704, 테스트용: 0.26922895165439364\n",
      "결정계수 =  학습용: 0.8885336764382704, 테스트용: 0.27073110948359536\n",
      "결정계수 =  학습용: 0.8885336764382704, 테스트용: 0.2808705312646307\n",
      "결정계수 =  학습용: 0.8885336764382704, 테스트용: 0.26879273127138714\n",
      "결정계수 =  학습용: 0.8885336764382704, 테스트용: 0.27697412639112495\n",
      "결정계수 =  학습용: 0.8885336764382704, 테스트용: 0.2516342313647426\n",
      "결정계수 =  학습용: 0.8885336764382704, 테스트용: 0.2773199494121139\n",
      "결정계수 =  학습용: 0.8885336764382704, 테스트용: 0.2677673700670903\n",
      "결정계수 =  학습용: 0.8885336764382704, 테스트용: 0.25963545939699073\n",
      "결정계수 =  학습용: 0.8885336764382704, 테스트용: 0.25279636279655515\n",
      "결정계수 =  학습용: 0.8885336764382704, 테스트용: 0.2715999995589765\n",
      "결정계수 =  학습용: 0.8885336764382704, 테스트용: 0.2656272549936708\n",
      "결정계수 =  학습용: 0.8885336764382704, 테스트용: 0.2733751562160426\n",
      "결정계수 =  학습용: 0.8885336764382704, 테스트용: 0.2790688050289123\n",
      "결정계수 =  학습용: 0.8885336764382704, 테스트용: 0.2638350785336814\n",
      "결정계수 =  학습용: 0.8885336764382704, 테스트용: 0.2644026342194752\n",
      "결정계수 =  학습용: 0.8885336764382704, 테스트용: 0.26915280087152016\n",
      "결정계수 =  학습용: 0.8885336764382704, 테스트용: 0.2687444455381196\n",
      "결정계수 =  학습용: 0.8885336764382704, 테스트용: 0.266671058631322\n",
      "결정계수 =  학습용: 0.8885336764382704, 테스트용: 0.27590587502702235\n",
      "결정계수 =  학습용: 0.8885336764382704, 테스트용: 0.2636173316064362\n",
      "결정계수 =  학습용: 0.8885336764382704, 테스트용: 0.26977472252285895\n",
      "결정계수 =  학습용: 0.8885336764382704, 테스트용: 0.25739168306796745\n",
      "결정계수 =  학습용: 0.8885336764382704, 테스트용: 0.26878427796685234\n",
      "결정계수 =  학습용: 0.8885336764382704, 테스트용: 0.2634058922551893\n",
      "결정계수 =  학습용: 0.8885336764382704, 테스트용: 0.28271076261125516\n",
      "결정계수 =  학습용: 0.8885336764382704, 테스트용: 0.268320105445348\n",
      "결정계수 =  학습용: 0.8885336764382704, 테스트용: 0.27414333405345304\n",
      "결정계수 =  학습용: 0.8885336764382704, 테스트용: 0.2708671981885892\n",
      "결정계수 =  학습용: 0.8885336764382704, 테스트용: 0.2691409013953425\n",
      "결정계수 =  학습용: 0.8885336764382704, 테스트용: 0.2715231095135152\n",
      "결정계수 =  학습용: 0.8885336764382704, 테스트용: 0.2398404574946934\n",
      "결정계수 =  학습용: 0.8885336764382704, 테스트용: 0.2693246896118827\n",
      "결정계수 =  학습용: 0.8885336764382704, 테스트용: 0.27488312181616237\n",
      "결정계수 =  학습용: 0.8885336764382704, 테스트용: 0.2775802605121711\n",
      "결정계수 =  학습용: 0.8885336764382704, 테스트용: 0.25003975218899066\n",
      "결정계수 =  학습용: 0.8885336764382704, 테스트용: 0.29100412834294265\n",
      "결정계수 =  학습용: 0.8885336764382704, 테스트용: 0.2830563698183387\n",
      "결정계수 =  학습용: 0.8885336764382704, 테스트용: 0.2881920262236436\n",
      "결정계수 =  학습용: 0.8885336764382704, 테스트용: 0.27386466352678396\n",
      "결정계수 =  학습용: 0.8885336764382704, 테스트용: 0.2795235178808507\n",
      "결정계수 =  학습용: 0.8885336764382704, 테스트용: 0.29000261397748284\n",
      "결정계수 =  학습용: 0.8885336764382704, 테스트용: 0.259739120259067\n",
      "결정계수 =  학습용: 0.8885336764382704, 테스트용: 0.2464443939115677\n",
      "결정계수 =  학습용: 0.8885336764382704, 테스트용: 0.27104771836481867\n",
      "결정계수 =  학습용: 0.8885336764382704, 테스트용: 0.24981785936306677\n",
      "결정계수 =  학습용: 0.8885336764382704, 테스트용: 0.271418828073426\n",
      "결정계수 =  학습용: 0.8885336764382704, 테스트용: 0.26821212428237173\n",
      "결정계수 =  학습용: 0.8885336764382704, 테스트용: 0.26704458310548995\n",
      "결정계수 =  학습용: 0.8885336764382704, 테스트용: 0.287139938891556\n",
      "결정계수 =  학습용: 0.8885336764382704, 테스트용: 0.2784055677324462\n",
      "결정계수 =  학습용: 0.8885336764382704, 테스트용: 0.2845593610424797\n",
      "결정계수 =  학습용: 0.8885336764382704, 테스트용: 0.29076471268052595\n",
      "결정계수 =  학습용: 0.8885336764382704, 테스트용: 0.28486051313964433\n",
      "결정계수 =  학습용: 0.8885336764382704, 테스트용: 0.27604999161760724\n",
      "결정계수 =  학습용: 0.8885336764382704, 테스트용: 0.28248460565007205\n",
      "결정계수 =  학습용: 0.8885336764382704, 테스트용: 0.26561573712345243\n",
      "결정계수 =  학습용: 0.8885336764382704, 테스트용: 0.2705117982287518\n",
      "결정계수 =  학습용: 0.8885336764382704, 테스트용: 0.27136652748268875\n",
      "결정계수 =  학습용: 0.8885336764382704, 테스트용: 0.25934214685340995\n",
      "결정계수 =  학습용: 0.8885336764382704, 테스트용: 0.2833393346270977\n",
      "결정계수 =  학습용: 0.8885336764382704, 테스트용: 0.2853693094908235\n",
      "결정계수 =  학습용: 0.8885336764382704, 테스트용: 0.2643108920110635\n",
      "결정계수 =  학습용: 0.8885336764382704, 테스트용: 0.26737588360910924\n",
      "결정계수 =  학습용: 0.8885336764382704, 테스트용: 0.282946583624903\n",
      "결정계수 =  학습용: 0.8885336764382704, 테스트용: 0.26706599889706706\n",
      "결정계수 =  학습용: 0.8885336764382704, 테스트용: 0.27843121565208406\n",
      "결정계수 =  학습용: 0.8885336764382704, 테스트용: 0.2725429512617068\n",
      "결정계수 =  학습용: 0.8885336764382704, 테스트용: 0.25564317907800416\n",
      "결정계수 =  학습용: 0.8885336764382704, 테스트용: 0.284839073664806\n",
      "결정계수 =  학습용: 0.8885336764382704, 테스트용: 0.2602901291091875\n",
      "결정계수 =  학습용: 0.8885336764382704, 테스트용: 0.284814453770461\n",
      "결정계수 =  학습용: 0.8885336764382704, 테스트용: 0.2782297662734745\n",
      "결정계수 =  학습용: 0.8885336764382704, 테스트용: 0.2867697729254114\n",
      "결정계수 =  학습용: 0.8885336764382704, 테스트용: 0.2642477206453523\n",
      "결정계수 =  학습용: 0.8885336764382704, 테스트용: 0.2750365796271059\n",
      "결정계수 =  학습용: 0.8885336764382704, 테스트용: 0.260419062140418\n",
      "결정계수 =  학습용: 0.8885336764382704, 테스트용: 0.2469734234865153\n",
      "결정계수 =  학습용: 0.8885336764382704, 테스트용: 0.2903728987323433\n",
      "결정계수 =  학습용: 0.8885336764382704, 테스트용: 0.2550256073991376\n",
      "결정계수 =  학습용: 0.8885336764382704, 테스트용: 0.25488062313810134\n",
      "결정계수 =  학습용: 0.8885336764382704, 테스트용: 0.27423319639261967\n",
      "결정계수 =  학습용: 0.8885336764382704, 테스트용: 0.2628430896887155\n",
      "결정계수 =  학습용: 0.8885336764382704, 테스트용: 0.2802594045936082\n",
      "결정계수 =  학습용: 0.8885336764382704, 테스트용: 0.2607324803435498\n",
      "결정계수 =  학습용: 0.8885336764382704, 테스트용: 0.26401988268955534\n",
      "결정계수 =  학습용: 0.8885336764382704, 테스트용: 0.2770146884909025\n",
      "결정계수 =  학습용: 0.8885336764382704, 테스트용: 0.2521768053148902\n",
      "결정계수 =  학습용: 0.8885336764382704, 테스트용: 0.26558689019575843\n",
      "결정계수 =  학습용: 0.8885336764382704, 테스트용: 0.26790374826244423\n",
      "결정계수 =  학습용: 0.8885336764382704, 테스트용: 0.27265694573172816\n",
      "결정계수 =  학습용: 0.8885336764382704, 테스트용: 0.2659803345820392\n",
      "결정계수 =  학습용: 0.8885336764382704, 테스트용: 0.27975529583914005\n",
      "결정계수 =  학습용: 0.8885336764382704, 테스트용: 0.274080470251142\n",
      "결정계수 =  학습용: 0.8885336764382704, 테스트용: 0.2714689312065597\n",
      "결정계수 =  학습용: 0.8885336764382704, 테스트용: 0.28589020372524054\n",
      "결정계수 =  학습용: 0.8885336764382704, 테스트용: 0.255181754118342\n",
      "결정계수 =  학습용: 0.8885336764382704, 테스트용: 0.28400750738945635\n",
      "결정계수 =  학습용: 0.8885336764382704, 테스트용: 0.2716707494425781\n"
     ]
    },
    {
     "name": "stdout",
     "output_type": "stream",
     "text": [
      "결정계수 =  학습용: 0.8885336764382704, 테스트용: 0.26130061228614976\n",
      "결정계수 =  학습용: 0.8885336764382704, 테스트용: 0.28025903315222955\n",
      "결정계수 =  학습용: 0.8885336764382704, 테스트용: 0.2707026153399037\n",
      "결정계수 =  학습용: 0.8885336764382704, 테스트용: 0.2858310451382253\n",
      "결정계수 =  학습용: 0.8885336764382704, 테스트용: 0.27287932782796576\n",
      "결정계수 =  학습용: 0.8885336764382704, 테스트용: 0.2780722713636067\n",
      "결정계수 =  학습용: 0.8885336764382704, 테스트용: 0.2818472290693572\n",
      "결정계수 =  학습용: 0.8885336764382704, 테스트용: 0.27729517035383944\n",
      "결정계수 =  학습용: 0.8885336764382704, 테스트용: 0.2800348108021208\n",
      "결정계수 =  학습용: 0.8885336764382704, 테스트용: 0.2816112787542192\n",
      "결정계수 =  학습용: 0.8885336764382704, 테스트용: 0.27563100809782226\n",
      "결정계수 =  학습용: 0.8885336764382704, 테스트용: 0.2697681013398058\n",
      "결정계수 =  학습용: 0.8885336764382704, 테스트용: 0.29481640884812765\n",
      "결정계수 =  학습용: 0.8885336764382704, 테스트용: 0.26522485897661063\n",
      "결정계수 =  학습용: 0.8885336764382704, 테스트용: 0.28536457006082505\n",
      "결정계수 =  학습용: 0.8885336764382704, 테스트용: 0.27299910006028316\n",
      "결정계수 =  학습용: 0.8885336764382704, 테스트용: 0.2791600528227547\n",
      "결정계수 =  학습용: 0.8885336764382704, 테스트용: 0.266862670464301\n",
      "결정계수 =  학습용: 0.8885336764382704, 테스트용: 0.2719915819361861\n",
      "결정계수 =  학습용: 0.8885336764382704, 테스트용: 0.28033132691228624\n",
      "결정계수 =  학습용: 0.8885336764382704, 테스트용: 0.25854931707643525\n",
      "결정계수 =  학습용: 0.8885336764382704, 테스트용: 0.276140127080295\n",
      "결정계수 =  학습용: 0.8885336764382704, 테스트용: 0.264771812578377\n",
      "결정계수 =  학습용: 0.8885336764382704, 테스트용: 0.28693794243516835\n",
      "결정계수 =  학습용: 0.8885336764382704, 테스트용: 0.25821686097928565\n",
      "결정계수 =  학습용: 0.8885336764382704, 테스트용: 0.25450681266769537\n",
      "결정계수 =  학습용: 0.8885336764382704, 테스트용: 0.2776895641356364\n",
      "결정계수 =  학습용: 0.8885336764382704, 테스트용: 0.2650824940044366\n",
      "결정계수 =  학습용: 0.8885336764382704, 테스트용: 0.2873271258814466\n",
      "결정계수 =  학습용: 0.8885336764382704, 테스트용: 0.2645455713053383\n",
      "결정계수 =  학습용: 0.8885336764382704, 테스트용: 0.27818885333740173\n",
      "결정계수 =  학습용: 0.8885336764382704, 테스트용: 0.28794737718755925\n",
      "결정계수 =  학습용: 0.8885336764382704, 테스트용: 0.261094650057502\n",
      "결정계수 =  학습용: 0.8885336764382704, 테스트용: 0.26609424857714337\n",
      "결정계수 =  학습용: 0.8885336764382704, 테스트용: 0.2765569915482684\n",
      "결정계수 =  학습용: 0.8885336764382704, 테스트용: 0.2854159449238942\n",
      "결정계수 =  학습용: 0.8885336764382704, 테스트용: 0.27096854926766756\n",
      "결정계수 =  학습용: 0.8885336764382704, 테스트용: 0.25060305657439697\n",
      "결정계수 =  학습용: 0.8885336764382704, 테스트용: 0.2582620594283347\n",
      "결정계수 =  학습용: 0.8885336764382704, 테스트용: 0.25582291572196836\n",
      "결정계수 =  학습용: 0.8885336764382704, 테스트용: 0.25750576216129517\n",
      "결정계수 =  학습용: 0.8885336764382704, 테스트용: 0.2796256975115323\n",
      "결정계수 =  학습용: 0.8885336764382704, 테스트용: 0.26520355906773163\n",
      "결정계수 =  학습용: 0.8885336764382704, 테스트용: 0.2805999709943017\n",
      "결정계수 =  학습용: 0.8885336764382704, 테스트용: 0.24440131737580972\n",
      "결정계수 =  학습용: 0.8885336764382704, 테스트용: 0.2842061974079543\n",
      "결정계수 =  학습용: 0.8885336764382704, 테스트용: 0.27082644962503233\n",
      "결정계수 =  학습용: 0.8885336764382704, 테스트용: 0.25800199384853684\n",
      "결정계수 =  학습용: 0.8885336764382704, 테스트용: 0.27345021681710624\n",
      "결정계수 =  학습용: 0.8885336764382704, 테스트용: 0.28146717246903097\n",
      "결정계수 =  학습용: 0.8885336764382704, 테스트용: 0.29113165167982136\n",
      "결정계수 =  학습용: 0.8885336764382704, 테스트용: 0.2581528613289886\n",
      "결정계수 =  학습용: 0.8885336764382704, 테스트용: 0.26538062868312284\n",
      "결정계수 =  학습용: 0.8885336764382704, 테스트용: 0.27430293165742237\n",
      "결정계수 =  학습용: 0.8885336764382704, 테스트용: 0.2662393918217647\n",
      "결정계수 =  학습용: 0.8885336764382704, 테스트용: 0.2801743418688091\n",
      "결정계수 =  학습용: 0.8885336764382704, 테스트용: 0.2945091259154171\n",
      "결정계수 =  학습용: 0.8885336764382704, 테스트용: 0.26860434019556856\n",
      "결정계수 =  학습용: 0.8885336764382704, 테스트용: 0.28934558376913033\n",
      "결정계수 =  학습용: 0.8885336764382704, 테스트용: 0.26460492522228174\n",
      "결정계수 =  학습용: 0.8885336764382704, 테스트용: 0.2594612999477097\n",
      "결정계수 =  학습용: 0.8885336764382704, 테스트용: 0.27139323688945294\n",
      "결정계수 =  학습용: 0.8885336764382704, 테스트용: 0.2704616701659156\n",
      "결정계수 =  학습용: 0.8885336764382704, 테스트용: 0.2651464925519489\n",
      "결정계수 =  학습용: 0.8885336764382704, 테스트용: 0.2645683490645385\n",
      "결정계수 =  학습용: 0.8885336764382704, 테스트용: 0.26773827278587614\n",
      "결정계수 =  학습용: 0.8885336764382704, 테스트용: 0.26661830127753916\n",
      "결정계수 =  학습용: 0.8885336764382704, 테스트용: 0.28429611691801193\n",
      "결정계수 =  학습용: 0.8885336764382704, 테스트용: 0.2810566456174055\n",
      "결정계수 =  학습용: 0.8885336764382704, 테스트용: 0.27680117157991413\n"
     ]
    }
   ],
   "source": [
    "for one_model in model.estimators_:\n",
    "    model = one_model\n",
    "    model.fit(X_train, y_train)\n",
    "    acc_tr = model.score(X_train, y_train)\n",
    "    acc_test = model.score(X_test, y_test)\n",
    "    print(\"결정계수 =  학습용: {}, 테스트용: {}\".format(acc_tr, acc_test))"
   ]
  },
  {
   "cell_type": "code",
   "execution_count": 52,
   "metadata": {},
   "outputs": [],
   "source": [
    "# model : 모델\n",
    "# n_features : feature(변수의 개수)\n",
    "# feature_names : 특성의 이름\n",
    "def plot_feature_important_up(model, n_features, feature_names):\n",
    "  imp = model.feature_importances_     # feature의 중요도 \n",
    "  plt.barh(range(n_features) , imp, align='center')  # 그래프(가로 막대 그래프)\n",
    "  plt.yticks(np.arange(n_features), feature_names)  #y축의 축의 값\n",
    "  plt.xlabel(\"feature importance\")   # x축 레이블(제목)\n",
    "  plt.ylabel(\"feature\")              # y축 제목\n",
    "  plt.ylim(-1, n_features)           # y축의 범위 지정 \n"
   ]
  },
  {
   "cell_type": "code",
   "execution_count": 59,
   "metadata": {
    "scrolled": true
   },
   "outputs": [
    {
     "data": {
      "image/png": "[encoded data removed]",
      "text/plain": [
       "<Figure size 432x288 with 1 Axes>"
      ]
     },
     "metadata": {
      "needs_background": "light"
     },
     "output_type": "display_data"
    }
   ],
   "source": [
    "feature_names = sel\n",
    "n_features = 3\n",
    "plot_feature_important_up(model, n_features, feature_names)\n"
   ]
  },
  {
   "cell_type": "markdown",
   "metadata": {},
   "source": [
    "### 여러가지 특성을 넣어 성능 개선시켜보기"
   ]
  },
  {
   "cell_type": "code",
   "execution_count": 60,
   "metadata": {},
   "outputs": [],
   "source": [
    "sel = ['id', 'bedrooms', 'bathrooms', 'sqft_living', 'sqft_lot',\n",
    "       'floors', 'waterfront', 'view', 'condition', 'grade', 'sqft_above',\n",
    "       'sqft_basement', 'yr_built', 'yr_renovated', 'zipcode', 'lat', 'long',\n",
    "       'sqft_living15', 'sqft_lot15']\n",
    "X = X_all[sel]\n",
    "y = train['price']"
   ]
  },
  {
   "cell_type": "code",
   "execution_count": 61,
   "metadata": {},
   "outputs": [
    {
     "name": "stdout",
     "output_type": "stream",
     "text": [
      "결정계수 =  학습용: 0.8491101629138559, 테스트용: 0.47124564727141893\n",
      "Wall time: 3.49 s\n"
     ]
    }
   ],
   "source": [
    "%%time\n",
    "model = RandomForestRegressor(n_estimators = 100, n_jobs=1)\n",
    "model.fit(X_train, y_train)\n",
    "acc_tr = model.score(X_train, y_train)\n",
    "acc_test = model.score(X_test, y_test)\n",
    "print(\"결정계수 =  학습용: {}, 테스트용: {}\".format(acc_tr, acc_test))"
   ]
  },
  {
   "cell_type": "code",
   "execution_count": null,
   "metadata": {},
   "outputs": [],
   "source": [
    "%%time\n",
    "model = RandomForestRegressor(n_estimators = 100, n_jobs=1)\n",
    "model.fit(X_train, y_train)\n",
    "acc_tr = model.score(X_train, y_train)\n",
    "acc_test = model.score(X_test, y_test)\n",
    "print(\"결정계수 =  학습용: {}, 테스트용: {}\".format(acc_tr, acc_test))"
   ]
  },
  {
   "cell_type": "markdown",
   "metadata": {},
   "source": [
    "### 유방암 데이터 셋 이용"
   ]
  },
  {
   "cell_type": "code",
   "execution_count": 62,
   "metadata": {},
   "outputs": [],
   "source": [
    "# 01 데이터 셋 불러오기\n",
    "from sklearn.ensemble import RandomForestClassifier\n",
    "from sklearn.datasets import load_breast_cancer\n",
    "import mglearn\n",
    "cancer = load_breast_cancer()\n",
    "\n",
    "X = cancer.data\n",
    "y = cancer.target\n"
   ]
  },
  {
   "cell_type": "code",
   "execution_count": 67,
   "metadata": {},
   "outputs": [
    {
     "name": "stdout",
     "output_type": "stream",
     "text": [
      "acc_tr : 1.000000\n",
      "acc_test: 0.972028\n"
     ]
    }
   ],
   "source": [
    "# 02 데이터 셋 나누기 및 학습\n",
    "\n",
    "X_train, X_test, y_train, y_test = train_test_split(X, y, \n",
    "                                                   stratify = cancer.target,\n",
    "                                                   random_state=42)\n",
    "\n",
    "forest = RandomForestClassifier(n_estimators=10, random_state=2)\n",
    "forest.fit(X_train, y_train)\n",
    "print(\"acc_tr : {:3f}\".format(forest.score(X_train, y_train)))\n",
    "print(\"acc_test: {:3f}\".format(forest.score(X_test, y_test)))"
   ]
  },
  {
   "cell_type": "code",
   "execution_count": 68,
   "metadata": {},
   "outputs": [
    {
     "name": "stdout",
     "output_type": "stream",
     "text": [
      "acc_tr : 1.000000\n",
      "acc_test: 0.972028\n",
      "acc_tr : 1.000000\n",
      "acc_test: 0.965035\n",
      "acc_tr : 1.000000\n",
      "acc_test: 0.965035\n",
      "acc_tr : 1.000000\n",
      "acc_test: 0.965035\n",
      "acc_tr : 1.000000\n",
      "acc_test: 0.965035\n",
      "acc_tr : 1.000000\n",
      "acc_test: 0.965035\n",
      "acc_tr : 1.000000\n",
      "acc_test: 0.951049\n",
      "acc_tr : 1.000000\n",
      "acc_test: 0.958042\n",
      "acc_tr : 1.000000\n",
      "acc_test: 0.958042\n",
      "acc_tr : 1.000000\n",
      "acc_test: 0.951049\n"
     ]
    }
   ],
   "source": [
    "#10개의 모델에 대한 정확도 평가\n",
    "for model in forest.estimators_:\n",
    "    model.fit(X_train, y_train)\n",
    "    print(\"acc_tr : {:3f}\".format(forest.score(X_train, y_train)))\n",
    "    print(\"acc_test: {:3f}\".format(forest.score(X_test, y_test)))"
   ]
  },
  {
   "cell_type": "code",
   "execution_count": 69,
   "metadata": {},
   "outputs": [
    {
     "name": "stdout",
     "output_type": "stream",
     "text": [
      "[0.0699766  0.01289827 0.0079474  0.06948169 0.00980288 0.00500008\n",
      " 0.00503979 0.17094406 0.0035906  0.00279302 0.04655934 0.01140857\n",
      " 0.00099859 0.05764582 0.00394819 0.00255004 0.         0.00638614\n",
      " 0.00324953 0.00693555 0.16522392 0.03063327 0.08567218 0.08200288\n",
      " 0.00753426 0.00813192 0.03126757 0.06380843 0.01436037 0.01420904]\n",
      "auto\n",
      "10\n",
      "30\n",
      "False\n",
      "RandomForestClassifier(n_estimators=10, random_state=2)\n"
     ]
    }
   ],
   "source": [
    "print(forest.feature_importances_)\n",
    "print(forest.max_features) #하나의 트리 만들 때 사용하는 features 수\n",
    "print(forest.n_estimators) #우리가 만들 모델의 개수\n",
    "print(\"전체 사용한 특성의 개수: \", forest.n_features_)\n",
    "\n",
    "## 사용하는 샘플링 방법: 부트스트랩 샘플링.\n",
    "print(forest.oob_score)\n",
    "print(forest)"
   ]
  },
  {
   "cell_type": "code",
   "execution_count": 70,
   "metadata": {},
   "outputs": [
    {
     "data": {
      "text/plain": [
       "RandomForestClassifier(random_state=0)"
      ]
     },
     "execution_count": 70,
     "metadata": {},
     "output_type": "execute_result"
    }
   ],
   "source": [
    "forest1 = RandomForestClassifier(n_estimators=100, random_state=0)  # 100개의 트리 \n",
    "forest1.fit(X_train, y_train)\n"
   ]
  },
  {
   "cell_type": "code",
   "execution_count": 71,
   "metadata": {},
   "outputs": [
    {
     "data": {
      "text/plain": [
       "array(['mean radius', 'mean texture', 'mean perimeter', 'mean area',\n",
       "       'mean smoothness', 'mean compactness', 'mean concavity',\n",
       "       'mean concave points', 'mean symmetry', 'mean fractal dimension',\n",
       "       'radius error', 'texture error', 'perimeter error', 'area error',\n",
       "       'smoothness error', 'compactness error', 'concavity error',\n",
       "       'concave points error', 'symmetry error',\n",
       "       'fractal dimension error', 'worst radius', 'worst texture',\n",
       "       'worst perimeter', 'worst area', 'worst smoothness',\n",
       "       'worst compactness', 'worst concavity', 'worst concave points',\n",
       "       'worst symmetry', 'worst fractal dimension'], dtype='<U23')"
      ]
     },
     "execution_count": 71,
     "metadata": {},
     "output_type": "execute_result"
    }
   ],
   "source": [
    "cancer.feature_names\n"
   ]
  },
  {
   "cell_type": "code",
   "execution_count": 72,
   "metadata": {},
   "outputs": [],
   "source": [
    "# 한글\n",
    "import matplotlib\n",
    "from matplotlib import font_manager, rc\n",
    "font_loc = \"C:/Windows/Fonts/malgunbd.ttf\"\n",
    "font_name = font_manager.FontProperties(fname=font_loc).get_name()\n",
    "matplotlib.rc('font', family=font_name)\n",
    "matplotlib.rcParams['axes.unicode_minus'] = False\n",
    "\n",
    "%matplotlib inline\n"
   ]
  },
  {
   "cell_type": "code",
   "execution_count": 73,
   "metadata": {},
   "outputs": [],
   "source": [
    "# model : 모델\n",
    "# n_features : feature(변수의 개수)\n",
    "# feature_names : 특성의 이름\n",
    "def plot_feature_important_up(model, n_features, feature_names):\n",
    "  imp = model.feature_importances_     # feature의 중요도 \n",
    "  plt.barh(range(n_features) , imp, align='center')  # 그래프(가로 막대 그래프)\n",
    "  plt.yticks(np.arange(n_features), feature_names)  #y축의 축의 값\n",
    "  plt.xlabel(\"feature importance\")   # x축 레이블(제목)\n",
    "  plt.ylabel(\"feature\")              # y축 제목\n",
    "  plt.ylim(-1, n_features)           # y축의 범위 지정 \n",
    "\n"
   ]
  },
  {
   "cell_type": "code",
   "execution_count": 74,
   "metadata": {},
   "outputs": [
    {
     "data": {
      "image/png": "[encoded data removed]",
      "text/plain": [
       "<Figure size 432x288 with 1 Axes>"
      ]
     },
     "metadata": {
      "needs_background": "light"
     },
     "output_type": "display_data"
    }
   ],
   "source": [
    "n_fea = cancer.data.shape[1]\n",
    "plot_feature_important_up(forest, n_fea, cancer.feature_names)\n"
   ]
  },
  {
   "cell_type": "code",
   "execution_count": 75,
   "metadata": {},
   "outputs": [],
   "source": [
    "from sklearn.ensemble import RandomForestClassifier\n",
    "from sklearn.datasets import make_moons\n"
   ]
  },
  {
   "cell_type": "code",
   "execution_count": 76,
   "metadata": {},
   "outputs": [
    {
     "data": {
      "text/plain": [
       "RandomForestClassifier(n_estimators=5, random_state=2)"
      ]
     },
     "execution_count": 76,
     "metadata": {},
     "output_type": "execute_result"
    }
   ],
   "source": [
    "X, y = make_moons(n_samples=100, noise=0.25, random_state=3)\n",
    "\n",
    "X_train, X_test, y_train, y_test = train_test_split(X, y, stratify=y, random_state=42)\n",
    "forest = RandomForestClassifier(n_estimators=5, random_state=2) # 5개의 트리\n",
    "forest.fit(X_train, y_train)\n"
   ]
  },
  {
   "cell_type": "code",
   "execution_count": 77,
   "metadata": {},
   "outputs": [
    {
     "data": {
      "image/png": "[encoded data removed]",
      "text/plain": [
       "<Figure size 1440x720 with 6 Axes>"
      ]
     },
     "metadata": {},
     "output_type": "display_data"
    }
   ],
   "source": [
    "fig, axes = plt.subplots(2,3, figsize=(20,10)) # 2행, 3열의 사이즈 20, 10으로 그리기\n",
    "# 각각의 트리에 각각의 트리 객체 대입\n",
    "# 1단계 : zip에 의해 그래프객체1~6(ax), 모델객체1~6(tree)\n",
    "# 2단계 : enumerate에 의해 인덱스 부여\n",
    "for i, (ax, tree) in enumerate(zip(axes.ravel(), forest.estimators_)):\n",
    "    ax.set_title(\"트리 {}\".format(i))\n",
    "    mglearn.plots.plot_tree_partition(X, y, tree, ax=ax)\n",
    "    mglearn.plots.plot_2d_separator(forest, X, fill=True, ax=axes[-1,-1], alpha=.4)\n",
    "    axes[-1, -1].set_title(\"랜덤 포레스트\")\n",
    "    mglearn.discrete_scatter(X[:, 0],X[:,1], y)\n"
   ]
  },
  {
   "cell_type": "markdown",
   "metadata": {},
   "source": [
    "### 모델 사용"
   ]
  },
  {
   "cell_type": "code",
   "execution_count": 78,
   "metadata": {},
   "outputs": [],
   "source": [
    "from sklearn.model_selection import train_test_split\n",
    "from sklearn.datasets import load_breast_cancer\n",
    "import matplotlib.pyplot as plt\n",
    "import numpy as np\n",
    "%matplotlib inline"
   ]
  },
  {
   "cell_type": "code",
   "execution_count": 79,
   "metadata": {},
   "outputs": [],
   "source": [
    "### 한글\n",
    "import matplotlib\n",
    "from matplotlib import font_manager, rc\n",
    "font_loc = \"C:/Windows/Fonts/malgunbd.ttf\"\n",
    "font_name = font_manager.FontProperties(fname=font_loc).get_name()\n",
    "matplotlib.rc('font', family=font_name)\n"
   ]
  },
  {
   "cell_type": "code",
   "execution_count": 80,
   "metadata": {},
   "outputs": [],
   "source": [
    "# n_features : 변수의 개수\n",
    "# feature_names : 변수의 이름 \n",
    "# model : 모델 \n",
    "def plot_feature_important_up(model, n_features, feature_names):\n",
    "  imp = model.feature_importances_     # feature의 중요도 \n",
    "  plt.barh(range(n_features) , imp, align='center')  # 그래프(가로 막대 그래프)\n",
    "  plt.yticks(np.arange(n_features), feature_names)  #y축의 축의 값\n",
    "  plt.xlabel(\"feature importance\")   # x축 레이블(제목)\n",
    "  plt.ylabel(\"feature\")              # y축 제목\n",
    "  plt.ylim(-1, n_features)           # y축의 범위 지정 \n"
   ]
  },
  {
   "cell_type": "code",
   "execution_count": 81,
   "metadata": {},
   "outputs": [],
   "source": [
    "from sklearn.ensemble import GradientBoostingClassifier"
   ]
  },
  {
   "cell_type": "code",
   "execution_count": 82,
   "metadata": {},
   "outputs": [],
   "source": [
    "cancer = load_breast_cancer()"
   ]
  },
  {
   "cell_type": "code",
   "execution_count": 83,
   "metadata": {},
   "outputs": [
    {
     "name": "stdout",
     "output_type": "stream",
     "text": [
      "dict_keys(['data', 'target', 'frame', 'target_names', 'DESCR', 'feature_names', 'filename'])\n",
      "['malignant' 'benign']\n",
      "[0 0 0 0 0 0 0 0 0 0 0 0 0 0 0 0 0 0 0 1 1 1 0 0 0 0 0 0 0 0 0 0 0 0 0 0 0\n",
      " 1 0 0 0 0 0 0 0 0 1 0 1 1 1 1 1 0 0 1 0 0 1 1 1 1 0 1 0 0 1 1 1 1 0 1 0 0\n",
      " 1 0 1 0 0 1 1 1 0 0 1 0 0 0 1 1 1 0 1 1 0 0 1 1 1 0 0 1 1 1 1 0 1 1 0 1 1\n",
      " 1 1 1 1 1 1 0 0 0 1 0 0 1 1 1 0 0 1 0 1 0 0 1 0 0 1 1 0 1 1 0 1 1 1 1 0 1\n",
      " 1 1 1 1 1 1 1 1 0 1 1 1 1 0 0 1 0 1 1 0 0 1 1 0 0 1 1 1 1 0 1 1 0 0 0 1 0\n",
      " 1 0 1 1 1 0 1 1 0 0 1 0 0 0 0 1 0 0 0 1 0 1 0 1 1 0 1 0 0 0 0 1 1 0 0 1 1\n",
      " 1 0 1 1 1 1 1 0 0 1 1 0 1 1 0 0 1 0 1 1 1 1 0 1 1 1 1 1 0 1 0 0 0 0 0 0 0\n",
      " 0 0 0 0 0 0 0 1 1 1 1 1 1 0 1 0 1 1 0 1 1 0 1 0 0 1 1 1 1 1 1 1 1 1 1 1 1\n",
      " 1 0 1 1 0 1 0 1 1 1 1 1 1 1 1 1 1 1 1 1 1 0 1 1 1 0 1 0 1 1 1 1 0 0 0 1 1\n",
      " 1 1 0 1 0 1 0 1 1 1 0 1 1 1 1 1 1 1 0 0 0 1 1 1 1 1 1 1 1 1 1 1 0 0 1 0 0\n",
      " 0 1 0 0 1 1 1 1 1 0 1 1 1 1 1 0 1 1 1 0 1 1 0 0 1 1 1 1 1 1 0 1 1 1 1 1 1\n",
      " 1 0 1 1 1 1 1 0 1 1 0 1 1 1 1 1 1 1 1 1 1 1 1 0 1 0 0 1 0 1 1 1 1 1 0 1 1\n",
      " 0 1 0 1 1 0 1 0 1 1 1 1 1 1 1 1 0 0 1 1 1 1 1 1 0 1 1 1 1 1 1 1 1 1 1 0 1\n",
      " 1 1 1 1 1 1 0 1 0 1 1 0 1 1 1 1 1 0 0 1 0 1 0 1 1 1 1 1 0 1 1 0 1 0 1 0 0\n",
      " 1 1 1 0 1 1 1 1 1 1 1 1 1 1 1 0 1 0 0 1 1 1 1 1 1 1 1 1 1 1 1 1 1 1 1 1 1\n",
      " 1 1 1 1 1 1 1 0 0 0 0 0 0 1]\n",
      "['mean radius' 'mean texture' 'mean perimeter' 'mean area'\n",
      " 'mean smoothness' 'mean compactness' 'mean concavity'\n",
      " 'mean concave points' 'mean symmetry' 'mean fractal dimension'\n",
      " 'radius error' 'texture error' 'perimeter error' 'area error'\n",
      " 'smoothness error' 'compactness error' 'concavity error'\n",
      " 'concave points error' 'symmetry error' 'fractal dimension error'\n",
      " 'worst radius' 'worst texture' 'worst perimeter' 'worst area'\n",
      " 'worst smoothness' 'worst compactness' 'worst concavity'\n",
      " 'worst concave points' 'worst symmetry' 'worst fractal dimension']\n",
      "(569, 30)\n",
      "[[1.799e+01 1.038e+01 1.228e+02 ... 2.654e-01 4.601e-01 1.189e-01]\n",
      " [2.057e+01 1.777e+01 1.329e+02 ... 1.860e-01 2.750e-01 8.902e-02]\n",
      " [1.969e+01 2.125e+01 1.300e+02 ... 2.430e-01 3.613e-01 8.758e-02]\n",
      " ...\n",
      " [1.660e+01 2.808e+01 1.083e+02 ... 1.418e-01 2.218e-01 7.820e-02]\n",
      " [2.060e+01 2.933e+01 1.401e+02 ... 2.650e-01 4.087e-01 1.240e-01]\n",
      " [7.760e+00 2.454e+01 4.792e+01 ... 0.000e+00 2.871e-01 7.039e-02]]\n"
     ]
    }
   ],
   "source": [
    "# 데이터 확인\n",
    "print(cancer.keys())\n",
    "print(cancer.target_names)      # 목적변수(종속변수)      \n",
    "print(cancer.target) \n",
    "print(cancer.feature_names)\n",
    "print(cancer.data.shape)        # 569행 , 30열\n",
    "print(cancer.data)              # 설명변수(독립변수)\n"
   ]
  },
  {
   "cell_type": "code",
   "execution_count": 84,
   "metadata": {},
   "outputs": [],
   "source": [
    "# 데이터 나누기 \n",
    "X = cancer.data\n",
    "y = cancer.target\n",
    "X_train, X_test, y_train, y_test = train_test_split(X, y, random_state=0)\n"
   ]
  },
  {
   "cell_type": "markdown",
   "metadata": {},
   "source": [
    "### 모델 생성 및 학습"
   ]
  },
  {
   "cell_type": "code",
   "execution_count": 85,
   "metadata": {},
   "outputs": [
    {
     "data": {
      "text/plain": [
       "GradientBoostingClassifier(random_state=0)"
      ]
     },
     "execution_count": 85,
     "metadata": {},
     "output_type": "execute_result"
    }
   ],
   "source": [
    "gbrt = GradientBoostingClassifier(random_state=0)\n",
    "gbrt.fit(X_train, y_train)\n"
   ]
  },
  {
   "cell_type": "code",
   "execution_count": 86,
   "metadata": {},
   "outputs": [
    {
     "name": "stdout",
     "output_type": "stream",
     "text": [
      "훈련 세트 정확도: 1.000\n",
      "테스트 세트 정확도: 0.965\n"
     ]
    }
   ],
   "source": [
    "# 정확도 확인\n",
    "print(\"훈련 세트 정확도: {:.3f}\".format(gbrt.score(X_train, y_train)))\n",
    "print(\"테스트 세트 정확도: {:.3f}\".format(gbrt.score(X_test, y_test)))\n"
   ]
  },
  {
   "cell_type": "code",
   "execution_count": 91,
   "metadata": {},
   "outputs": [
    {
     "name": "stdout",
     "output_type": "stream",
     "text": [
      "lr_rate: 0.01\n",
      "훈련 세트 정확도: 0.988\n",
      "테스트 세트 정확도: 0.965\n",
      "lr_rate: 0.05\n",
      "훈련 세트 정확도: 1.000\n",
      "테스트 세트 정확도: 0.965\n",
      "lr_rate: 0.07\n",
      "훈련 세트 정확도: 1.000\n",
      "테스트 세트 정확도: 0.965\n",
      "lr_rate: 0.09\n",
      "훈련 세트 정확도: 1.000\n",
      "테스트 세트 정확도: 0.965\n",
      "lr_rate: 0.001\n",
      "훈련 세트 정확도: 0.627\n",
      "테스트 세트 정확도: 0.629\n",
      "lr_rate: 0.005\n",
      "훈련 세트 정확도: 0.986\n",
      "테스트 세트 정확도: 0.965\n",
      "lr_rate: 0.007\n",
      "훈련 세트 정확도: 0.986\n",
      "테스트 세트 정확도: 0.965\n"
     ]
    }
   ],
   "source": [
    "lr_rate = [0.01, 0.05, 0.07, 0.09, 0.001, 0.005, 0.007]\n",
    "\n",
    "for i in lr_rate:\n",
    "    gbrt = GradientBoostingClassifier(random_state=0, learning_rate = i)\n",
    "    gbrt.fit(X_train, y_train)\n",
    "    print(\"lr_rate: {}\".format(i))\n",
    "    print(\"훈련 세트 정확도: {:.3f}\".format(gbrt.score(X_train, y_train)))\n",
    "    print(\"테스트 세트 정확도: {:.3f}\".format(gbrt.score(X_test, y_test)))\n"
   ]
  },
  {
   "cell_type": "markdown",
   "metadata": {},
   "source": []
  },
  {
   "cell_type": "code",
   "execution_count": 88,
   "metadata": {},
   "outputs": [
    {
     "name": "stdout",
     "output_type": "stream",
     "text": [
      "훈련 세트 정확도: 0.986\n",
      "테스트 세트 정확도: 0.965\n"
     ]
    }
   ],
   "source": []
  }
 ],
 "metadata": {
  "kernelspec": {
   "display_name": "Python 3",
   "language": "python",
   "name": "python3"
  },
  "language_info": {
   "codemirror_mode": {
    "name": "ipython",
    "version": 3
   },
   "file_extension": ".py",
   "mimetype": "text/x-python",
   "name": "python",
   "nbconvert_exporter": "python",
   "pygments_lexer": "ipython3",
   "version": "3.8.3"
  }
 },
 "nbformat": 4,
 "nbformat_minor": 4
}
