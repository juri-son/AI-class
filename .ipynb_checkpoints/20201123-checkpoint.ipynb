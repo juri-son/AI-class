{
 "cells": [
  {
   "cell_type": "markdown",
   "metadata": {},
   "source": [
    "### Review\n",
    "# 파이썬 시각화\n",
    " * matplotlib, seaborn\n",
    " * plotly, folium\n",
    " * 데이터 처리 라이브러리: pandas\n",
    "        * 2가지 자료형: DataFrame, Series\n",
    " * 웹 데이터 수집 라이브러리\n",
    "    * urlopen을 이용해서 html을 가져오기\n",
    "    * beautifulSoup을 이용해서 구조화\n",
    " * urlopen을 이용해서 html 정보를 가져올 때, 정보를 가져오지 못하는 것이 있었다.\n",
    " * selenium을 이용해서 가져온다."
   ]
  },
  {
   "cell_type": "code",
   "execution_count": 1,
   "metadata": {},
   "outputs": [],
   "source": [
    "from selenium import webdriver"
   ]
  },
  {
   "cell_type": "code",
   "execution_count": 2,
   "metadata": {},
   "outputs": [],
   "source": [
    "driver = webdriver.Chrome('chromedriver') #chrome브라우저 실행시키겠다."
   ]
  },
  {
   "cell_type": "code",
   "execution_count": 7,
   "metadata": {},
   "outputs": [],
   "source": [
    "url = \"http://www.naver.com\"\n",
    "driver.get(url)"
   ]
  },
  {
   "cell_type": "code",
   "execution_count": 4,
   "metadata": {},
   "outputs": [],
   "source": [
    "url = \"http://www.daum.net\"\n",
    "driver.get(url)"
   ]
  },
  {
   "cell_type": "code",
   "execution_count": 6,
   "metadata": {},
   "outputs": [],
   "source": [
    "url = \"http://www.google.com\"\n",
    "driver.get(url)"
   ]
  },
  {
   "cell_type": "markdown",
   "metadata": {},
   "source": [
    "### 키워드를 검색해 보기"
   ]
  },
  {
   "cell_type": "code",
   "execution_count": 14,
   "metadata": {},
   "outputs": [],
   "source": [
    "url = \"http://www.naver.com\"\n",
    "driver.get(url)"
   ]
  },
  {
   "cell_type": "code",
   "execution_count": 17,
   "metadata": {},
   "outputs": [],
   "source": [
    "## 검색창 : //*[@id=\"query\"]\n",
    "# //*[@id=\"query\"]\n",
    "## 검색버튼 : //*[@id=\"search_btn\"]\n",
    "sel_search = driver.find_element_by_xpath('//*[@id=\"query\"]')\n",
    "sel_btn = driver.find_element_by_xpath('//*[@id=\"search_btn\"]')"
   ]
  },
  {
   "cell_type": "code",
   "execution_count": 19,
   "metadata": {},
   "outputs": [],
   "source": [
    "sel_search.send_keys(\"뉴스\")\n",
    "sel_btn.click()"
   ]
  },
  {
   "cell_type": "code",
   "execution_count": 20,
   "metadata": {},
   "outputs": [],
   "source": [
    "url = \"http://www.daum.net\"\n",
    "driver.get(url)"
   ]
  },
  {
   "cell_type": "code",
   "execution_count": 21,
   "metadata": {},
   "outputs": [],
   "source": [
    "# 다음 검색창: //*[@id=\"q\"]\n",
    "# 다음 검색버튼: //*[@id=\"daumSearch\"]/fieldset/div/div/button[2]\n",
    "sel_search = driver.find_element_by_xpath('//*[@id=\"q\"]')\n",
    "sel_btn = driver.find_element_by_xpath('//*[@id=\"daumSearch\"]/fieldset/div/div/button[2]')"
   ]
  },
  {
   "cell_type": "code",
   "execution_count": 22,
   "metadata": {},
   "outputs": [],
   "source": [
    "sel_search.send_keys(\"실시간 검색어\")\n",
    "sel_btn.click()"
   ]
  },
  {
   "cell_type": "code",
   "execution_count": 23,
   "metadata": {},
   "outputs": [],
   "source": [
    "from selenium import webdriver\n",
    "driver = webdriver.Chrome('chromedriver')"
   ]
  },
  {
   "cell_type": "code",
   "execution_count": 24,
   "metadata": {},
   "outputs": [],
   "source": [
    "url = 'https://pythonstart.github.io/web/'\n",
    "driver.get(url)"
   ]
  },
  {
   "cell_type": "code",
   "execution_count": 25,
   "metadata": {},
   "outputs": [
    {
     "name": "stdout",
     "output_type": "stream",
     "text": [
      "<selenium.webdriver.remote.webelement.WebElement (session=\"b486140d95c54ea5b539f5dfb0ed37fe\", element=\"fa448e11-9817-4100-8ec5-79f44a59f75a\")>\n"
     ]
    }
   ],
   "source": [
    "selected_id = driver.find_element_by_id('rank')\n",
    "print(selected_id)"
   ]
  },
  {
   "cell_type": "code",
   "execution_count": 26,
   "metadata": {},
   "outputs": [
    {
     "name": "stdout",
     "output_type": "stream",
     "text": [
      "a\n",
      "10. 랭킹 정보 가져오기(웹 크롤링)\n"
     ]
    }
   ],
   "source": [
    "print(selected_id.tag_name)\n",
    "print(selected_id.text)"
   ]
  },
  {
   "cell_type": "code",
   "execution_count": 27,
   "metadata": {},
   "outputs": [
    {
     "name": "stdout",
     "output_type": "stream",
     "text": [
      "<selenium.webdriver.remote.webelement.WebElement (session=\"b486140d95c54ea5b539f5dfb0ed37fe\", element=\"e5a9dd19-7057-41f3-af6b-27e23bc42e43\")>\n"
     ]
    }
   ],
   "source": [
    "selected_tag = driver.find_element_by_tag_name('a')\n",
    "print(selected_tag)"
   ]
  },
  {
   "cell_type": "code",
   "execution_count": 29,
   "metadata": {},
   "outputs": [
    {
     "name": "stdout",
     "output_type": "stream",
     "text": [
      "a\n",
      "01. 제목 가져오기(title)\n"
     ]
    }
   ],
   "source": [
    "print(selected_tag.tag_name) #해당 연결의 tag이름\n",
    "print(selected_tag.text) # 해당 태그의 text정보"
   ]
  },
  {
   "cell_type": "markdown",
   "metadata": {},
   "source": [
    "### 여러개의 a태그 정보 가져오기"
   ]
  },
  {
   "cell_type": "code",
   "execution_count": 30,
   "metadata": {},
   "outputs": [
    {
     "name": "stdout",
     "output_type": "stream",
     "text": [
      "[<selenium.webdriver.remote.webelement.WebElement (session=\"b486140d95c54ea5b539f5dfb0ed37fe\", element=\"e5a9dd19-7057-41f3-af6b-27e23bc42e43\")>, <selenium.webdriver.remote.webelement.WebElement (session=\"b486140d95c54ea5b539f5dfb0ed37fe\", element=\"3178a8f0-9725-49df-9cca-013bd25fa635\")>, <selenium.webdriver.remote.webelement.WebElement (session=\"b486140d95c54ea5b539f5dfb0ed37fe\", element=\"c90bf1a3-e795-41c5-abd5-9feb97c5e9aa\")>, <selenium.webdriver.remote.webelement.WebElement (session=\"b486140d95c54ea5b539f5dfb0ed37fe\", element=\"83cac8fb-b17d-4588-bbc7-68b750324a47\")>, <selenium.webdriver.remote.webelement.WebElement (session=\"b486140d95c54ea5b539f5dfb0ed37fe\", element=\"68278bd3-0e33-4aff-9900-6bcf443f6f5c\")>, <selenium.webdriver.remote.webelement.WebElement (session=\"b486140d95c54ea5b539f5dfb0ed37fe\", element=\"4e82c091-a602-4228-a940-773b3a40bc5e\")>, <selenium.webdriver.remote.webelement.WebElement (session=\"b486140d95c54ea5b539f5dfb0ed37fe\", element=\"6b8f0c90-619a-498e-81a9-8d153b5d5d97\")>, <selenium.webdriver.remote.webelement.WebElement (session=\"b486140d95c54ea5b539f5dfb0ed37fe\", element=\"9e24a73f-f682-4c99-90f3-a2a2004dfcf7\")>, <selenium.webdriver.remote.webelement.WebElement (session=\"b486140d95c54ea5b539f5dfb0ed37fe\", element=\"0a18579c-f414-403a-9b8f-59e1ab348e13\")>, <selenium.webdriver.remote.webelement.WebElement (session=\"b486140d95c54ea5b539f5dfb0ed37fe\", element=\"fa448e11-9817-4100-8ec5-79f44a59f75a\")>]\n"
     ]
    }
   ],
   "source": [
    "selected_tag2 = driver.find_elements_by_tag_name('a')\n",
    "print(selected_tag2)"
   ]
  },
  {
   "cell_type": "code",
   "execution_count": 31,
   "metadata": {},
   "outputs": [
    {
     "data": {
      "text/plain": [
       "[<selenium.webdriver.remote.webelement.WebElement (session=\"b486140d95c54ea5b539f5dfb0ed37fe\", element=\"e5a9dd19-7057-41f3-af6b-27e23bc42e43\")>,\n",
       " <selenium.webdriver.remote.webelement.WebElement (session=\"b486140d95c54ea5b539f5dfb0ed37fe\", element=\"3178a8f0-9725-49df-9cca-013bd25fa635\")>,\n",
       " <selenium.webdriver.remote.webelement.WebElement (session=\"b486140d95c54ea5b539f5dfb0ed37fe\", element=\"c90bf1a3-e795-41c5-abd5-9feb97c5e9aa\")>,\n",
       " <selenium.webdriver.remote.webelement.WebElement (session=\"b486140d95c54ea5b539f5dfb0ed37fe\", element=\"83cac8fb-b17d-4588-bbc7-68b750324a47\")>,\n",
       " <selenium.webdriver.remote.webelement.WebElement (session=\"b486140d95c54ea5b539f5dfb0ed37fe\", element=\"68278bd3-0e33-4aff-9900-6bcf443f6f5c\")>,\n",
       " <selenium.webdriver.remote.webelement.WebElement (session=\"b486140d95c54ea5b539f5dfb0ed37fe\", element=\"4e82c091-a602-4228-a940-773b3a40bc5e\")>,\n",
       " <selenium.webdriver.remote.webelement.WebElement (session=\"b486140d95c54ea5b539f5dfb0ed37fe\", element=\"6b8f0c90-619a-498e-81a9-8d153b5d5d97\")>,\n",
       " <selenium.webdriver.remote.webelement.WebElement (session=\"b486140d95c54ea5b539f5dfb0ed37fe\", element=\"9e24a73f-f682-4c99-90f3-a2a2004dfcf7\")>,\n",
       " <selenium.webdriver.remote.webelement.WebElement (session=\"b486140d95c54ea5b539f5dfb0ed37fe\", element=\"0a18579c-f414-403a-9b8f-59e1ab348e13\")>,\n",
       " <selenium.webdriver.remote.webelement.WebElement (session=\"b486140d95c54ea5b539f5dfb0ed37fe\", element=\"fa448e11-9817-4100-8ec5-79f44a59f75a\")>]"
      ]
     },
     "execution_count": 31,
     "metadata": {},
     "output_type": "execute_result"
    }
   ],
   "source": [
    "sel_tags = driver.find_elements_by_tag_name(\"a\")\n",
    "sel_tags"
   ]
  },
  {
   "cell_type": "code",
   "execution_count": 40,
   "metadata": {},
   "outputs": [
    {
     "name": "stdout",
     "output_type": "stream",
     "text": [
      "01. 제목 가져오기(title)\n",
      "https://pythonstart.github.io/web/01.html\n",
      "02. 텍스트 가져오기(p)\n",
      "https://pythonstart.github.io/web/02.html\n",
      "03. 링크 가져오기(a)\n",
      "https://pythonstart.github.io/web/03.html\n",
      "04. 이미지 정보 가져오기(img)\n",
      "https://pythonstart.github.io/web/04.html\n",
      "05. 리스트 정보 가져오기(ul,ol)\n",
      "https://pythonstart.github.io/web/05.html\n",
      "06. id를 활용한 정보 획득\n",
      "https://pythonstart.github.io/web/06.html\n",
      "07. class를 활용한 정보 획득\n",
      "https://pythonstart.github.io/web/07.html\n",
      "08. 하나의 이미지 다운로드\n",
      "https://pythonstart.github.io/web/08.html\n",
      "09. 여러개의 이미지 다운로드\n",
      "https://pythonstart.github.io/web/09.html\n",
      "10. 랭킹 정보 가져오기(웹 크롤링)\n",
      "https://pythonstart.github.io/web/10.html\n"
     ]
    }
   ],
   "source": [
    "for one in sel_tags:\n",
    "    print(one.text)\n",
    "    print(one.get_attribute('href'))"
   ]
  },
  {
   "cell_type": "markdown",
   "metadata": {},
   "source": [
    "### 실습 2-4 name이라는 속성을 이용해서 텍스트 가져오기"
   ]
  },
  {
   "cell_type": "code",
   "execution_count": 37,
   "metadata": {},
   "outputs": [
    {
     "data": {
      "text/plain": [
       "[<selenium.webdriver.remote.webelement.WebElement (session=\"b486140d95c54ea5b539f5dfb0ed37fe\", element=\"e5a9dd19-7057-41f3-af6b-27e23bc42e43\")>,\n",
       " <selenium.webdriver.remote.webelement.WebElement (session=\"b486140d95c54ea5b539f5dfb0ed37fe\", element=\"c90bf1a3-e795-41c5-abd5-9feb97c5e9aa\")>]"
      ]
     },
     "execution_count": 37,
     "metadata": {},
     "output_type": "execute_result"
    }
   ],
   "source": [
    "sel_name = driver.find_elements_by_name('link_get')\n",
    "sel_name"
   ]
  },
  {
   "cell_type": "code",
   "execution_count": 39,
   "metadata": {},
   "outputs": [
    {
     "name": "stdout",
     "output_type": "stream",
     "text": [
      "01. 제목 가져오기(title)\n",
      "https://pythonstart.github.io/web/01.html\n",
      "03. 링크 가져오기(a)\n",
      "https://pythonstart.github.io/web/03.html\n"
     ]
    }
   ],
   "source": [
    "for one in sel_name:\n",
    "    print(one.text)\n",
    "    print(one.get_attribute('href')) # url 얻을 수 있음."
   ]
  },
  {
   "cell_type": "code",
   "execution_count": 42,
   "metadata": {},
   "outputs": [
    {
     "name": "stdout",
     "output_type": "stream",
     "text": [
      "01. 제목 가져오기(title)\n",
      "https://pythonstart.github.io/web/01.html\n",
      "02. 텍스트 가져오기(p)\n",
      "https://pythonstart.github.io/web/02.html\n",
      "03. 링크 가져오기(a)\n",
      "https://pythonstart.github.io/web/03.html\n",
      "04. 이미지 정보 가져오기(img)\n",
      "https://pythonstart.github.io/web/04.html\n",
      "05. 리스트 정보 가져오기(ul,ol)\n",
      "https://pythonstart.github.io/web/05.html\n",
      "06. id를 활용한 정보 획득\n",
      "https://pythonstart.github.io/web/06.html\n",
      "07. class를 활용한 정보 획득\n",
      "https://pythonstart.github.io/web/07.html\n",
      "08. 하나의 이미지 다운로드\n",
      "https://pythonstart.github.io/web/08.html\n",
      "09. 여러개의 이미지 다운로드\n",
      "https://pythonstart.github.io/web/09.html\n",
      "10. 랭킹 정보 가져오기(웹 크롤링)\n",
      "https://pythonstart.github.io/web/10.html\n"
     ]
    },
    {
     "data": {
      "text/plain": [
       "['https://pythonstart.github.io/web/01.html',\n",
       " 'https://pythonstart.github.io/web/02.html',\n",
       " 'https://pythonstart.github.io/web/03.html',\n",
       " 'https://pythonstart.github.io/web/04.html',\n",
       " 'https://pythonstart.github.io/web/05.html',\n",
       " 'https://pythonstart.github.io/web/06.html',\n",
       " 'https://pythonstart.github.io/web/07.html',\n",
       " 'https://pythonstart.github.io/web/08.html',\n",
       " 'https://pythonstart.github.io/web/09.html',\n",
       " 'https://pythonstart.github.io/web/10.html']"
      ]
     },
     "execution_count": 42,
     "metadata": {},
     "output_type": "execute_result"
    }
   ],
   "source": [
    "url_all = []\n",
    "for one in sel_tags:\n",
    "    print(one.text)\n",
    "    print(one.get_attribute('href'))\n",
    "    url_all.append(one.get_attribute('href'))\n",
    "url_all"
   ]
  },
  {
   "cell_type": "code",
   "execution_count": 43,
   "metadata": {},
   "outputs": [],
   "source": [
    "import time\n",
    "\n",
    "for one in url_all:\n",
    "    time.sleep(3)\n",
    "    driver.get(one)"
   ]
  },
  {
   "cell_type": "code",
   "execution_count": 44,
   "metadata": {},
   "outputs": [],
   "source": [
    "url = \"https://www.naver.com/\"\n",
    "# 검색창: //*[@id=\"query\"]\n",
    "# 검색버튼 : //*[@id=\"search_btn\"]\n",
    "driver.get(url)"
   ]
  },
  {
   "cell_type": "code",
   "execution_count": 45,
   "metadata": {},
   "outputs": [],
   "source": [
    "sel_search = driver.find_element_by_xpath('//*[@id=\"query\"]')\n",
    "sel_btn = driver.find_element_by_xpath('//*[@id=\"search_btn\"]')"
   ]
  },
  {
   "cell_type": "code",
   "execution_count": 46,
   "metadata": {},
   "outputs": [],
   "source": [
    "sel_search.send_keys(\"미세먼지\")\n",
    "sel_btn.click()"
   ]
  },
  {
   "cell_type": "code",
   "execution_count": 47,
   "metadata": {},
   "outputs": [],
   "source": [
    "from bs4 import BeautifulSoup"
   ]
  },
  {
   "cell_type": "code",
   "execution_count": 48,
   "metadata": {},
   "outputs": [
    {
     "data": {
      "text/plain": [
       "'강화된 미세먼지 환경기준'"
      ]
     },
     "execution_count": 48,
     "metadata": {},
     "output_type": "execute_result"
    }
   ],
   "source": [
    "page = driver.page_source\n",
    "soup = BeautifulSoup(page,'lxml')\n",
    "tmp = soup.find(\"dl\", class_='other_lk')\n",
    "tmp.dd.find('a').text"
   ]
  },
  {
   "cell_type": "code",
   "execution_count": 49,
   "metadata": {},
   "outputs": [
    {
     "name": "stdout",
     "output_type": "stream",
     "text": [
      "강화된 미세먼지 환경기준\n",
      "미세먼지 수준 확인법과 행동요령\n"
     ]
    }
   ],
   "source": [
    "all = tmp.dd.find_all('a')\n",
    "for one in all:\n",
    "    print(one.text)"
   ]
  },
  {
   "cell_type": "code",
   "execution_count": 67,
   "metadata": {},
   "outputs": [],
   "source": [
    "url = \"https://www.daum.net/\"\n",
    "driver.get(url)"
   ]
  },
  {
   "cell_type": "code",
   "execution_count": 68,
   "metadata": {},
   "outputs": [],
   "source": [
    "# //*[@id=\"q\"]\n",
    "# //*[@id=\"daumSearch\"]/fieldset/div/div/button[2]\n",
    "sel_search = driver.find_element_by_xpath('//*[@id=\"q\"]')\n",
    "sel_btn = driver.find_element_by_xpath('//*[@id=\"daumSearch\"]/fieldset/div/div/button[2]')"
   ]
  },
  {
   "cell_type": "code",
   "execution_count": 69,
   "metadata": {},
   "outputs": [],
   "source": [
    "sel_search.send_keys(\"코로나19 발생현황\")\n",
    "sel_btn.click()"
   ]
  },
  {
   "cell_type": "code",
   "execution_count": 70,
   "metadata": {},
   "outputs": [],
   "source": [
    "from bs4 import BeautifulSoup"
   ]
  },
  {
   "cell_type": "code",
   "execution_count": 73,
   "metadata": {},
   "outputs": [
    {
     "data": {
      "text/plain": [
       "<title>코로나19 발생현황 – Daum 검색</title>"
      ]
     },
     "execution_count": 73,
     "metadata": {},
     "output_type": "execute_result"
    }
   ],
   "source": [
    "page = driver.page_source\n",
    "soup2 = BeautifulSoup(page,'lxml')\n",
    "soup2.title"
   ]
  },
  {
   "cell_type": "code",
   "execution_count": 77,
   "metadata": {},
   "outputs": [
    {
     "data": {
      "text/plain": [
       "[<a class=\"f_link\" href=\"https://www.youtube.com/user/chKTV520\" onclick=\"smartLog(this, 'dc=0SR&amp;d=CL0008R&amp;pg=1&amp;r=1&amp;p=1&amp;rc=1&amp;at=link', event);\" target=\"_blank\">정부대응발표</a>,\n",
       " <a class=\"f_link\" href=\"http://ncov.mohw.go.kr/bdBoardList_Real.do?brdId=1&amp;brdGubun=13&amp;ncvContSeq=&amp;contSeq=&amp;board_id=&amp;gubun=\" onclick=\"smartLog(this, 'dc=0SR&amp;d=CL0008R&amp;pg=1&amp;r=1&amp;p=1&amp;rc=1&amp;at=link', event);\" target=\"_blank\">시도별 발생 동향</a>,\n",
       " <a class=\"f_link\" href=\"http://ncov.mohw.go.kr/bdBoardList_Real.do?brdId=1&amp;brdGubun=14&amp;ncvContSeq=&amp;contSeq=&amp;board_id=&amp;gubun=\" onclick=\"smartLog(this, 'dc=0SR&amp;d=CL0008R&amp;pg=1&amp;r=1&amp;p=1&amp;rc=1&amp;at=link', event);\" target=\"_blank\">국가별 현황</a>,\n",
       " <a class=\"f_link\" href=\"http://ncov.mohw.go.kr/bdBoardList_Real.do?brdId=1&amp;brdGubun=12&amp;ncvContSeq=&amp;contSeq=&amp;board_id=&amp;gubun=\" onclick=\"smartLog(this, 'dc=0SR&amp;d=CL0008R&amp;pg=1&amp;r=1&amp;p=1&amp;rc=1&amp;at=link', event);\" target=\"_blank\">확진자 이동경로</a>,\n",
       " <a class=\"f_link\" href=\"http://www.mohw.go.kr/react/popup_200128.html\" onclick=\"smartLog(this, 'dc=0SR&amp;d=CL0008R&amp;pg=1&amp;r=1&amp;p=1&amp;rc=1&amp;at=link', event);\" target=\"_blank\">선별진료소</a>,\n",
       " <a class=\"f_link\" href=\"http://pf.kakao.com/_XrQxkM/45587516\" onclick=\"smartLog(this, 'dc=0SR&amp;d=CL0008R&amp;pg=1&amp;r=1&amp;p=1&amp;rc=1&amp;at=link', event);\" target=\"_blank\">예방수칙/행동요령</a>,\n",
       " <a class=\"f_link\" href=\"http://ncov.mohw.go.kr/tcmBoardList.do\" onclick=\"smartLog(this, 'dc=0SR&amp;d=CL0008R&amp;pg=1&amp;r=1&amp;p=1&amp;rc=1&amp;at=link', event);\" target=\"_blank\">정보알림</a>,\n",
       " <a class=\"f_link\" href=\"http://ncov.mohw.go.kr/duBoardList.do\" onclick=\"smartLog(this, 'dc=0SR&amp;d=CL0008R&amp;pg=1&amp;r=1&amp;p=1&amp;rc=1&amp;at=link', event);\" target=\"_blank\">대상별 유의사항</a>,\n",
       " <a class=\"f_link\" href=\"http://ncov.mohw.go.kr/faqBoardList.do\" onclick=\"smartLog(this, 'dc=0SR&amp;d=CL0008R&amp;pg=1&amp;r=1&amp;p=1&amp;rc=1&amp;at=link', event);\" target=\"_blank\">FAQ</a>,\n",
       " <a class=\"f_link\" href=\"http://ncov.mohw.go.kr/bdBoardList_Real.do?brdId=1&amp;brdGubun=14&amp;ncvContSeq=&amp;contSeq=&amp;board_id=&amp;gubun=\" onclick=\"smartLog(this, 'dc=0SR&amp;d=CL0008R&amp;pg=1&amp;r=1&amp;p=1&amp;rc=1&amp;at=link', event);\" target=\"_blank\">국외발생현황</a>,\n",
       " <a class=\"f_link\" href=\"https://together.kakao.com/tags/%EC%BD%94%EB%A1%9C%EB%82%9819\" onclick=\"smartLog(this, 'dc=0SR&amp;d=CL0008R&amp;pg=1&amp;r=1&amp;p=1&amp;rc=1&amp;at=link', event);\" target=\"_blank\">같이가치 나눔캠페인</a>,\n",
       " <a class=\"f_link\" href=\"http://www.moef.go.kr/sns/2020/emgncEcnmyMtg.do\" onclick=\"smartLog(this, 'dc=0SR&amp;d=CL0008R&amp;pg=1&amp;r=1&amp;p=1&amp;rc=1&amp;at=link', event);\" target=\"_blank\">경제지원</a>,\n",
       " <a class=\"f_link f_l mg_tit\" href=\"http://v.media.daum.net/v/20201123142537211?f=o\" onclick='smartLog(this, \"dc=NNS&amp;d=26J6q-qwYfVMNEd-pW&amp;pg=1&amp;r=3&amp;p=23&amp;rc=4&amp;e1=16JfL24RCJKYboAM86&amp;e3=0&amp;rtt=parent&amp;rtid=26CY3VH57t6OCGwdT0&amp;rtsc=\", event, {\"cpid\": {\"value\": \"16JfL24RCJKYboAM86\"}});' target=\"_blank\">정은경 질병청장, <b>코로나</b><b>19</b> <b>발생</b><b>현황</b> 발표</a>,\n",
       " <a class=\"f_link f_l mg_tit\" href=\"http://v.media.daum.net/v/20201123142656285?f=o\" onclick='smartLog(this, \"dc=NNS&amp;d=2672LvTefEtjd7MX9i&amp;pg=1&amp;r=3&amp;p=24&amp;rc=4&amp;e1=16JfL24RCJKYboAM86&amp;e3=0&amp;rtt=parent&amp;rtid=26CY3VH57t6OCGwdT0&amp;rtsc=\", event, {\"cpid\": {\"value\": \"16JfL24RCJKYboAM86\"}});' target=\"_blank\"><b>코로나</b><b>19</b> <b>발생</b><b>현황</b> 브리핑 앞둔 정은경 질병청장</a>,\n",
       " <a class=\"f_link f_l mg_tit\" href=\"http://v.media.daum.net/v/20201123142654283?f=o\" onclick='smartLog(this, \"dc=NNS&amp;d=26l-Z7hOx8DtqC8i-F&amp;pg=1&amp;r=3&amp;p=25&amp;rc=4&amp;e1=16JfL24RCJKYboAM86&amp;e3=0&amp;rtt=parent&amp;rtid=26CY3VH57t6OCGwdT0&amp;rtsc=\", event, {\"cpid\": {\"value\": \"16JfL24RCJKYboAM86\"}});' target=\"_blank\"><b>코로나</b><b>19</b> <b>발생</b><b>현황</b> 발표하는 정은경 질병청장</a>,\n",
       " <a class=\"f_link f_l mg_tit\" href=\"https://cp.news.search.daum.net/p/99836566\" onclick='smartLog(this, \"dc=NNS&amp;d=26ixR09ebCBvNvINF8&amp;pg=1&amp;r=4&amp;p=23&amp;rc=4&amp;e1=16BZYSs9DTdm_SjTwy&amp;e3=0&amp;rtt=parent&amp;rtid=26iyoxWY11ISwlD-j8&amp;rtsc=\", event, {\"cpid\": {\"value\": \"16BZYSs9DTdm_SjTwy\"}});' target=\"_blank\">23일 세계 <b>코로나</b><b>19</b> <b>발생</b><b>현황</b> (종합)</a>,\n",
       " <a class=\"f_link f_l mg_tit\" href=\"https://cp.news.search.daum.net/p/99838052\" onclick='smartLog(this, \"dc=NNS&amp;d=26jCvB4RgOfJOalA0f&amp;pg=1&amp;r=4&amp;p=24&amp;rc=4&amp;e1=16bVTpaNIbn1EBrUhF&amp;e3=0&amp;rtt=parent&amp;rtid=26iyoxWY11ISwlD-j8&amp;rtsc=\", event, {\"cpid\": {\"value\": \"16bVTpaNIbn1EBrUhF\"}});' target=\"_blank\">[<b>코로나</b><b>19</b> <b>발생</b><b>현황</b>]수원시청 23일 <b>코로나</b><b>19</b> 확진...</a>,\n",
       " <a class=\"f_link f_l mg_tit\" href=\"https://cp.news.search.daum.net/p/99847410\" onclick='smartLog(this, \"dc=NNS&amp;d=26roysSvUMAfF3Ef23&amp;pg=1&amp;r=4&amp;p=25&amp;rc=4&amp;e1=16BZYSs9DTdm_SjTwy&amp;e3=0&amp;rtt=parent&amp;rtid=26iyoxWY11ISwlD-j8&amp;rtsc=\", event, {\"cpid\": {\"value\": \"16BZYSs9DTdm_SjTwy\"}});' target=\"_blank\">23일 세계 <b>코로나</b> <b>현황</b> (종합)</a>]"
      ]
     },
     "execution_count": 77,
     "metadata": {},
     "output_type": "execute_result"
    }
   ],
   "source": [
    "#tag: a\n",
    "#class: f_link\n",
    "soup2.find_all(\"a\", class_=\"f_link\")"
   ]
  },
  {
   "cell_type": "code",
   "execution_count": 86,
   "metadata": {},
   "outputs": [
    {
     "name": "stdout",
     "output_type": "stream",
     "text": [
      "정부대응발표\n",
      "https://www.youtube.com/user/chKTV520\n",
      "시도별 발생 동향\n",
      "http://ncov.mohw.go.kr/bdBoardList_Real.do?brdId=1&brdGubun=13&ncvContSeq=&contSeq=&board_id=&gubun=\n",
      "국가별 현황\n",
      "http://ncov.mohw.go.kr/bdBoardList_Real.do?brdId=1&brdGubun=14&ncvContSeq=&contSeq=&board_id=&gubun=\n",
      "확진자 이동경로\n",
      "http://ncov.mohw.go.kr/bdBoardList_Real.do?brdId=1&brdGubun=12&ncvContSeq=&contSeq=&board_id=&gubun=\n",
      "선별진료소\n",
      "http://www.mohw.go.kr/react/popup_200128.html\n",
      "예방수칙/행동요령\n",
      "http://pf.kakao.com/_XrQxkM/45587516\n",
      "정보알림\n",
      "http://ncov.mohw.go.kr/tcmBoardList.do\n",
      "대상별 유의사항\n",
      "http://ncov.mohw.go.kr/duBoardList.do\n",
      "FAQ\n",
      "http://ncov.mohw.go.kr/faqBoardList.do\n",
      "국외발생현황\n",
      "http://ncov.mohw.go.kr/bdBoardList_Real.do?brdId=1&brdGubun=14&ncvContSeq=&contSeq=&board_id=&gubun=\n",
      "같이가치 나눔캠페인\n",
      "https://together.kakao.com/tags/%EC%BD%94%EB%A1%9C%EB%82%9819\n",
      "경제지원\n",
      "http://www.moef.go.kr/sns/2020/emgncEcnmyMtg.do\n",
      "정은경 질병청장, 코로나19 발생현황 발표\n",
      "http://v.media.daum.net/v/20201123142537211?f=o\n",
      "코로나19 발생현황 브리핑 앞둔 정은경 질병청장\n",
      "http://v.media.daum.net/v/20201123142656285?f=o\n",
      "코로나19 발생현황 발표하는 정은경 질병청장\n",
      "http://v.media.daum.net/v/20201123142654283?f=o\n",
      "23일 세계 코로나19 발생현황 (종합)\n",
      "https://cp.news.search.daum.net/p/99836566\n",
      "[코로나19 발생현황]수원시청 23일 코로나19 확진...\n",
      "https://cp.news.search.daum.net/p/99838052\n",
      "23일 세계 코로나 현황 (종합)\n",
      "https://cp.news.search.daum.net/p/99847410\n"
     ]
    }
   ],
   "source": [
    "link = soup2.find_all(\"a\", class_=\"f_link\")\n",
    "all_url = []\n",
    "for one in link:\n",
    "    print(one.text)\n",
    "    print(one[\"href\"])\n",
    "    all_url.append(one[\"href\"])"
   ]
  },
  {
   "cell_type": "code",
   "execution_count": 87,
   "metadata": {},
   "outputs": [],
   "source": [
    "for one in all_url:\n",
    "    time.sleep(3)\n",
    "    driver.get(one)"
   ]
  },
  {
   "cell_type": "markdown",
   "metadata": {},
   "source": [
    "## 정리\n",
    " * 01 []라는 로봇 친구를 이용하여 웹 브라우저를 띄워준다.\n",
    "```\n",
    "from selenium import sebdriver\n",
    "driver = webdriver.Chrome('chromedriver') #84버전 활용\n",
    "\n",
    " * 02 우리가 원하는 웹의 요소를 가져온다.\n",
    "```\n",
    "sel = driver.find_element_by_xpath(\"\")\n",
    "sel\n",
    "```\n",
    "\n",
    " * 03 동작(클릭) 또는 키워드를 넣거나 등의 행동을 한다.\n",
    "```\n",
    "[].send_keys()\n",
    "[].click()\n",
    "[].--- 브라우저 위로 이동"
   ]
  },
  {
   "cell_type": "markdown",
   "metadata": {},
   "source": [
    "### 네이버 데이터 랩 정보 가져오기"
   ]
  },
  {
   "cell_type": "code",
   "execution_count": null,
   "metadata": {},
   "outputs": [],
   "source": [
    "#10대: //*[@id=\"content\"]/div/div[2]/div[1]/div[2]/div/div/div/ul/li[1]/a\n",
    "#20대://*[@id=\"content\"]/div/div[2]/div[1]/div[2]/div/div/div/ul/li[2]/a\n",
    "#30대://*[@id=\"content\"]/div/div[2]/div[1]/div[2]/div/div/div/ul/li[3]/a\n",
    "#40대://*[@id=\"content\"]/div/div[2]/div[1]/div[2]/div/div/div/ul/li[4]/a\n",
    "#50대://*[@id=\"content\"]/div/div[2]/div[1]/div[2]/div/div/div/ul/li[5]/a\n",
    "#전체://*[@id=\"content\"]/div/div[2]/div[1]/div[2]/div/div/div/ul/li[6]/a\n",
    "\n",
    "# url 정보: https://datalab.naver.com/keyword/realtimeList.naver"
   ]
  },
  {
   "cell_type": "markdown",
   "metadata": {},
   "source": [
    "### 셀레니움을 이용해서 크롬브라우저를 띄운다."
   ]
  },
  {
   "cell_type": "code",
   "execution_count": 88,
   "metadata": {},
   "outputs": [],
   "source": [
    "from selenium import webdriver\n",
    "from bs4 import BeautifulSoup"
   ]
  },
  {
   "cell_type": "code",
   "execution_count": 89,
   "metadata": {},
   "outputs": [],
   "source": [
    "driver = webdriver.Chrome('chromedriver')"
   ]
  },
  {
   "cell_type": "code",
   "execution_count": 90,
   "metadata": {},
   "outputs": [],
   "source": [
    "url = 'https://datalab.naver.com/keyword/realtimeList.naver'\n",
    "driver.get(url)"
   ]
  },
  {
   "cell_type": "code",
   "execution_count": 91,
   "metadata": {},
   "outputs": [],
   "source": [
    "sel_10 = driver.find_element_by_xpath('//*[@id=\"content\"]/div/div[2]/div[1]/div[2]/div/div/div/ul/li[1]/a')\n",
    "sel_20 = driver.find_element_by_xpath('//*[@id=\"content\"]/div/div[2]/div[1]/div[2]/div/div/div/ul/li[2]/a')\n",
    "sel_30 = driver.find_element_by_xpath('//*[@id=\"content\"]/div/div[2]/div[1]/div[2]/div/div/div/ul/li[3]/a')\n",
    "sel_40 = driver.find_element_by_xpath('//*[@id=\"content\"]/div/div[2]/div[1]/div[2]/div/div/div/ul/li[4]/a')\n",
    "sel_50 = driver.find_element_by_xpath('//*[@id=\"content\"]/div/div[2]/div[1]/div[2]/div/div/div/ul/li[5]/a')\n",
    "sel_all = driver.find_element_by_xpath('//*[@id=\"content\"]/div/div[2]/div[1]/div[2]/div/div/div/ul/li[6]/a')\n"
   ]
  },
  {
   "cell_type": "code",
   "execution_count": 92,
   "metadata": {},
   "outputs": [],
   "source": [
    "sel_20.click()"
   ]
  },
  {
   "cell_type": "code",
   "execution_count": 93,
   "metadata": {},
   "outputs": [],
   "source": [
    "for i in range(1,7,1):\n",
    "    base_xpath = '//*[@id=\"content\"]/div/div[2]/div[1]/div[2]/div/div/div/ul/li['\n",
    "    btn = driver.find_element_by_xpath(base_xpath +str(i) + ']/a')\n",
    "    btn.click()\n",
    "    time.sleep(2)"
   ]
  },
  {
   "cell_type": "markdown",
   "metadata": {},
   "source": [
    "### 한 페이지의 20개의 인기 키워드 가져오기"
   ]
  },
  {
   "cell_type": "code",
   "execution_count": 95,
   "metadata": {},
   "outputs": [
    {
     "data": {
      "text/plain": [
       "<title>급상승검색어 : 네이버 데이터랩</title>"
      ]
     },
     "execution_count": 95,
     "metadata": {},
     "output_type": "execute_result"
    }
   ],
   "source": [
    "page = driver.page_source\n",
    "soup = BeautifulSoup(page, 'lxml')\n",
    "soup.title"
   ]
  },
  {
   "cell_type": "markdown",
   "metadata": {},
   "source": [
    "### 실습 4-4 한 페이지의 20개의 인기 키워드 가져오기"
   ]
  },
  {
   "cell_type": "code",
   "execution_count": 98,
   "metadata": {},
   "outputs": [
    {
     "data": {
      "text/plain": [
       "[<span class=\"item_title\">아스트라제네카</span>,\n",
       " <span class=\"item_title\">드라마 암행어사</span>,\n",
       " <span class=\"item_title\">한민채</span>,\n",
       " <span class=\"item_title\">삼성중공업</span>,\n",
       " <span class=\"item_title\">삼성중공업우</span>,\n",
       " <span class=\"item_title\">홍대새교회</span>,\n",
       " <span class=\"item_title\">조경희</span>,\n",
       " <span class=\"item_title\">종부세</span>,\n",
       " <span class=\"item_title\">이환희</span>,\n",
       " <span class=\"item_title\">위기가구긴급생계지원</span>,\n",
       " <span class=\"item_title\">코로나 2단계 카페</span>,\n",
       " <span class=\"item_title\">차민석</span>,\n",
       " <span class=\"item_title\">사랑해 당신을</span>,\n",
       " <span class=\"item_title\">용인 키즈카페 확진자</span>,\n",
       " <span class=\"item_title\">케이피엠테크</span>,\n",
       " <span class=\"item_title\">정형돈</span>,\n",
       " <span class=\"item_title\">제일약품</span>,\n",
       " <span class=\"item_title\">용인 키즈카페</span>,\n",
       " <span class=\"item_title\">코로나 2단계 술집</span>,\n",
       " <span class=\"item_title\">달걀말이국수</span>]"
      ]
     },
     "execution_count": 98,
     "metadata": {},
     "output_type": "execute_result"
    }
   ],
   "source": [
    "#tag: span\n",
    "#class: item_title\n",
    "soup.find_all(\"span\", class_=\"item_title\")"
   ]
  },
  {
   "cell_type": "code",
   "execution_count": 100,
   "metadata": {},
   "outputs": [
    {
     "name": "stdout",
     "output_type": "stream",
     "text": [
      "[<span class=\"item_title\">아스트라제네카</span>, <span class=\"item_title\">드라마 암행어사</span>, <span class=\"item_title\">한민채</span>, <span class=\"item_title\">삼성중공업</span>, <span class=\"item_title\">삼성중공업우</span>, <span class=\"item_title\">홍대새교회</span>, <span class=\"item_title\">조경희</span>, <span class=\"item_title\">종부세</span>, <span class=\"item_title\">이환희</span>, <span class=\"item_title\">위기가구긴급생계지원</span>, <span class=\"item_title\">코로나 2단계 카페</span>, <span class=\"item_title\">차민석</span>, <span class=\"item_title\">사랑해 당신을</span>, <span class=\"item_title\">용인 키즈카페 확진자</span>, <span class=\"item_title\">케이피엠테크</span>, <span class=\"item_title\">정형돈</span>, <span class=\"item_title\">제일약품</span>, <span class=\"item_title\">용인 키즈카페</span>, <span class=\"item_title\">코로나 2단계 술집</span>, <span class=\"item_title\">달걀말이국수</span>]\n",
      "[<span class=\"item_title\">아스트라제네카</span>, <span class=\"item_title\">드라마 암행어사</span>, <span class=\"item_title\">한민채</span>, <span class=\"item_title\">삼성중공업</span>, <span class=\"item_title\">삼성중공업우</span>, <span class=\"item_title\">홍대새교회</span>, <span class=\"item_title\">조경희</span>, <span class=\"item_title\">종부세</span>, <span class=\"item_title\">이환희</span>, <span class=\"item_title\">위기가구긴급생계지원</span>, <span class=\"item_title\">코로나 2단계 카페</span>, <span class=\"item_title\">차민석</span>, <span class=\"item_title\">사랑해 당신을</span>, <span class=\"item_title\">용인 키즈카페 확진자</span>, <span class=\"item_title\">케이피엠테크</span>, <span class=\"item_title\">정형돈</span>, <span class=\"item_title\">제일약품</span>, <span class=\"item_title\">용인 키즈카페</span>, <span class=\"item_title\">코로나 2단계 술집</span>, <span class=\"item_title\">달걀말이국수</span>]\n",
      "[<span class=\"item_title\">아스트라제네카</span>, <span class=\"item_title\">드라마 암행어사</span>, <span class=\"item_title\">한민채</span>, <span class=\"item_title\">삼성중공업</span>, <span class=\"item_title\">삼성중공업우</span>, <span class=\"item_title\">홍대새교회</span>, <span class=\"item_title\">조경희</span>, <span class=\"item_title\">종부세</span>, <span class=\"item_title\">이환희</span>, <span class=\"item_title\">위기가구긴급생계지원</span>, <span class=\"item_title\">코로나 2단계 카페</span>, <span class=\"item_title\">차민석</span>, <span class=\"item_title\">사랑해 당신을</span>, <span class=\"item_title\">용인 키즈카페 확진자</span>, <span class=\"item_title\">케이피엠테크</span>, <span class=\"item_title\">정형돈</span>, <span class=\"item_title\">제일약품</span>, <span class=\"item_title\">용인 키즈카페</span>, <span class=\"item_title\">코로나 2단계 술집</span>, <span class=\"item_title\">달걀말이국수</span>]\n",
      "[<span class=\"item_title\">아스트라제네카</span>, <span class=\"item_title\">드라마 암행어사</span>, <span class=\"item_title\">한민채</span>, <span class=\"item_title\">삼성중공업</span>, <span class=\"item_title\">삼성중공업우</span>, <span class=\"item_title\">홍대새교회</span>, <span class=\"item_title\">조경희</span>, <span class=\"item_title\">종부세</span>, <span class=\"item_title\">이환희</span>, <span class=\"item_title\">위기가구긴급생계지원</span>, <span class=\"item_title\">코로나 2단계 카페</span>, <span class=\"item_title\">차민석</span>, <span class=\"item_title\">사랑해 당신을</span>, <span class=\"item_title\">용인 키즈카페 확진자</span>, <span class=\"item_title\">케이피엠테크</span>, <span class=\"item_title\">정형돈</span>, <span class=\"item_title\">제일약품</span>, <span class=\"item_title\">용인 키즈카페</span>, <span class=\"item_title\">코로나 2단계 술집</span>, <span class=\"item_title\">달걀말이국수</span>]\n",
      "[<span class=\"item_title\">아스트라제네카</span>, <span class=\"item_title\">드라마 암행어사</span>, <span class=\"item_title\">한민채</span>, <span class=\"item_title\">삼성중공업</span>, <span class=\"item_title\">삼성중공업우</span>, <span class=\"item_title\">홍대새교회</span>, <span class=\"item_title\">조경희</span>, <span class=\"item_title\">종부세</span>, <span class=\"item_title\">이환희</span>, <span class=\"item_title\">위기가구긴급생계지원</span>, <span class=\"item_title\">코로나 2단계 카페</span>, <span class=\"item_title\">차민석</span>, <span class=\"item_title\">사랑해 당신을</span>, <span class=\"item_title\">용인 키즈카페 확진자</span>, <span class=\"item_title\">케이피엠테크</span>, <span class=\"item_title\">정형돈</span>, <span class=\"item_title\">제일약품</span>, <span class=\"item_title\">용인 키즈카페</span>, <span class=\"item_title\">코로나 2단계 술집</span>, <span class=\"item_title\">달걀말이국수</span>]\n",
      "[<span class=\"item_title\">아스트라제네카</span>, <span class=\"item_title\">드라마 암행어사</span>, <span class=\"item_title\">한민채</span>, <span class=\"item_title\">삼성중공업</span>, <span class=\"item_title\">삼성중공업우</span>, <span class=\"item_title\">홍대새교회</span>, <span class=\"item_title\">조경희</span>, <span class=\"item_title\">종부세</span>, <span class=\"item_title\">이환희</span>, <span class=\"item_title\">위기가구긴급생계지원</span>, <span class=\"item_title\">코로나 2단계 카페</span>, <span class=\"item_title\">차민석</span>, <span class=\"item_title\">사랑해 당신을</span>, <span class=\"item_title\">용인 키즈카페 확진자</span>, <span class=\"item_title\">케이피엠테크</span>, <span class=\"item_title\">정형돈</span>, <span class=\"item_title\">제일약품</span>, <span class=\"item_title\">용인 키즈카페</span>, <span class=\"item_title\">코로나 2단계 술집</span>, <span class=\"item_title\">달걀말이국수</span>]\n"
     ]
    }
   ],
   "source": [
    "for i in range(1,7,1):\n",
    "    base_xpath = '//*[@id=\"content\"]/div/div[2]/div[1]/div[2]/div/div/div/ul/li['\n",
    "    btn = driver.find_element_by_xpath(base_xpath +str(i) + ']/a')\n",
    "    btn.click()\n",
    "    time.sleep(2)\n",
    "    print(soup.find_all(\"span\", class_=\"item_title\"))"
   ]
  },
  {
   "cell_type": "code",
   "execution_count": 101,
   "metadata": {},
   "outputs": [
    {
     "data": {
      "text/plain": [
       "[<span class=\"item_title\">아스트라제네카</span>,\n",
       " <span class=\"item_title\">드라마 암행어사</span>,\n",
       " <span class=\"item_title\">한민채</span>,\n",
       " <span class=\"item_title\">삼성중공업</span>,\n",
       " <span class=\"item_title\">삼성중공업우</span>,\n",
       " <span class=\"item_title\">홍대새교회</span>,\n",
       " <span class=\"item_title\">조경희</span>,\n",
       " <span class=\"item_title\">종부세</span>,\n",
       " <span class=\"item_title\">이환희</span>,\n",
       " <span class=\"item_title\">위기가구긴급생계지원</span>,\n",
       " <span class=\"item_title\">코로나 2단계 카페</span>,\n",
       " <span class=\"item_title\">차민석</span>,\n",
       " <span class=\"item_title\">사랑해 당신을</span>,\n",
       " <span class=\"item_title\">용인 키즈카페 확진자</span>,\n",
       " <span class=\"item_title\">케이피엠테크</span>,\n",
       " <span class=\"item_title\">정형돈</span>,\n",
       " <span class=\"item_title\">제일약품</span>,\n",
       " <span class=\"item_title\">용인 키즈카페</span>,\n",
       " <span class=\"item_title\">코로나 2단계 술집</span>,\n",
       " <span class=\"item_title\">달걀말이국수</span>]"
      ]
     },
     "execution_count": 101,
     "metadata": {},
     "output_type": "execute_result"
    }
   ],
   "source": [
    "## 강사님 답\n",
    "age_10 = soup.find_all(\"span\", class_=\"item_title\")\n",
    "age_10"
   ]
  },
  {
   "cell_type": "code",
   "execution_count": 103,
   "metadata": {},
   "outputs": [
    {
     "name": "stdout",
     "output_type": "stream",
     "text": [
      "아스트라제네카\n",
      "드라마 암행어사\n",
      "한민채\n",
      "삼성중공업\n",
      "삼성중공업우\n",
      "홍대새교회\n",
      "조경희\n",
      "종부세\n",
      "이환희\n",
      "위기가구긴급생계지원\n",
      "코로나 2단계 카페\n",
      "차민석\n",
      "사랑해 당신을\n",
      "용인 키즈카페 확진자\n",
      "케이피엠테크\n",
      "정형돈\n",
      "제일약품\n",
      "용인 키즈카페\n",
      "코로나 2단계 술집\n",
      "달걀말이국수\n"
     ]
    }
   ],
   "source": [
    "word_list = []\n",
    "for one in age_10:\n",
    "    print(one.text)\n",
    "    word_list.append(one.text)"
   ]
  },
  {
   "cell_type": "code",
   "execution_count": 104,
   "metadata": {},
   "outputs": [
    {
     "data": {
      "text/plain": [
       "[['호구성향테스트',\n",
       "  '핵심능력 테스트',\n",
       "  '도화테스트',\n",
       "  '코로나 2단계 피시방',\n",
       "  '연애 능력치 테스트',\n",
       "  '시우민',\n",
       "  '코로나 2단계 카페',\n",
       "  '꽃 mbti',\n",
       "  'mbti 연애 테스트',\n",
       "  '삼육대학교',\n",
       "  '꼰대성향검사',\n",
       "  '영산대학교',\n",
       "  '인하공업전문대학',\n",
       "  '본캐컬러',\n",
       "  '계명대학교',\n",
       "  '썸그널',\n",
       "  '남서울대학교',\n",
       "  '리버풀 레스터',\n",
       "  'nct',\n",
       "  '경동대학교'],\n",
       " ['호구성향테스트',\n",
       "  '핵심능력 테스트',\n",
       "  '도화테스트',\n",
       "  '코로나 2단계 피시방',\n",
       "  '연애 능력치 테스트',\n",
       "  '시우민',\n",
       "  '코로나 2단계 카페',\n",
       "  '꽃 mbti',\n",
       "  'mbti 연애 테스트',\n",
       "  '삼육대학교',\n",
       "  '꼰대성향검사',\n",
       "  '영산대학교',\n",
       "  '인하공업전문대학',\n",
       "  '본캐컬러',\n",
       "  '계명대학교',\n",
       "  '썸그널',\n",
       "  '남서울대학교',\n",
       "  '리버풀 레스터',\n",
       "  'nct',\n",
       "  '경동대학교'],\n",
       " ['아스트라제네카',\n",
       "  '한민채',\n",
       "  '드라마 암행어사',\n",
       "  '삼성중공업',\n",
       "  '빛깔색깔드로잉카페',\n",
       "  '삼성중공업우',\n",
       "  '위기가구긴급생계지원',\n",
       "  '코로나 2단계 카페',\n",
       "  '이환희',\n",
       "  '종부세',\n",
       "  '차민석',\n",
       "  '홍대새교회',\n",
       "  '케이피엠테크',\n",
       "  '중구 대기업',\n",
       "  '정형돈',\n",
       "  '제일약품',\n",
       "  'sk케미칼',\n",
       "  '조경희',\n",
       "  '영주시청',\n",
       "  '용인 키즈카페'],\n",
       " ['아스트라제네카',\n",
       "  '드라마 암행어사',\n",
       "  '삼성중공업',\n",
       "  '삼성중공업우',\n",
       "  '한민채',\n",
       "  '종부세',\n",
       "  '빛깔색깔드로잉카페',\n",
       "  '조경희',\n",
       "  '홍대새교회',\n",
       "  '이환희',\n",
       "  '코로나 2단계 카페',\n",
       "  '위기가구긴급생계지원',\n",
       "  '차민석',\n",
       "  '사랑해 당신을',\n",
       "  '케이피엠테크',\n",
       "  '정형돈',\n",
       "  '제일약품',\n",
       "  'sk케미칼',\n",
       "  '영주시청',\n",
       "  '중구 대기업'],\n",
       " ['삼성중공업주가',\n",
       "  '강창일',\n",
       "  '아스트라제네카',\n",
       "  '삼성중공업',\n",
       "  '종부세',\n",
       "  '박철순',\n",
       "  '한민채',\n",
       "  '조경희',\n",
       "  '김세영',\n",
       "  '코로나 2단계 카페',\n",
       "  '드라마 암행어사',\n",
       "  '사랑해 당신을',\n",
       "  '빛깔색깔드로잉카페',\n",
       "  '홍대새교회',\n",
       "  '박남정',\n",
       "  '달걀말이국수',\n",
       "  '제물포고 차민석',\n",
       "  '박남정나이',\n",
       "  '제일약품',\n",
       "  '임창정'],\n",
       " ['코로나 2단계 카페',\n",
       "  '아스트라제네카',\n",
       "  '한민채',\n",
       "  '삼성중공업',\n",
       "  '드라마 암행어사',\n",
       "  '삼성중공업우',\n",
       "  '호구성향테스트',\n",
       "  '코로나 2단계 피시방',\n",
       "  '도화테스트',\n",
       "  '이환희',\n",
       "  '빛깔색깔드로잉카페',\n",
       "  '종부세',\n",
       "  '위기가구긴급생계지원',\n",
       "  '핵심능력 테스트',\n",
       "  '차민석',\n",
       "  '홍대새교회',\n",
       "  '조경희',\n",
       "  '정형돈',\n",
       "  '꽃 mbti',\n",
       "  '케이피엠테크']]"
      ]
     },
     "execution_count": 104,
     "metadata": {},
     "output_type": "execute_result"
    }
   ],
   "source": [
    "base_xpath1 = '//*[@id=\"content\"]/div/div[2]/div[1]/div[2]/div/div/div/ul/li['\n",
    "base_xpath2 = ']/a'\n",
    "\n",
    "\n",
    "all_word = []\n",
    "for i in range(1,7):\n",
    "    all_xpath = base_xpath +str(i) + base_xpath2\n",
    "    sel_btn = driver.find_element_by_xpath(all_xpath)\n",
    "    sel_btn.click()\n",
    "    \n",
    "    soup = BeautifulSoup(driver.page_source, 'lxml')\n",
    "    age_data = soup.find_all(\"span\", class_=\"item_title\")\n",
    "    \n",
    "    ## 각 세대별 인기 키워드 가져오기\n",
    "    pop_word = []\n",
    "    for one in age_data:\n",
    "        text = one.text\n",
    "        pop_word.append(text)\n",
    "    time.sleep(2)\n",
    "    all_word.append(pop_word)\n",
    "    \n",
    "all_word"
   ]
  },
  {
   "cell_type": "code",
   "execution_count": 110,
   "metadata": {},
   "outputs": [],
   "source": [
    "dict_val = {\"10대\":all_word[0], \"20대\":all_word[1], \"30대\":all_word[2], \"40대\":all_word[3], \"50대\":all_word[4], \"전체\":all_word[5]}"
   ]
  },
  {
   "cell_type": "code",
   "execution_count": 111,
   "metadata": {},
   "outputs": [
    {
     "data": {
      "text/html": [
       "<div>\n",
       "<style scoped>\n",
       "    .dataframe tbody tr th:only-of-type {\n",
       "        vertical-align: middle;\n",
       "    }\n",
       "\n",
       "    .dataframe tbody tr th {\n",
       "        vertical-align: top;\n",
       "    }\n",
       "\n",
       "    .dataframe thead th {\n",
       "        text-align: right;\n",
       "    }\n",
       "</style>\n",
       "<table border=\"1\" class=\"dataframe\">\n",
       "  <thead>\n",
       "    <tr style=\"text-align: right;\">\n",
       "      <th></th>\n",
       "      <th>10대</th>\n",
       "      <th>20대</th>\n",
       "      <th>30대</th>\n",
       "      <th>40대</th>\n",
       "      <th>50대</th>\n",
       "      <th>전체</th>\n",
       "    </tr>\n",
       "  </thead>\n",
       "  <tbody>\n",
       "    <tr>\n",
       "      <th>0</th>\n",
       "      <td>호구성향테스트</td>\n",
       "      <td>호구성향테스트</td>\n",
       "      <td>아스트라제네카</td>\n",
       "      <td>아스트라제네카</td>\n",
       "      <td>삼성중공업주가</td>\n",
       "      <td>코로나 2단계 카페</td>\n",
       "    </tr>\n",
       "    <tr>\n",
       "      <th>1</th>\n",
       "      <td>핵심능력 테스트</td>\n",
       "      <td>핵심능력 테스트</td>\n",
       "      <td>한민채</td>\n",
       "      <td>드라마 암행어사</td>\n",
       "      <td>강창일</td>\n",
       "      <td>아스트라제네카</td>\n",
       "    </tr>\n",
       "    <tr>\n",
       "      <th>2</th>\n",
       "      <td>도화테스트</td>\n",
       "      <td>도화테스트</td>\n",
       "      <td>드라마 암행어사</td>\n",
       "      <td>삼성중공업</td>\n",
       "      <td>아스트라제네카</td>\n",
       "      <td>한민채</td>\n",
       "    </tr>\n",
       "    <tr>\n",
       "      <th>3</th>\n",
       "      <td>코로나 2단계 피시방</td>\n",
       "      <td>코로나 2단계 피시방</td>\n",
       "      <td>삼성중공업</td>\n",
       "      <td>삼성중공업우</td>\n",
       "      <td>삼성중공업</td>\n",
       "      <td>삼성중공업</td>\n",
       "    </tr>\n",
       "    <tr>\n",
       "      <th>4</th>\n",
       "      <td>연애 능력치 테스트</td>\n",
       "      <td>연애 능력치 테스트</td>\n",
       "      <td>빛깔색깔드로잉카페</td>\n",
       "      <td>한민채</td>\n",
       "      <td>종부세</td>\n",
       "      <td>드라마 암행어사</td>\n",
       "    </tr>\n",
       "    <tr>\n",
       "      <th>5</th>\n",
       "      <td>시우민</td>\n",
       "      <td>시우민</td>\n",
       "      <td>삼성중공업우</td>\n",
       "      <td>종부세</td>\n",
       "      <td>박철순</td>\n",
       "      <td>삼성중공업우</td>\n",
       "    </tr>\n",
       "    <tr>\n",
       "      <th>6</th>\n",
       "      <td>코로나 2단계 카페</td>\n",
       "      <td>코로나 2단계 카페</td>\n",
       "      <td>위기가구긴급생계지원</td>\n",
       "      <td>빛깔색깔드로잉카페</td>\n",
       "      <td>한민채</td>\n",
       "      <td>호구성향테스트</td>\n",
       "    </tr>\n",
       "    <tr>\n",
       "      <th>7</th>\n",
       "      <td>꽃 mbti</td>\n",
       "      <td>꽃 mbti</td>\n",
       "      <td>코로나 2단계 카페</td>\n",
       "      <td>조경희</td>\n",
       "      <td>조경희</td>\n",
       "      <td>코로나 2단계 피시방</td>\n",
       "    </tr>\n",
       "    <tr>\n",
       "      <th>8</th>\n",
       "      <td>mbti 연애 테스트</td>\n",
       "      <td>mbti 연애 테스트</td>\n",
       "      <td>이환희</td>\n",
       "      <td>홍대새교회</td>\n",
       "      <td>김세영</td>\n",
       "      <td>도화테스트</td>\n",
       "    </tr>\n",
       "    <tr>\n",
       "      <th>9</th>\n",
       "      <td>삼육대학교</td>\n",
       "      <td>삼육대학교</td>\n",
       "      <td>종부세</td>\n",
       "      <td>이환희</td>\n",
       "      <td>코로나 2단계 카페</td>\n",
       "      <td>이환희</td>\n",
       "    </tr>\n",
       "    <tr>\n",
       "      <th>10</th>\n",
       "      <td>꼰대성향검사</td>\n",
       "      <td>꼰대성향검사</td>\n",
       "      <td>차민석</td>\n",
       "      <td>코로나 2단계 카페</td>\n",
       "      <td>드라마 암행어사</td>\n",
       "      <td>빛깔색깔드로잉카페</td>\n",
       "    </tr>\n",
       "    <tr>\n",
       "      <th>11</th>\n",
       "      <td>영산대학교</td>\n",
       "      <td>영산대학교</td>\n",
       "      <td>홍대새교회</td>\n",
       "      <td>위기가구긴급생계지원</td>\n",
       "      <td>사랑해 당신을</td>\n",
       "      <td>종부세</td>\n",
       "    </tr>\n",
       "    <tr>\n",
       "      <th>12</th>\n",
       "      <td>인하공업전문대학</td>\n",
       "      <td>인하공업전문대학</td>\n",
       "      <td>케이피엠테크</td>\n",
       "      <td>차민석</td>\n",
       "      <td>빛깔색깔드로잉카페</td>\n",
       "      <td>위기가구긴급생계지원</td>\n",
       "    </tr>\n",
       "    <tr>\n",
       "      <th>13</th>\n",
       "      <td>본캐컬러</td>\n",
       "      <td>본캐컬러</td>\n",
       "      <td>중구 대기업</td>\n",
       "      <td>사랑해 당신을</td>\n",
       "      <td>홍대새교회</td>\n",
       "      <td>핵심능력 테스트</td>\n",
       "    </tr>\n",
       "    <tr>\n",
       "      <th>14</th>\n",
       "      <td>계명대학교</td>\n",
       "      <td>계명대학교</td>\n",
       "      <td>정형돈</td>\n",
       "      <td>케이피엠테크</td>\n",
       "      <td>박남정</td>\n",
       "      <td>차민석</td>\n",
       "    </tr>\n",
       "    <tr>\n",
       "      <th>15</th>\n",
       "      <td>썸그널</td>\n",
       "      <td>썸그널</td>\n",
       "      <td>제일약품</td>\n",
       "      <td>정형돈</td>\n",
       "      <td>달걀말이국수</td>\n",
       "      <td>홍대새교회</td>\n",
       "    </tr>\n",
       "    <tr>\n",
       "      <th>16</th>\n",
       "      <td>남서울대학교</td>\n",
       "      <td>남서울대학교</td>\n",
       "      <td>sk케미칼</td>\n",
       "      <td>제일약품</td>\n",
       "      <td>제물포고 차민석</td>\n",
       "      <td>조경희</td>\n",
       "    </tr>\n",
       "    <tr>\n",
       "      <th>17</th>\n",
       "      <td>리버풀 레스터</td>\n",
       "      <td>리버풀 레스터</td>\n",
       "      <td>조경희</td>\n",
       "      <td>sk케미칼</td>\n",
       "      <td>박남정나이</td>\n",
       "      <td>정형돈</td>\n",
       "    </tr>\n",
       "    <tr>\n",
       "      <th>18</th>\n",
       "      <td>nct</td>\n",
       "      <td>nct</td>\n",
       "      <td>영주시청</td>\n",
       "      <td>영주시청</td>\n",
       "      <td>제일약품</td>\n",
       "      <td>꽃 mbti</td>\n",
       "    </tr>\n",
       "    <tr>\n",
       "      <th>19</th>\n",
       "      <td>경동대학교</td>\n",
       "      <td>경동대학교</td>\n",
       "      <td>용인 키즈카페</td>\n",
       "      <td>중구 대기업</td>\n",
       "      <td>임창정</td>\n",
       "      <td>케이피엠테크</td>\n",
       "    </tr>\n",
       "  </tbody>\n",
       "</table>\n",
       "</div>"
      ],
      "text/plain": [
       "            10대          20대         30대         40대         50대           전체\n",
       "0       호구성향테스트      호구성향테스트     아스트라제네카     아스트라제네카     삼성중공업주가   코로나 2단계 카페\n",
       "1      핵심능력 테스트     핵심능력 테스트         한민채    드라마 암행어사         강창일      아스트라제네카\n",
       "2         도화테스트        도화테스트    드라마 암행어사       삼성중공업     아스트라제네카          한민채\n",
       "3   코로나 2단계 피시방  코로나 2단계 피시방       삼성중공업      삼성중공업우       삼성중공업        삼성중공업\n",
       "4    연애 능력치 테스트   연애 능력치 테스트   빛깔색깔드로잉카페         한민채         종부세     드라마 암행어사\n",
       "5           시우민          시우민      삼성중공업우         종부세         박철순       삼성중공업우\n",
       "6    코로나 2단계 카페   코로나 2단계 카페  위기가구긴급생계지원   빛깔색깔드로잉카페         한민채      호구성향테스트\n",
       "7        꽃 mbti       꽃 mbti  코로나 2단계 카페         조경희         조경희  코로나 2단계 피시방\n",
       "8   mbti 연애 테스트  mbti 연애 테스트         이환희       홍대새교회         김세영        도화테스트\n",
       "9         삼육대학교        삼육대학교         종부세         이환희  코로나 2단계 카페          이환희\n",
       "10       꼰대성향검사       꼰대성향검사         차민석  코로나 2단계 카페    드라마 암행어사    빛깔색깔드로잉카페\n",
       "11        영산대학교        영산대학교       홍대새교회  위기가구긴급생계지원     사랑해 당신을          종부세\n",
       "12     인하공업전문대학     인하공업전문대학      케이피엠테크         차민석   빛깔색깔드로잉카페   위기가구긴급생계지원\n",
       "13         본캐컬러         본캐컬러      중구 대기업     사랑해 당신을       홍대새교회     핵심능력 테스트\n",
       "14        계명대학교        계명대학교         정형돈      케이피엠테크         박남정          차민석\n",
       "15          썸그널          썸그널        제일약품         정형돈      달걀말이국수        홍대새교회\n",
       "16       남서울대학교       남서울대학교       sk케미칼        제일약품    제물포고 차민석          조경희\n",
       "17      리버풀 레스터      리버풀 레스터         조경희       sk케미칼       박남정나이          정형돈\n",
       "18          nct          nct        영주시청        영주시청        제일약품       꽃 mbti\n",
       "19        경동대학교        경동대학교     용인 키즈카페      중구 대기업         임창정       케이피엠테크"
      ]
     },
     "execution_count": 111,
     "metadata": {},
     "output_type": "execute_result"
    }
   ],
   "source": [
    "import pandas as pd\n",
    "dat = pd.DataFrame(dict_val)\n",
    "dat"
   ]
  },
  {
   "cell_type": "code",
   "execution_count": 109,
   "metadata": {},
   "outputs": [],
   "source": [
    "dat.to_csv(\"datalab_1123\")"
   ]
  },
  {
   "cell_type": "markdown",
   "metadata": {},
   "source": [
    "## selenium 설치시 사용한 명령\n",
    "pip install selenium\n",
    "\n",
    "## xpath를 이용해서 요소를 가져온다. 하나의 요소\n",
    "[].find_element_by_xpath\n",
    "\n",
    "## 여러 요소\n",
    "[].find_elements_by_xpath\n",
    "\n",
    "## find_elements_by_[]\n",
    " * 이용할 수 있는 정보: class, id, name, link_text, partial_link_text, xpath, tag_name\n",
    " \n",
    "## time\n",
    " * import time\n",
    " * time.sleep(2)\n",
    "        "
   ]
  },
  {
   "cell_type": "code",
   "execution_count": null,
   "metadata": {},
   "outputs": [],
   "source": []
  }
 ],
 "metadata": {
  "kernelspec": {
   "display_name": "Python 3",
   "language": "python",
   "name": "python3"
  },
  "language_info": {
   "codemirror_mode": {
    "name": "ipython",
    "version": 3
   },
   "file_extension": ".py",
   "mimetype": "text/x-python",
   "name": "python",
   "nbconvert_exporter": "python",
   "pygments_lexer": "ipython3",
   "version": "3.8.3"
  }
 },
 "nbformat": 4,
 "nbformat_minor": 4
}
