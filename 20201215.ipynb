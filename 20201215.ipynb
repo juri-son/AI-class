{
 "cells": [
  {
   "cell_type": "markdown",
   "metadata": {},
   "source": [
    "#################\n",
    "뉴런을 토대로 만들어진 것.\n",
    "딥러닝\n",
    "\n",
    "#################\n",
    "GAN \n",
    "이미지 만들기.\n",
    "\n",
    "#################\n",
    "알파고\n",
    "강화학습.\n",
    "\n",
    "#################\n",
    "OPENAI\n",
    "일론 머스크가 투자로 만든 회사.\n",
    "\n",
    "#################\n",
    "생각만으로도 할 수 있는 일들이 많아짐.\n"
   ]
  },
  {
   "cell_type": "code",
   "execution_count": 1,
   "metadata": {},
   "outputs": [],
   "source": [
    "import warnings\n",
    "warnings.filterwarnings(action='ignore')\n",
    "# warnings.filterwarnings(action='default')\n"
   ]
  },
  {
   "cell_type": "code",
   "execution_count": 2,
   "metadata": {},
   "outputs": [],
   "source": [
    "from sklearn.datasets import load_breast_cancer\n",
    "from sklearn.feature_selection import SelectPercentile\n",
    "from sklearn.feature_selection import f_classif\n",
    "from sklearn.model_selection import train_test_split\n",
    "import numpy as np\n"
   ]
  },
  {
   "cell_type": "code",
   "execution_count": 3,
   "metadata": {},
   "outputs": [
    {
     "name": "stdout",
     "output_type": "stream",
     "text": [
      "(569, 30)\n"
     ]
    }
   ],
   "source": [
    "cancer = load_breast_cancer()\n",
    "print(cancer.data.shape)"
   ]
  },
  {
   "cell_type": "code",
   "execution_count": 4,
   "metadata": {},
   "outputs": [
    {
     "data": {
      "text/plain": [
       "(569, 40)"
      ]
     },
     "execution_count": 4,
     "metadata": {},
     "output_type": "execute_result"
    }
   ],
   "source": [
    "# 고정된 난수를 발생\n",
    "rng = np.random.RandomState(42)\n",
    "noise = rng.normal(size=(len(cancer.data), 40))\n",
    "noise.shape"
   ]
  },
  {
   "cell_type": "code",
   "execution_count": 5,
   "metadata": {},
   "outputs": [
    {
     "data": {
      "text/plain": [
       "(569, 70)"
      ]
     },
     "execution_count": 5,
     "metadata": {},
     "output_type": "execute_result"
    }
   ],
   "source": [
    "# 데이터 노이즈 특성 추가\n",
    "# 30개는 원본 특성, 다음 40개는 노이즈\n",
    "X_w_noise = np.hstack([cancer.data, noise])\n",
    "X_w_noise.shape"
   ]
  },
  {
   "cell_type": "code",
   "execution_count": 6,
   "metadata": {},
   "outputs": [],
   "source": [
    "X = X_w_noise  # 입력\n",
    "y = cancer.target # 출력\n",
    "\n",
    "X_train, X_test, y_train, y_test = train_test_split(X, y, \n",
    "                                                    random_state=0,\n",
    "                                                    test_size=0.5)"
   ]
  },
  {
   "cell_type": "code",
   "execution_count": 7,
   "metadata": {},
   "outputs": [
    {
     "name": "stdout",
     "output_type": "stream",
     "text": [
      "X_train.shape: (284, 70)\n",
      "X_train_selected.shape (284, 35)\n"
     ]
    }
   ],
   "source": [
    "# 50%를 뽑는 것을 학습\n",
    "select = SelectPercentile(score_func=f_classif, percentile=50)\n",
    "select.fit(X_train, y_train)\n",
    "\n",
    "## 학습 세트에 적용\n",
    "X_tr_selected = select.transform(X_train)\n",
    "print( \"X_train.shape:\", X_train.shape)\n",
    "print( \"X_train_selected.shape\", X_tr_selected.shape)"
   ]
  },
  {
   "cell_type": "code",
   "execution_count": 8,
   "metadata": {},
   "outputs": [],
   "source": [
    "import matplotlib.pyplot as plt"
   ]
  },
  {
   "cell_type": "code",
   "execution_count": 9,
   "metadata": {},
   "outputs": [
    {
     "name": "stdout",
     "output_type": "stream",
     "text": [
      "[ True  True  True  True  True  True  True  True  True False  True False\n",
      "  True  True  True  True  True  True False False  True  True  True  True\n",
      "  True  True  True  True  True  True False False False  True False False\n",
      " False False  True False False False False False  True False False False\n",
      " False False False False  True False False False False  True False False\n",
      "  True False False False  True False False False  True  True]\n"
     ]
    },
    {
     "data": {
      "text/plain": [
       "<matplotlib.image.AxesImage at 0x25bb450ef10>"
      ]
     },
     "execution_count": 9,
     "metadata": {},
     "output_type": "execute_result"
    },
    {
     "data": {
      "image/png": "[encoded data removed]",
      "text/plain": [
       "<Figure size 1152x144 with 1 Axes>"
      ]
     },
     "metadata": {
      "needs_background": "light"
     },
     "output_type": "display_data"
    }
   ],
   "source": [
    "### 어떤 특성이 선택되었는지 확인\n",
    "mask = select.get_support()\n",
    "print(mask)\n",
    "plt.matshow(mask.reshape(1, -1), cmap='gray_r')"
   ]
  },
  {
   "cell_type": "code",
   "execution_count": 10,
   "metadata": {},
   "outputs": [
    {
     "name": "stdout",
     "output_type": "stream",
     "text": [
      "전체 특성 사용 : 0.940\n",
      "선택된 일부 특성 사용 : 0.923\n"
     ]
    }
   ],
   "source": [
    "from sklearn.linear_model import LogisticRegression\n",
    "\n",
    "# 테스트 데이터 변환 \n",
    "X_tr_selected = select.transform(X_train)\n",
    "X_test_selected = select.transform(X_test)\n",
    "\n",
    "lr = LogisticRegression()\n",
    "lr.fit(X_train, y_train)\n",
    "print(\"전체 특성 사용 : {:.3f}\".format(lr.score(X_test, y_test)))\n",
    "\n",
    "lr.fit(X_tr_selected, y_train)\n",
    "print(\"선택된 일부 특성 사용 : {:.3f}\".format(lr.score(X_test_selected, y_test)))"
   ]
  },
  {
   "cell_type": "code",
   "execution_count": 11,
   "metadata": {},
   "outputs": [
    {
     "name": "stdout",
     "output_type": "stream",
     "text": [
      "선택된 일부 특성 사용 : 0.947\n"
     ]
    }
   ],
   "source": [
    "# 30%를 뽑는 것을 학습\n",
    "select = SelectPercentile(score_func=f_classif, percentile=30)\n",
    "select.fit(X_train, y_train)\n",
    "\n",
    "## 학습 세트에 적용\n",
    "X_tr_selected = select.transform(X_train)\n",
    "X_test_selected = select.transform(X_test)\n",
    "\n",
    "lr.fit(X_tr_selected, y_train)\n",
    "print(\"선택된 일부 특성 사용 : {:.3f}\".format(lr.score(X_test_selected, y_test)))"
   ]
  },
  {
   "cell_type": "markdown",
   "metadata": {},
   "source": [
    "### 모델 기반 특징(feature) 선택\n",
    "* F-value 통계량을 기반으로 뽑는 함수 SelectPercentile\n",
    "* 모델을 이용해서 특징을 선택."
   ]
  },
  {
   "cell_type": "code",
   "execution_count": 14,
   "metadata": {},
   "outputs": [],
   "source": [
    "from sklearn.feature_selection import SelectFromModel\n",
    "from sklearn.ensemble import RandomForestClassifier\n"
   ]
  },
  {
   "cell_type": "code",
   "execution_count": 15,
   "metadata": {},
   "outputs": [],
   "source": [
    "select = SelectFromModel(RandomForestClassifier(n_estimators=100,\n",
    "                                               random_state=42),\n",
    "                                               threshold=\"median\")"
   ]
  },
  {
   "cell_type": "code",
   "execution_count": 16,
   "metadata": {},
   "outputs": [
    {
     "name": "stdout",
     "output_type": "stream",
     "text": [
      "X_train.shape: (284, 70)\n",
      "X_train_l1.shape (284, 35)\n"
     ]
    }
   ],
   "source": [
    "select.fit(X_train, y_train) #학습\n",
    "X_tr_model = select.transform(X_train)\n",
    "print( \"X_train.shape:\", X_train.shape)\n",
    "print( \"X_train_l1.shape\", X_tr_model.shape)"
   ]
  },
  {
   "cell_type": "code",
   "execution_count": 17,
   "metadata": {},
   "outputs": [
    {
     "name": "stdout",
     "output_type": "stream",
     "text": [
      "[ True  True  True  True  True  True  True  True  True  True  True False\n",
      "  True  True False  True  True  True False  True  True  True  True  True\n",
      "  True  True  True  True  True  True False False False False False False\n",
      " False False False False False  True False False False  True False False\n",
      " False False False False  True False  True False False False False False\n",
      "  True False False  True  True False False False  True False]\n"
     ]
    },
    {
     "data": {
      "text/plain": [
       "Text(0.5, 0, '특성 번호')"
      ]
     },
     "execution_count": 17,
     "metadata": {},
     "output_type": "execute_result"
    },
    {
     "data": {
      "image/png": "[encoded data removed]",
      "text/plain": [
       "<Figure size 1152x144 with 1 Axes>"
      ]
     },
     "metadata": {
      "needs_background": "light"
     },
     "output_type": "display_data"
    }
   ],
   "source": [
    "### 어떤 특성이 선택되었는지 확인\n",
    "mask = select.get_support()\n",
    "print(mask)\n",
    "plt.matshow(mask.reshape(1, -1), cmap='gray_r')\n",
    "plt.xlabel(\"특성 번호\")"
   ]
  },
  {
   "cell_type": "markdown",
   "metadata": {},
   "source": [
    "### 반복적 특성 선택"
   ]
  },
  {
   "cell_type": "code",
   "execution_count": 18,
   "metadata": {},
   "outputs": [
    {
     "name": "stdout",
     "output_type": "stream",
     "text": [
      "X_train.shape : (284, 70)\n",
      "X_tr_model.shape : (284, 40)\n"
     ]
    },
    {
     "data": {
      "text/plain": [
       "Text(0.5, 0, '특성 번호')"
      ]
     },
     "execution_count": 18,
     "metadata": {},
     "output_type": "execute_result"
    },
    {
     "data": {
      "image/png": "[encoded data removed]",
      "text/plain": [
       "<Figure size 1152x144 with 1 Axes>"
      ]
     },
     "metadata": {
      "needs_background": "light"
     },
     "output_type": "display_data"
    }
   ],
   "source": [
    "from sklearn.feature_selection import RFE\n",
    "select = RFE(RandomForestClassifier(n_estimators=100, random_state=42),\n",
    "            n_features_to_select=40)\n",
    "\n",
    "select.fit(X_train, y_train)\n",
    "X_tr_model = select.transform(X_train)\n",
    "print(\"X_train.shape :\" , X_train.shape)\n",
    "print(\"X_tr_model.shape :\", X_tr_model.shape)\n",
    "\n",
    "# 선택된 특성을 표시합니다.\n",
    "mask = select.get_support()\n",
    "plt.matshow(mask.reshape(1,-1), cmap='gray_r')\n",
    "plt.xlabel(\"특성 번호\")"
   ]
  },
  {
   "cell_type": "code",
   "execution_count": 19,
   "metadata": {},
   "outputs": [
    {
     "name": "stdout",
     "output_type": "stream",
     "text": [
      "테스트 점수 : 0.923\n"
     ]
    }
   ],
   "source": [
    "X_train_rfe = select.transform(X_train)\n",
    "X_test_rfe = select.transform(X_test)\n",
    "\n",
    "score = LogisticRegression().fit(X_train_rfe, y_train).score(X_test_rfe, y_test)\n",
    "print(\"테스트 점수 : {:.3f}\".format(score))"
   ]
  },
  {
   "cell_type": "markdown",
   "metadata": {},
   "source": [
    "### 그리드 서치\n",
    "* 하이퍼 파라미터 : 사용자가 조정할 수 있는 매개변수\n",
    "* grid search로서 관심 있는 매개변수들을 대상으로 가능한 모든 조합을 시도해보는 것을 통해 모델에서 중요한 일반화 성능이 높여주는 매개변수를 찾는다."
   ]
  },
  {
   "cell_type": "code",
   "execution_count": 22,
   "metadata": {},
   "outputs": [],
   "source": [
    "from sklearn.model_selection import train_test_split\n",
    "import mglearn\n",
    "from sklearn.datasets import load_iris\n",
    "from sklearn.model_selection import cross_val_score"
   ]
  },
  {
   "cell_type": "code",
   "execution_count": 24,
   "metadata": {},
   "outputs": [],
   "source": [
    "iris = load_iris()"
   ]
  },
  {
   "cell_type": "code",
   "execution_count": 25,
   "metadata": {},
   "outputs": [
    {
     "name": "stdout",
     "output_type": "stream",
     "text": [
      "훈련 세트 : 112, 테스트 세트 : 38\n"
     ]
    }
   ],
   "source": [
    "X = iris.data\n",
    "y = iris.target\n",
    "\n",
    "# 데이터 셋 나누기\n",
    "X_train, X_test, y_train, y_test = train_test_split(iris.data, \n",
    "                                                    iris.target,\n",
    "                                                    random_state=0)\n",
    "\n",
    "\n",
    "print(\"훈련 세트 : {}, 테스트 세트 : {}\".format(X_train.shape[0], \n",
    "                                                X_test.shape[0]))"
   ]
  },
  {
   "cell_type": "code",
   "execution_count": 27,
   "metadata": {},
   "outputs": [],
   "source": [
    "from sklearn.svm import SVC"
   ]
  },
  {
   "cell_type": "code",
   "execution_count": 29,
   "metadata": {},
   "outputs": [
    {
     "name": "stdout",
     "output_type": "stream",
     "text": [
      "0.23684210526315788\n",
      "{'C': 0.001, 'gamma': 0.001}\n",
      "0.5789473684210527\n",
      "{'C': 1, 'gamma': 0.001}\n",
      "0.9210526315789473\n",
      "{'C': 10, 'gamma': 0.001}\n",
      "0.9736842105263158\n",
      "{'C': 100, 'gamma': 0.001}\n",
      "best_score : 0.974\n",
      "best_parameters :  {'C': 100, 'gamma': 0.001}\n"
     ]
    }
   ],
   "source": [
    "# 최적의 score 변수\n",
    "best_score = 0\n",
    "\n",
    "for gamma in [0.001, 0.01, 0.1, 1, 10, 100]:\n",
    "    for C in [0.001, 0.01, 0.1, 1, 10, 100]:\n",
    "        svm = SVC(gamma=gamma, C=C)\n",
    "        svm.fit(X_train, y_train)\n",
    "        \n",
    "        score = svm.score(X_test, y_test)\n",
    "        \n",
    "        if score> best_score:\n",
    "            best_score = score\n",
    "            best_parameters = {'C':C, 'gamma':gamma}\n",
    "            \n",
    "            print(best_score)\n",
    "            print(best_parameters)\n",
    "            \n",
    "print(\"best_score : {:.3f}\".format(best_score))\n",
    "print(\"best_parameters : \", best_parameters)"
   ]
  },
  {
   "cell_type": "code",
   "execution_count": 32,
   "metadata": {},
   "outputs": [
    {
     "data": {
      "image/png": "[encoded data removed]",
      "text/plain": [
       "<Figure size 1080x72 with 1 Axes>"
      ]
     },
     "metadata": {
      "needs_background": "light"
     },
     "output_type": "display_data"
    }
   ],
   "source": [
    "mglearn.plots.plot_threefold_split()"
   ]
  },
  {
   "cell_type": "code",
   "execution_count": 33,
   "metadata": {},
   "outputs": [],
   "source": [
    "from sklearn.svm import SVC\n",
    "\n",
    "# 학습(훈련+검증), 테스트로 분할\n",
    "X_trainval, X_test, y_trainval, y_test = train_test_split(iris.data, \n",
    "                                                    iris.target,\n",
    "                                                    random_state=0)\n"
   ]
  },
  {
   "cell_type": "code",
   "execution_count": 34,
   "metadata": {},
   "outputs": [],
   "source": [
    "X_train, X_valid, y_train, y_valid = train_test_split(X_trainval, \n",
    "                                                      y_trainval,\n",
    "                                                      random_state=0)"
   ]
  },
  {
   "cell_type": "code",
   "execution_count": 35,
   "metadata": {},
   "outputs": [
    {
     "name": "stdout",
     "output_type": "stream",
     "text": [
      "훈련 세트: 84, 검증 세트: 28, 테스트 세트: 38\n"
     ]
    }
   ],
   "source": [
    "print(\"훈련 세트: {}, 검증 세트: {}, 테스트 세트: {}\".format(X_train.shape[0], \n",
    "                                               X_valid.shape[0], \n",
    "                                               X_test.shape[0]  ))"
   ]
  },
  {
   "cell_type": "code",
   "execution_count": 42,
   "metadata": {},
   "outputs": [
    {
     "name": "stdout",
     "output_type": "stream",
     "text": [
      "0.42857142857142855\n",
      "학습 : 0.34523809523809523, 테스트 :0.42857142857142855\n",
      "매개변수 :  {'C': 0.001, 'gamma': 0.001}\n",
      "\n",
      "0.75\n",
      "학습 : 0.6785714285714286, 테스트 :0.75\n",
      "매개변수 :  {'C': 1, 'gamma': 0.001}\n",
      "\n",
      "0.9642857142857143\n",
      "학습 : 0.9404761904761905, 테스트 :0.9642857142857143\n",
      "매개변수 :  {'C': 10, 'gamma': 0.001}\n",
      "\n",
      "1.0\n",
      "학습 : 0.9642857142857143, 테스트 :1.0\n",
      "매개변수 :  {'C': 100, 'gamma': 0.001}\n",
      "\n"
     ]
    }
   ],
   "source": [
    "best_score = 0\n",
    "\n",
    "for gamma in [0.001, 0.01, 0.1, 1, 10, 100]:\n",
    "    for C in [0.001, 0.01, 0.1, 1, 10, 100]:\n",
    "        # 매개변수의 각 조합에 대해 SVC를 훈련\n",
    "        svm = SVC(gamma=gamma, C=C)\n",
    "        svm.fit(X_train ,y_train)\n",
    "        \n",
    "        # 검증 세트로 SVC 평가\n",
    "\n",
    "        \n",
    "        ## score를 구하고\n",
    "        tr_score = svm.score(X_train, y_train)\n",
    "        valid_score = svm.score(X_valid, y_valid)\n",
    "        \n",
    "        ## best_score보다 좋으면, best_score를 바꾸고, 한번 출력\n",
    "        if valid_score > best_score:\n",
    "            best_score = valid_score\n",
    "            best_parameters = {\"C\":C, \"gamma\":gamma}\n",
    "            \n",
    "            print(best_score)\n",
    "            print(\"학습 : {}, 테스트 :{}\".format(tr_score, valid_score))\n",
    "            print(\"매개변수 : \", best_parameters)\n",
    "            print()\n"
   ]
  },
  {
   "cell_type": "code",
   "execution_count": 43,
   "metadata": {},
   "outputs": [
    {
     "name": "stdout",
     "output_type": "stream",
     "text": [
      "0.42857142857142855\n",
      "학습 : 0.34523809523809523, 테스트 :0.42857142857142855\n",
      "매개변수 :  {'C': 0.001, 'gamma': 0.001}\n",
      "\n",
      "0.75\n",
      "학습 : 0.6785714285714286, 테스트 :0.75\n",
      "매개변수 :  {'C': 1, 'gamma': 0.001}\n",
      "\n",
      "0.9642857142857143\n",
      "학습 : 0.9404761904761905, 테스트 :0.9642857142857143\n",
      "매개변수 :  {'C': 10, 'gamma': 0.001}\n",
      "\n",
      "1.0\n",
      "학습 : 0.9642857142857143, 테스트 :1.0\n",
      "매개변수 :  {'C': 100, 'gamma': 0.001}\n",
      "\n",
      "검증 세트에서 최고 점수 : 1.00\n",
      "최적 매개변수 :  {'C': 100, 'gamma': 0.001}\n",
      "최적 매개변수에서 테스트 세트 점수 : 0.97\n"
     ]
    }
   ],
   "source": [
    "best_score = 0\n",
    "\n",
    "for gamma in [0.001, 0.01, 0.1, 1, 10, 100]:\n",
    "    for C in [0.001, 0.01, 0.1, 1, 10, 100]:\n",
    "        # 매개변수의 각 조합에 대해 SVC를 훈련\n",
    "        svm = SVC(gamma=gamma, C=C)\n",
    "        svm.fit(X_train ,y_train)\n",
    "        \n",
    "        ## score를 구하고\n",
    "        tr_score = svm.score(X_train, y_train)\n",
    "        valid_score = svm.score(X_valid, y_valid)\n",
    "        \n",
    "        ## best_score보다 좋으면, best_score를 바꾸고, 한번 출력\n",
    "        if valid_score > best_score:\n",
    "            best_score = valid_score\n",
    "            best_parameters = {\"C\":C, \"gamma\":gamma}\n",
    "            \n",
    "            print(best_score)\n",
    "            print(\"학습 : {}, 테스트 :{}\".format(tr_score, valid_score))\n",
    "            print(\"매개변수 : \", best_parameters)\n",
    "            print()\n",
    "            \n",
    "# 훈련 세트와 검증 세트를 합쳐 모델을 다시 만든 후,\n",
    "# 테스트 세트를 사용해 평가합니다.\n",
    "svm = SVC(**best_parameters)\n",
    "svm.fit(X_trainval, y_trainval)\n",
    "test_score = svm.score(X_test, y_test)\n",
    "\n",
    "print(\"검증 세트에서 최고 점수 : {:.2f}\".format(best_score))\n",
    "print(\"최적 매개변수 : \", best_parameters)\n",
    "print(\"최적 매개변수에서 테스트 세트 점수 : {:.2f}\".format(test_score))"
   ]
  },
  {
   "cell_type": "markdown",
   "metadata": {},
   "source": [
    "### 교차검증을 사용한 그리드 서치"
   ]
  },
  {
   "cell_type": "code",
   "execution_count": 44,
   "metadata": {},
   "outputs": [],
   "source": [
    "import numpy as np"
   ]
  },
  {
   "cell_type": "code",
   "execution_count": 55,
   "metadata": {},
   "outputs": [],
   "source": [
    "best_score = 0\n",
    "for gamma in [0.001, 0.01, 0.1, 1, 10, 100]:\n",
    "    for C in [0.001, 0.01, 0.1, 1, 10, 100]:\n",
    "        # 매개변수의 각 조합에 대해 SVC를 훈련\n",
    "        svm = SVC(gamma=gamma, C=C)\n",
    "        \n",
    "        #교차 검증 이용\n",
    "        scores = cross_val_score(svm, X_trainval, y_trainval, cv=5)\n",
    "        \n",
    "        ## \n",
    "        score = np.mean(scores)\n",
    "        \n",
    "        if score > best_score:\n",
    "            best_score = score\n",
    "            best_parameters = {'C':C, 'gamma':gamma}"
   ]
  },
  {
   "cell_type": "code",
   "execution_count": 56,
   "metadata": {},
   "outputs": [
    {
     "name": "stdout",
     "output_type": "stream",
     "text": [
      "{'C': 10, 'gamma': 0.1}\n",
      "0.9731225296442687\n"
     ]
    }
   ],
   "source": [
    "### 최적의 파라미터와 점수\n",
    "print(best_parameters)\n",
    "print(best_score)"
   ]
  },
  {
   "cell_type": "code",
   "execution_count": 57,
   "metadata": {},
   "outputs": [
    {
     "data": {
      "text/plain": [
       "SVC(C=10, gamma=0.1)"
      ]
     },
     "execution_count": 57,
     "metadata": {},
     "output_type": "execute_result"
    }
   ],
   "source": [
    "# 훈련 세트와 검증 세트를 합쳐 모델을 다시 만든 후,\n",
    "# 테스트 세트를 사용해 평가합니다.\n",
    "svm = SVC(**best_parameters)\n",
    "svm.fit(X_trainval, y_trainval)\n",
    "# test_score = svm.score(X_test, y_test)"
   ]
  },
  {
   "cell_type": "code",
   "execution_count": 51,
   "metadata": {},
   "outputs": [
    {
     "data": {
      "image/png": "[encoded data removed]",
      "text/plain": [
       "<Figure size 720x216 with 1 Axes>"
      ]
     },
     "metadata": {
      "needs_background": "light"
     },
     "output_type": "display_data"
    }
   ],
   "source": [
    "mglearn.plots.plot_cross_val_selection()"
   ]
  },
  {
   "cell_type": "code",
   "execution_count": 58,
   "metadata": {},
   "outputs": [
    {
     "name": "stdout",
     "output_type": "stream",
     "text": [
      "0.1.9\n"
     ]
    }
   ],
   "source": [
    "import mglearn\n",
    "print(mglearn.__version__)"
   ]
  },
  {
   "cell_type": "code",
   "execution_count": 59,
   "metadata": {},
   "outputs": [
    {
     "data": {
      "image/png": "[encoded data removed]",
      "text/plain": [
       "<Figure size 700x210 with 1 Axes>"
      ]
     },
     "metadata": {
      "needs_background": "light"
     },
     "output_type": "display_data"
    }
   ],
   "source": [
    "mglearn.plots.plot_grid_search_overview()"
   ]
  },
  {
   "cell_type": "code",
   "execution_count": 60,
   "metadata": {},
   "outputs": [
    {
     "name": "stdout",
     "output_type": "stream",
     "text": [
      "매개변수 그리드 :\n",
      " {'C': [0.001, 0.01, 0.1, 1, 10, 100], 'gamma': [0.001, 0.01, 0.1, 1, 10, 100]}\n"
     ]
    }
   ],
   "source": [
    "# 매개변수 \n",
    "param_grid = {'C':[0.001, 0.01, 0.1, 1, 10, 100],\n",
    "              'gamma':[0.001, 0.01, 0.1, 1, 10, 100] }\n",
    "print(\"매개변수 그리드 :\\n\", param_grid)"
   ]
  },
  {
   "cell_type": "code",
   "execution_count": 61,
   "metadata": {},
   "outputs": [
    {
     "data": {
      "text/plain": [
       "GridSearchCV(cv=5, estimator=SVC(),\n",
       "             param_grid={'C': [0.001, 0.01, 0.1, 1, 10, 100],\n",
       "                         'gamma': [0.001, 0.01, 0.1, 1, 10, 100]},\n",
       "             return_train_score=True)"
      ]
     },
     "execution_count": 61,
     "metadata": {},
     "output_type": "execute_result"
    }
   ],
   "source": [
    "from sklearn.model_selection import GridSearchCV\n",
    "from sklearn.svm import SVC\n",
    "\n",
    "grid_search = GridSearchCV(SVC(),\n",
    "                          param_grid,\n",
    "                          cv=5,\n",
    "                          return_train_score=True)\n",
    "grid_search"
   ]
  },
  {
   "cell_type": "code",
   "execution_count": 63,
   "metadata": {},
   "outputs": [
    {
     "data": {
      "text/plain": [
       "0.9736842105263158"
      ]
     },
     "execution_count": 63,
     "metadata": {},
     "output_type": "execute_result"
    }
   ],
   "source": [
    "grid_search = GridSearchCV(SVC(), param_grid, cv=5, \n",
    "                           return_train_score=True)\n",
    "grid_search.fit(X_train, y_train)\n",
    "\n",
    "# 훈련 후, 테스트로 적용 후, 점수\n",
    "grid_search.score(X_test, y_test)\n"
   ]
  },
  {
   "cell_type": "code",
   "execution_count": 64,
   "metadata": {},
   "outputs": [
    {
     "data": {
      "text/plain": [
       "GridSearchCV(cv=5, estimator=SVC(),\n",
       "             param_grid={'C': [0.001, 0.01, 0.1, 1, 10, 100],\n",
       "                         'gamma': [0.001, 0.01, 0.1, 1, 10, 100]},\n",
       "             return_train_score=True)"
      ]
     },
     "execution_count": 64,
     "metadata": {},
     "output_type": "execute_result"
    }
   ],
   "source": [
    "grid_search = GridSearchCV(SVC(), param_grid, cv=5, \n",
    "                           return_train_score=True)\n",
    "grid_search.fit(X_train, y_train)"
   ]
  },
  {
   "cell_type": "code",
   "execution_count": 65,
   "metadata": {},
   "outputs": [
    {
     "name": "stdout",
     "output_type": "stream",
     "text": [
      "최적 매개변수 : {'C': 100, 'gamma': 0.01}\n",
      "최적의 교차 검증 점수 : 0.98\n",
      "최고 성능 모델 :\n",
      " SVC(C=100, gamma=0.01)\n"
     ]
    }
   ],
   "source": [
    "print(\"최적 매개변수 :\", grid_search.best_params_)\n",
    "print(\"최적의 교차 검증 점수 : {:.2f}\".format(grid_search.best_score_))\n",
    "\n",
    "### 교차 검증 중, 최고 성능 모델 확인\n",
    "print(\"최고 성능 모델 :\\n\", grid_search.best_estimator_)"
   ]
  },
  {
   "cell_type": "code",
   "execution_count": 66,
   "metadata": {},
   "outputs": [
    {
     "data": {
      "text/plain": [
       "0.9736842105263158"
      ]
     },
     "execution_count": 66,
     "metadata": {},
     "output_type": "execute_result"
    }
   ],
   "source": [
    "# 훈련 후, 테스트로 적용 후, 점수\n",
    "grid_search.score(X_test, y_test)"
   ]
  },
  {
   "cell_type": "code",
   "execution_count": 67,
   "metadata": {},
   "outputs": [],
   "source": [
    "import pandas as pd\n",
    "pd.set_option('display.max_columns',None)"
   ]
  },
  {
   "cell_type": "code",
   "execution_count": 68,
   "metadata": {},
   "outputs": [
    {
     "data": {
      "text/plain": [
       "(36, 22)"
      ]
     },
     "execution_count": 68,
     "metadata": {},
     "output_type": "execute_result"
    }
   ],
   "source": [
    "results = pd.DataFrame(grid_search.cv_results_)\n",
    "results.shape"
   ]
  },
  {
   "cell_type": "code",
   "execution_count": 69,
   "metadata": {},
   "outputs": [],
   "source": [
    "# 매개변수\n",
    "param_grid = {'C':[0.001, 0.01, 0.1, 1, 10, 100],\n",
    "             'gamma':[0.001, 0.01, 0.1, 1, 10, 100]}\n"
   ]
  },
  {
   "cell_type": "code",
   "execution_count": 70,
   "metadata": {},
   "outputs": [
    {
     "data": {
      "text/html": [
       "<div>\n",
       "<style scoped>\n",
       "    .dataframe tbody tr th:only-of-type {\n",
       "        vertical-align: middle;\n",
       "    }\n",
       "\n",
       "    .dataframe tbody tr th {\n",
       "        vertical-align: top;\n",
       "    }\n",
       "\n",
       "    .dataframe thead th {\n",
       "        text-align: right;\n",
       "    }\n",
       "</style>\n",
       "<table border=\"1\" class=\"dataframe\">\n",
       "  <thead>\n",
       "    <tr style=\"text-align: right;\">\n",
       "      <th></th>\n",
       "      <th>0</th>\n",
       "      <th>1</th>\n",
       "      <th>2</th>\n",
       "      <th>3</th>\n",
       "      <th>4</th>\n",
       "    </tr>\n",
       "  </thead>\n",
       "  <tbody>\n",
       "    <tr>\n",
       "      <th>mean_fit_time</th>\n",
       "      <td>0.00159354</td>\n",
       "      <td>0.0015522</td>\n",
       "      <td>0.00123177</td>\n",
       "      <td>0.00251389</td>\n",
       "      <td>0.00242729</td>\n",
       "    </tr>\n",
       "    <tr>\n",
       "      <th>std_fit_time</th>\n",
       "      <td>0.000504244</td>\n",
       "      <td>0.000452186</td>\n",
       "      <td>0.000384488</td>\n",
       "      <td>0.000626807</td>\n",
       "      <td>0.000451777</td>\n",
       "    </tr>\n",
       "    <tr>\n",
       "      <th>mean_score_time</th>\n",
       "      <td>0.000797129</td>\n",
       "      <td>0.000791931</td>\n",
       "      <td>0.000992918</td>\n",
       "      <td>0.000992823</td>\n",
       "      <td>0.00120873</td>\n",
       "    </tr>\n",
       "    <tr>\n",
       "      <th>std_score_time</th>\n",
       "      <td>0.000398964</td>\n",
       "      <td>0.000396211</td>\n",
       "      <td>2.57962e-05</td>\n",
       "      <td>4.2611e-05</td>\n",
       "      <td>0.000414495</td>\n",
       "    </tr>\n",
       "    <tr>\n",
       "      <th>param_C</th>\n",
       "      <td>0.001</td>\n",
       "      <td>0.001</td>\n",
       "      <td>0.001</td>\n",
       "      <td>0.001</td>\n",
       "      <td>0.001</td>\n",
       "    </tr>\n",
       "    <tr>\n",
       "      <th>param_gamma</th>\n",
       "      <td>0.001</td>\n",
       "      <td>0.01</td>\n",
       "      <td>0.1</td>\n",
       "      <td>1</td>\n",
       "      <td>10</td>\n",
       "    </tr>\n",
       "    <tr>\n",
       "      <th>params</th>\n",
       "      <td>{'C': 0.001, 'gamma': 0.001}</td>\n",
       "      <td>{'C': 0.001, 'gamma': 0.01}</td>\n",
       "      <td>{'C': 0.001, 'gamma': 0.1}</td>\n",
       "      <td>{'C': 0.001, 'gamma': 1}</td>\n",
       "      <td>{'C': 0.001, 'gamma': 10}</td>\n",
       "    </tr>\n",
       "    <tr>\n",
       "      <th>split0_test_score</th>\n",
       "      <td>0.352941</td>\n",
       "      <td>0.352941</td>\n",
       "      <td>0.352941</td>\n",
       "      <td>0.352941</td>\n",
       "      <td>0.352941</td>\n",
       "    </tr>\n",
       "    <tr>\n",
       "      <th>split1_test_score</th>\n",
       "      <td>0.352941</td>\n",
       "      <td>0.352941</td>\n",
       "      <td>0.352941</td>\n",
       "      <td>0.352941</td>\n",
       "      <td>0.352941</td>\n",
       "    </tr>\n",
       "    <tr>\n",
       "      <th>split2_test_score</th>\n",
       "      <td>0.294118</td>\n",
       "      <td>0.294118</td>\n",
       "      <td>0.294118</td>\n",
       "      <td>0.294118</td>\n",
       "      <td>0.294118</td>\n",
       "    </tr>\n",
       "    <tr>\n",
       "      <th>split3_test_score</th>\n",
       "      <td>0.647059</td>\n",
       "      <td>0.647059</td>\n",
       "      <td>0.647059</td>\n",
       "      <td>0.647059</td>\n",
       "      <td>0.470588</td>\n",
       "    </tr>\n",
       "    <tr>\n",
       "      <th>split4_test_score</th>\n",
       "      <td>0.6875</td>\n",
       "      <td>0.6875</td>\n",
       "      <td>0.6875</td>\n",
       "      <td>0.6875</td>\n",
       "      <td>0.6875</td>\n",
       "    </tr>\n",
       "    <tr>\n",
       "      <th>mean_test_score</th>\n",
       "      <td>0.466912</td>\n",
       "      <td>0.466912</td>\n",
       "      <td>0.466912</td>\n",
       "      <td>0.466912</td>\n",
       "      <td>0.431618</td>\n",
       "    </tr>\n",
       "    <tr>\n",
       "      <th>std_test_score</th>\n",
       "      <td>0.165498</td>\n",
       "      <td>0.165498</td>\n",
       "      <td>0.165498</td>\n",
       "      <td>0.165498</td>\n",
       "      <td>0.1402</td>\n",
       "    </tr>\n",
       "    <tr>\n",
       "      <th>rank_test_score</th>\n",
       "      <td>22</td>\n",
       "      <td>22</td>\n",
       "      <td>22</td>\n",
       "      <td>22</td>\n",
       "      <td>31</td>\n",
       "    </tr>\n",
       "    <tr>\n",
       "      <th>split0_train_score</th>\n",
       "      <td>0.343284</td>\n",
       "      <td>0.343284</td>\n",
       "      <td>0.343284</td>\n",
       "      <td>0.343284</td>\n",
       "      <td>0.343284</td>\n",
       "    </tr>\n",
       "    <tr>\n",
       "      <th>split1_train_score</th>\n",
       "      <td>0.343284</td>\n",
       "      <td>0.343284</td>\n",
       "      <td>0.343284</td>\n",
       "      <td>0.343284</td>\n",
       "      <td>0.343284</td>\n",
       "    </tr>\n",
       "    <tr>\n",
       "      <th>split2_train_score</th>\n",
       "      <td>0.358209</td>\n",
       "      <td>0.358209</td>\n",
       "      <td>0.358209</td>\n",
       "      <td>0.358209</td>\n",
       "      <td>0.358209</td>\n",
       "    </tr>\n",
       "    <tr>\n",
       "      <th>split3_train_score</th>\n",
       "      <td>0.686567</td>\n",
       "      <td>0.686567</td>\n",
       "      <td>0.686567</td>\n",
       "      <td>0.686567</td>\n",
       "      <td>0.61194</td>\n",
       "    </tr>\n",
       "    <tr>\n",
       "      <th>split4_train_score</th>\n",
       "      <td>0.676471</td>\n",
       "      <td>0.676471</td>\n",
       "      <td>0.676471</td>\n",
       "      <td>0.676471</td>\n",
       "      <td>0.647059</td>\n",
       "    </tr>\n",
       "    <tr>\n",
       "      <th>mean_train_score</th>\n",
       "      <td>0.481563</td>\n",
       "      <td>0.481563</td>\n",
       "      <td>0.481563</td>\n",
       "      <td>0.481563</td>\n",
       "      <td>0.460755</td>\n",
       "    </tr>\n",
       "    <tr>\n",
       "      <th>std_train_score</th>\n",
       "      <td>0.163386</td>\n",
       "      <td>0.163386</td>\n",
       "      <td>0.163386</td>\n",
       "      <td>0.163386</td>\n",
       "      <td>0.138334</td>\n",
       "    </tr>\n",
       "  </tbody>\n",
       "</table>\n",
       "</div>"
      ],
      "text/plain": [
       "                                               0                            1  \\\n",
       "mean_fit_time                         0.00159354                    0.0015522   \n",
       "std_fit_time                         0.000504244                  0.000452186   \n",
       "mean_score_time                      0.000797129                  0.000791931   \n",
       "std_score_time                       0.000398964                  0.000396211   \n",
       "param_C                                    0.001                        0.001   \n",
       "param_gamma                                0.001                         0.01   \n",
       "params              {'C': 0.001, 'gamma': 0.001}  {'C': 0.001, 'gamma': 0.01}   \n",
       "split0_test_score                       0.352941                     0.352941   \n",
       "split1_test_score                       0.352941                     0.352941   \n",
       "split2_test_score                       0.294118                     0.294118   \n",
       "split3_test_score                       0.647059                     0.647059   \n",
       "split4_test_score                         0.6875                       0.6875   \n",
       "mean_test_score                         0.466912                     0.466912   \n",
       "std_test_score                          0.165498                     0.165498   \n",
       "rank_test_score                               22                           22   \n",
       "split0_train_score                      0.343284                     0.343284   \n",
       "split1_train_score                      0.343284                     0.343284   \n",
       "split2_train_score                      0.358209                     0.358209   \n",
       "split3_train_score                      0.686567                     0.686567   \n",
       "split4_train_score                      0.676471                     0.676471   \n",
       "mean_train_score                        0.481563                     0.481563   \n",
       "std_train_score                         0.163386                     0.163386   \n",
       "\n",
       "                                             2                         3  \\\n",
       "mean_fit_time                       0.00123177                0.00251389   \n",
       "std_fit_time                       0.000384488               0.000626807   \n",
       "mean_score_time                    0.000992918               0.000992823   \n",
       "std_score_time                     2.57962e-05                4.2611e-05   \n",
       "param_C                                  0.001                     0.001   \n",
       "param_gamma                                0.1                         1   \n",
       "params              {'C': 0.001, 'gamma': 0.1}  {'C': 0.001, 'gamma': 1}   \n",
       "split0_test_score                     0.352941                  0.352941   \n",
       "split1_test_score                     0.352941                  0.352941   \n",
       "split2_test_score                     0.294118                  0.294118   \n",
       "split3_test_score                     0.647059                  0.647059   \n",
       "split4_test_score                       0.6875                    0.6875   \n",
       "mean_test_score                       0.466912                  0.466912   \n",
       "std_test_score                        0.165498                  0.165498   \n",
       "rank_test_score                             22                        22   \n",
       "split0_train_score                    0.343284                  0.343284   \n",
       "split1_train_score                    0.343284                  0.343284   \n",
       "split2_train_score                    0.358209                  0.358209   \n",
       "split3_train_score                    0.686567                  0.686567   \n",
       "split4_train_score                    0.676471                  0.676471   \n",
       "mean_train_score                      0.481563                  0.481563   \n",
       "std_train_score                       0.163386                  0.163386   \n",
       "\n",
       "                                            4  \n",
       "mean_fit_time                      0.00242729  \n",
       "std_fit_time                      0.000451777  \n",
       "mean_score_time                    0.00120873  \n",
       "std_score_time                    0.000414495  \n",
       "param_C                                 0.001  \n",
       "param_gamma                                10  \n",
       "params              {'C': 0.001, 'gamma': 10}  \n",
       "split0_test_score                    0.352941  \n",
       "split1_test_score                    0.352941  \n",
       "split2_test_score                    0.294118  \n",
       "split3_test_score                    0.470588  \n",
       "split4_test_score                      0.6875  \n",
       "mean_test_score                      0.431618  \n",
       "std_test_score                         0.1402  \n",
       "rank_test_score                            31  \n",
       "split0_train_score                   0.343284  \n",
       "split1_train_score                   0.343284  \n",
       "split2_train_score                   0.358209  \n",
       "split3_train_score                    0.61194  \n",
       "split4_train_score                   0.647059  \n",
       "mean_train_score                     0.460755  \n",
       "std_train_score                      0.138334  "
      ]
     },
     "metadata": {},
     "output_type": "display_data"
    }
   ],
   "source": [
    "display(np.transpose(results.head()))"
   ]
  },
  {
   "cell_type": "code",
   "execution_count": 71,
   "metadata": {},
   "outputs": [
    {
     "data": {
      "text/plain": [
       "<matplotlib.collections.PolyCollection at 0x25bb7916880>"
      ]
     },
     "execution_count": 71,
     "metadata": {},
     "output_type": "execute_result"
    },
    {
     "data": {
      "image/png": "[encoded data removed]",
      "text/plain": [
       "<Figure size 432x288 with 1 Axes>"
      ]
     },
     "metadata": {
      "needs_background": "light"
     },
     "output_type": "display_data"
    }
   ],
   "source": [
    "scores = np.array(results.mean_test_score).reshape(6,6)\n",
    "\n",
    "# 교차 검증 평균 점수 히트맵 그래프\n",
    "mglearn.tools.heatmap(scores, \n",
    "                      xlabel='gamma', xticklabels=param_grid['gamma'],\n",
    "                      ylabel='C', yticklabels=param_grid['C'],\n",
    "                      cmap='viridis'            \n",
    "                      )"
   ]
  },
  {
   "cell_type": "code",
   "execution_count": 1,
   "metadata": {},
   "outputs": [],
   "source": [
    "from sklearn.model_selection import GridSearchCV\n",
    "from sklearn.svm import SVC\n",
    "import pandas as pd"
   ]
  },
  {
   "cell_type": "code",
   "execution_count": 2,
   "metadata": {},
   "outputs": [],
   "source": [
    "from sklearn.datasets import load_iris\n",
    "from sklearn.model_selection import train_test_split\n",
    "iris = load_iris()"
   ]
  },
  {
   "cell_type": "code",
   "execution_count": 3,
   "metadata": {},
   "outputs": [],
   "source": [
    "X_train, X_test, y_train, y_test = train_test_split(iris.data, iris.target,\n",
    "                                                    random_state=0)"
   ]
  },
  {
   "cell_type": "code",
   "execution_count": 4,
   "metadata": {},
   "outputs": [
    {
     "name": "stdout",
     "output_type": "stream",
     "text": [
      "그리드 목록:\n",
      "[{'kernel': ['rbf'], 'C': [0.001, 0.01, 0.1, 1, 10, 100], 'gamma': [0.001, 0.01, 0.1, 1, 10, 100]}, {'kernel': ['linear'], 'C': [0.001, 0.01, 0.1, 1, 10, 100]}]\n"
     ]
    }
   ],
   "source": [
    "param_grid = [{'kernel': ['rbf'],\n",
    "               'C': [0.001, 0.01, 0.1, 1, 10, 100],\n",
    "               'gamma': [0.001, 0.01, 0.1, 1, 10, 100]},\n",
    "              \n",
    "              {'kernel': ['linear'],\n",
    "               'C': [0.001, 0.01, 0.1, 1, 10, 100]}]\n",
    "\n",
    "print(\"그리드 목록:\\n{}\".format(param_grid))"
   ]
  },
  {
   "cell_type": "code",
   "execution_count": 5,
   "metadata": {},
   "outputs": [
    {
     "name": "stdout",
     "output_type": "stream",
     "text": [
      "최적 파라미터: {'C': 10, 'gamma': 0.1, 'kernel': 'rbf'}\n",
      "최고 교차 검증 점수: 0.97\n"
     ]
    }
   ],
   "source": [
    "grid_search = GridSearchCV(SVC(), param_grid, cv=5, return_train_score=True)\n",
    "grid_search.fit(X_train, y_train)\n",
    "print(\"최적 파라미터: {}\".format(grid_search.best_params_))\n",
    "print(\"최고 교차 검증 점수: {:.2f}\".format(grid_search.best_score_))"
   ]
  },
  {
   "cell_type": "code",
   "execution_count": null,
   "metadata": {},
   "outputs": [],
   "source": []
  }
 ],
 "metadata": {
  "kernelspec": {
   "display_name": "Python 3",
   "language": "python",
   "name": "python3"
  },
  "language_info": {
   "codemirror_mode": {
    "name": "ipython",
    "version": 3
   },
   "file_extension": ".py",
   "mimetype": "text/x-python",
   "name": "python",
   "nbconvert_exporter": "python",
   "pygments_lexer": "ipython3",
   "version": "3.8.3"
  }
 },
 "nbformat": 4,
 "nbformat_minor": 4
}
